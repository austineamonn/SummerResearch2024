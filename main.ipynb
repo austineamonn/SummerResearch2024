{
 "cells": [
  {
   "cell_type": "markdown",
   "metadata": {},
   "source": [
    "# Set Up\n",
    "\n",
    "You can either run this notebook on Jupyter or in google colab. Due to the slightly different file structure after uploading to colab, the import sections have two options: one for Jupyter Notebooks and one for Google Colab. Only run the version for whichever you are using. Otherwise you will get a 'ModuleNotFoundError' error.\n",
    "\n",
    "***\n",
    "\n",
    "## Jupyter Notebook\n",
    "\n",
    "Make sure you are running this in a virtual environment! Otherwise you may cause problems to your main device. \n",
    "\n",
    "Look up how to create a virtual environment if you don't know how.\n",
    "\n",
    "Then in your virtual environment run the following lines:\n",
    "\n",
    "***\n",
    "\n",
    "pip install jupyter\n",
    "\n",
    "pip install ipykernel\n",
    "\n",
    "python -m ipykernel install --user --name=myenv --display-name \"Python (myenv)\"\n",
    "\n",
    "pip install tensorflow\n",
    "\n",
    "pip install shap\n",
    "\n",
    "***\n",
    "\n",
    "The lines will install different packages and libraries that you need for this notebook. I may have forgotten some in which case you can likely just pip install \"name of package\" in the same format as above.\n",
    "\n",
    "Also, make sure to download all the files called here and every file in the 'data_files_for_data_construction' folder. Ideally you just download the whole github, but some of the CSV files are rather large.\n",
    "\n",
    "***\n",
    "\n",
    "## Google Colab\n",
    "\n",
    "For colab you need to clone the github in your colab file."
   ]
  },
  {
   "cell_type": "code",
   "execution_count": null,
   "metadata": {},
   "outputs": [],
   "source": [
    "# Only run if using Google Colab\n",
    "!git clone https://github.com/austineamonn/SummerResearch2024"
   ]
  },
  {
   "cell_type": "markdown",
   "metadata": {},
   "source": [
    "## Import Standard Libraries\n",
    "\n",
    "Before we begin we have some standard python libraries to import that we will use throughout this notebook."
   ]
  },
  {
   "cell_type": "code",
   "execution_count": 1,
   "metadata": {},
   "outputs": [],
   "source": [
    "import pandas as pd\n",
    "import time"
   ]
  },
  {
   "cell_type": "markdown",
   "metadata": {},
   "source": [
    "# Data Generation and Preprocessing\n",
    "\n",
    "Before we can begin comparing privatization methods we have to generate, preprocess and privatize the data."
   ]
  },
  {
   "cell_type": "markdown",
   "metadata": {},
   "source": [
    "## Synthetic Data Generation\n",
    "\n",
    "There was no existing dataset that contained the data needed for this project. Thus first we must generate a synthetic dataset. The dataset will be generated based on a variety of real data, mappings between datasets, and artificially generated lists. \n",
    "\n",
    "First we import the Data class which contains all the data needed to generate the synthetic dataset.\n",
    "\n",
    "Next we import the DataGenerator class for the CPU. Note that a version does exist that runs on the GPU."
   ]
  },
  {
   "cell_type": "code",
   "execution_count": 2,
   "metadata": {},
   "outputs": [],
   "source": [
    "# Run this for Jupyter Notebook\n",
    "from datafiles_for_data_construction.data import Data\n",
    "from data_generation.data_generation_CPU import DataGenerator"
   ]
  },
  {
   "cell_type": "code",
   "execution_count": null,
   "metadata": {},
   "outputs": [],
   "source": [
    "# Run this for Google Colab\n",
    "from SummerResearch2024.datafiles_for_data_construction.data import Data\n",
    "from SummerResearch2024.data_generation.data_generation_CPU import DataGenerator"
   ]
  },
  {
   "cell_type": "markdown",
   "metadata": {},
   "source": [
    "Next, we instantiate the Data and DataGenerator classes. The Data class allows us to access all the data needed to generate the synthetic dataset and the DataGenerator class allows us to use the functions needed to generate the synthetic dataset."
   ]
  },
  {
   "cell_type": "code",
   "execution_count": 3,
   "metadata": {},
   "outputs": [],
   "source": [
    "data = Data()\n",
    "data_generator = DataGenerator(data)"
   ]
  },
  {
   "cell_type": "markdown",
   "metadata": {},
   "source": [
    "What does the data look like? Some of the data is a list of values. Some lists were generated synthetically, others were pulled from various sources. More information can be found in the README file. Here is a list of learning styles:"
   ]
  },
  {
   "cell_type": "code",
   "execution_count": 4,
   "metadata": {},
   "outputs": [
    {
     "data": {
      "text/plain": [
       "['Visual', 'Auditory', 'Read/Write', 'Kinesthetic']"
      ]
     },
     "execution_count": 4,
     "metadata": {},
     "output_type": "execute_result"
    }
   ],
   "source": [
    "data.learning_style()[\"learning_style_list\"]"
   ]
  },
  {
   "cell_type": "markdown",
   "metadata": {},
   "source": [
    "Some of the data is a dictionary. Some dictionaries map different lists together while others map lists to demographic statistics on how common each item is. This dictionary maps the learning styles to the percentage of people that have said style."
   ]
  },
  {
   "cell_type": "code",
   "execution_count": 5,
   "metadata": {},
   "outputs": [
    {
     "data": {
      "text/plain": [
       "{'Visual': 27.27, 'Auditory': 23.56, 'Read/Write': 21.16, 'Kinesthetic': 28.01}"
      ]
     },
     "execution_count": 5,
     "metadata": {},
     "output_type": "execute_result"
    }
   ],
   "source": [
    "data.learning_style()[\"learning_style\"]"
   ]
  },
  {
   "cell_type": "markdown",
   "metadata": {},
   "source": [
    "Now we use the generate_synthetic_dataset function to create a dataset from all the data. This function has two inputs:\n",
    "- number of samples (an integer) which tell the function how many 'students' we want in our dataset\n",
    "- batch size (an integer) which tells the function how to split up the work to prevent overloading the computer.\n",
    "You can change the values if you want to generate more or less data. Be careful as higher values for number of samples will lead to a longer runtime."
   ]
  },
  {
   "cell_type": "code",
   "execution_count": 6,
   "metadata": {},
   "outputs": [],
   "source": [
    "num_samples = 100 # You can change these values if you want\n",
    "batch_size = 10 # Batch size should be about 1/10 of the number of samples"
   ]
  },
  {
   "cell_type": "markdown",
   "metadata": {},
   "source": [
    "Now we call the function. Use the time library to see how long the generator takes."
   ]
  },
  {
   "cell_type": "code",
   "execution_count": 7,
   "metadata": {},
   "outputs": [
    {
     "name": "stdout",
     "output_type": "stream",
     "text": [
      "14.826297044754028\n"
     ]
    }
   ],
   "source": [
    "start_time = time.time()\n",
    "synthetic_data = data_generator.generate_synthetic_dataset(num_samples, batch_size)\n",
    "end_time = time.time()\n",
    "runtime = end_time - start_time\n",
    "print(runtime)"
   ]
  },
  {
   "cell_type": "markdown",
   "metadata": {},
   "source": [
    "'generate_synthetic_dataset' outputs a pandas dataframe. Let's examine closely the file dataframe structure."
   ]
  },
  {
   "cell_type": "code",
   "execution_count": 8,
   "metadata": {},
   "outputs": [
    {
     "name": "stdout",
     "output_type": "stream",
     "text": [
      "<class 'pandas.core.frame.DataFrame'>\n",
      "RangeIndex: 100 entries, 0 to 99\n",
      "Data columns (total 17 columns):\n",
      " #   Column                      Non-Null Count  Dtype  \n",
      "---  ------                      --------------  -----  \n",
      " 0   first name                  100 non-null    object \n",
      " 1   last name                   100 non-null    object \n",
      " 2   ethnoracial group           100 non-null    object \n",
      " 3   gender                      100 non-null    object \n",
      " 4   international status        100 non-null    object \n",
      " 5   socioeconomic status        100 non-null    object \n",
      " 6   learning style              100 non-null    object \n",
      " 7   gpa                         92 non-null     float64\n",
      " 8   student semester            100 non-null    int64  \n",
      " 9   major                       100 non-null    object \n",
      " 10  previous courses            100 non-null    object \n",
      " 11  course types                100 non-null    object \n",
      " 12  course subjects             100 non-null    object \n",
      " 13  subjects of interest        100 non-null    object \n",
      " 14  extracurricular activities  100 non-null    object \n",
      " 15  career aspirations          100 non-null    object \n",
      " 16  future topics               100 non-null    object \n",
      "dtypes: float64(1), int64(1), object(15)\n",
      "memory usage: 13.4+ KB\n"
     ]
    }
   ],
   "source": [
    "synthetic_data.info(verbose=True)"
   ]
  },
  {
   "cell_type": "markdown",
   "metadata": {},
   "source": [
    "Let's look at the top 5 elements of the dataframe. You can look back at the README file to get a better sense of what each column contains and how it was generated."
   ]
  },
  {
   "cell_type": "code",
   "execution_count": 9,
   "metadata": {},
   "outputs": [
    {
     "data": {
      "text/html": [
       "<div>\n",
       "<style scoped>\n",
       "    .dataframe tbody tr th:only-of-type {\n",
       "        vertical-align: middle;\n",
       "    }\n",
       "\n",
       "    .dataframe tbody tr th {\n",
       "        vertical-align: top;\n",
       "    }\n",
       "\n",
       "    .dataframe thead th {\n",
       "        text-align: right;\n",
       "    }\n",
       "</style>\n",
       "<table border=\"1\" class=\"dataframe\">\n",
       "  <thead>\n",
       "    <tr style=\"text-align: right;\">\n",
       "      <th></th>\n",
       "      <th>first name</th>\n",
       "      <th>last name</th>\n",
       "      <th>ethnoracial group</th>\n",
       "      <th>gender</th>\n",
       "      <th>international status</th>\n",
       "      <th>socioeconomic status</th>\n",
       "      <th>learning style</th>\n",
       "      <th>gpa</th>\n",
       "      <th>student semester</th>\n",
       "      <th>major</th>\n",
       "      <th>previous courses</th>\n",
       "      <th>course types</th>\n",
       "      <th>course subjects</th>\n",
       "      <th>subjects of interest</th>\n",
       "      <th>extracurricular activities</th>\n",
       "      <th>career aspirations</th>\n",
       "      <th>future topics</th>\n",
       "    </tr>\n",
       "  </thead>\n",
       "  <tbody>\n",
       "    <tr>\n",
       "      <th>0</th>\n",
       "      <td>Meilin</td>\n",
       "      <td>Kelzenberg</td>\n",
       "      <td>European American or white</td>\n",
       "      <td>Nonbinary</td>\n",
       "      <td>Domestic</td>\n",
       "      <td>In poverty</td>\n",
       "      <td>[Auditory]</td>\n",
       "      <td>3.82</td>\n",
       "      <td>8</td>\n",
       "      <td>[Business Economics, General Business]</td>\n",
       "      <td>[Elementary French I, Undergraduate Open Semin...</td>\n",
       "      <td>[[Studio], [Laboratory-Discussion, Online], [L...</td>\n",
       "      <td>[HDFS, PS, ACE, AE, ME, NRES, PHYS, DTX, CHEM,...</td>\n",
       "      <td>[Comparative World Literature, Aerospace Engin...</td>\n",
       "      <td>[Computer Science Club, Finance Club, Marketin...</td>\n",
       "      <td>[Financial Manager, Personal Financial Advisor...</td>\n",
       "      <td>[Economics, Business Administration, Business,...</td>\n",
       "    </tr>\n",
       "    <tr>\n",
       "      <th>1</th>\n",
       "      <td>Culley</td>\n",
       "      <td>Josef</td>\n",
       "      <td>African American or Black</td>\n",
       "      <td>Male</td>\n",
       "      <td>Domestic</td>\n",
       "      <td>In poverty</td>\n",
       "      <td>[Auditory]</td>\n",
       "      <td>2.10</td>\n",
       "      <td>6</td>\n",
       "      <td>[Communications]</td>\n",
       "      <td>[Intro to Human Development, Writing and Resea...</td>\n",
       "      <td>[[Laboratory], [Online], [Discussion/Recitatio...</td>\n",
       "      <td>[TAM, HDFS, PHIL, EDUC, PS, ACCY, BTW, MUSC, P...</td>\n",
       "      <td>[Human Development and Family Studies, Kinesio...</td>\n",
       "      <td>[Communications Club, Media Club, Broadcasting...</td>\n",
       "      <td>[Broadcast and Sound Engineering Technician an...</td>\n",
       "      <td>[Political Science, Marketing, Journalism, Lin...</td>\n",
       "    </tr>\n",
       "    <tr>\n",
       "      <th>2</th>\n",
       "      <td>Londynn</td>\n",
       "      <td>Mus</td>\n",
       "      <td>African American or Black</td>\n",
       "      <td>Female</td>\n",
       "      <td>Domestic</td>\n",
       "      <td>In poverty</td>\n",
       "      <td>[Kinesthetic]</td>\n",
       "      <td>2.76</td>\n",
       "      <td>4</td>\n",
       "      <td>[Psychology]</td>\n",
       "      <td>[Individual and Dual Activities, Undergraduate...</td>\n",
       "      <td>[[Lecture-Discussion, Online], [Lecture-Discus...</td>\n",
       "      <td>[ATMS, LAS, BTW, AFRO, PHYS, CHLH, EDUC, FAA, ...</td>\n",
       "      <td>[Physics, Astronomy, Atmospheric Sciences, Psy...</td>\n",
       "      <td>[Student Government Association, Psychology Cl...</td>\n",
       "      <td>[Counselor, Clinical Laboratory Technologist a...</td>\n",
       "      <td>[Cognitive Science, Psychology, Counseling Psy...</td>\n",
       "    </tr>\n",
       "    <tr>\n",
       "      <th>3</th>\n",
       "      <td>Anjeli</td>\n",
       "      <td>Khattab</td>\n",
       "      <td>European American or white</td>\n",
       "      <td>Female</td>\n",
       "      <td>Domestic</td>\n",
       "      <td>Lower-middle income</td>\n",
       "      <td>[Auditory]</td>\n",
       "      <td>2.74</td>\n",
       "      <td>10</td>\n",
       "      <td>[Nursing]</td>\n",
       "      <td>[Undergraduate Open Seminar, Organismal and Ev...</td>\n",
       "      <td>[[Lecture, Laboratory-Discussion], [Lecture, P...</td>\n",
       "      <td>[LLS, GGIS, PHIL, SPAN, FSHN, AE, MCB, KIN, AA...</td>\n",
       "      <td>[Medicine, Business, Nursing]</td>\n",
       "      <td>[Nursing Students Association, Health Administ...</td>\n",
       "      <td>[Registered Nurse, Nursing, Psychiatric, and H...</td>\n",
       "      <td>[Medicine, Biomedical Engineering, Biology, Ne...</td>\n",
       "    </tr>\n",
       "    <tr>\n",
       "      <th>4</th>\n",
       "      <td>Alyse</td>\n",
       "      <td>Bytheway</td>\n",
       "      <td>European American or white</td>\n",
       "      <td>Female</td>\n",
       "      <td>Domestic</td>\n",
       "      <td>Near poverty</td>\n",
       "      <td>[Visual]</td>\n",
       "      <td>2.12</td>\n",
       "      <td>12</td>\n",
       "      <td>[Miscellaneous Social Sciences, Secondary Teac...</td>\n",
       "      <td>[Public Speaking, DGS Honors Seminar, Stars an...</td>\n",
       "      <td>[[Lecture-Discussion, Lecture], [Laboratory], ...</td>\n",
       "      <td>[LAS, BIOC, ADV, JAPN, SPAN, PS, ACE, ECON, HI...</td>\n",
       "      <td>[Education, Special Education, History, Gender...</td>\n",
       "      <td>[Social Sciences Club, Education Society, Soro...</td>\n",
       "      <td>[Childcare Worker, Postsecondary Teacher, Pres...</td>\n",
       "      <td>[Psychology, Education, Social Sciences, Human...</td>\n",
       "    </tr>\n",
       "  </tbody>\n",
       "</table>\n",
       "</div>"
      ],
      "text/plain": [
       "  first name   last name           ethnoracial group     gender  \\\n",
       "0     Meilin  Kelzenberg  European American or white  Nonbinary   \n",
       "1     Culley       Josef   African American or Black       Male   \n",
       "2    Londynn         Mus   African American or Black     Female   \n",
       "3     Anjeli     Khattab  European American or white     Female   \n",
       "4      Alyse    Bytheway  European American or white     Female   \n",
       "\n",
       "  international status socioeconomic status learning style   gpa  \\\n",
       "0             Domestic           In poverty     [Auditory]  3.82   \n",
       "1             Domestic           In poverty     [Auditory]  2.10   \n",
       "2             Domestic           In poverty  [Kinesthetic]  2.76   \n",
       "3             Domestic  Lower-middle income     [Auditory]  2.74   \n",
       "4             Domestic         Near poverty       [Visual]  2.12   \n",
       "\n",
       "   student semester                                              major  \\\n",
       "0                 8             [Business Economics, General Business]   \n",
       "1                 6                                   [Communications]   \n",
       "2                 4                                       [Psychology]   \n",
       "3                10                                          [Nursing]   \n",
       "4                12  [Miscellaneous Social Sciences, Secondary Teac...   \n",
       "\n",
       "                                    previous courses  \\\n",
       "0  [Elementary French I, Undergraduate Open Semin...   \n",
       "1  [Intro to Human Development, Writing and Resea...   \n",
       "2  [Individual and Dual Activities, Undergraduate...   \n",
       "3  [Undergraduate Open Seminar, Organismal and Ev...   \n",
       "4  [Public Speaking, DGS Honors Seminar, Stars an...   \n",
       "\n",
       "                                        course types  \\\n",
       "0  [[Studio], [Laboratory-Discussion, Online], [L...   \n",
       "1  [[Laboratory], [Online], [Discussion/Recitatio...   \n",
       "2  [[Lecture-Discussion, Online], [Lecture-Discus...   \n",
       "3  [[Lecture, Laboratory-Discussion], [Lecture, P...   \n",
       "4  [[Lecture-Discussion, Lecture], [Laboratory], ...   \n",
       "\n",
       "                                     course subjects  \\\n",
       "0  [HDFS, PS, ACE, AE, ME, NRES, PHYS, DTX, CHEM,...   \n",
       "1  [TAM, HDFS, PHIL, EDUC, PS, ACCY, BTW, MUSC, P...   \n",
       "2  [ATMS, LAS, BTW, AFRO, PHYS, CHLH, EDUC, FAA, ...   \n",
       "3  [LLS, GGIS, PHIL, SPAN, FSHN, AE, MCB, KIN, AA...   \n",
       "4  [LAS, BIOC, ADV, JAPN, SPAN, PS, ACE, ECON, HI...   \n",
       "\n",
       "                                subjects of interest  \\\n",
       "0  [Comparative World Literature, Aerospace Engin...   \n",
       "1  [Human Development and Family Studies, Kinesio...   \n",
       "2  [Physics, Astronomy, Atmospheric Sciences, Psy...   \n",
       "3                      [Medicine, Business, Nursing]   \n",
       "4  [Education, Special Education, History, Gender...   \n",
       "\n",
       "                          extracurricular activities  \\\n",
       "0  [Computer Science Club, Finance Club, Marketin...   \n",
       "1  [Communications Club, Media Club, Broadcasting...   \n",
       "2  [Student Government Association, Psychology Cl...   \n",
       "3  [Nursing Students Association, Health Administ...   \n",
       "4  [Social Sciences Club, Education Society, Soro...   \n",
       "\n",
       "                                  career aspirations  \\\n",
       "0  [Financial Manager, Personal Financial Advisor...   \n",
       "1  [Broadcast and Sound Engineering Technician an...   \n",
       "2  [Counselor, Clinical Laboratory Technologist a...   \n",
       "3  [Registered Nurse, Nursing, Psychiatric, and H...   \n",
       "4  [Childcare Worker, Postsecondary Teacher, Pres...   \n",
       "\n",
       "                                       future topics  \n",
       "0  [Economics, Business Administration, Business,...  \n",
       "1  [Political Science, Marketing, Journalism, Lin...  \n",
       "2  [Cognitive Science, Psychology, Counseling Psy...  \n",
       "3  [Medicine, Biomedical Engineering, Biology, Ne...  \n",
       "4  [Psychology, Education, Social Sciences, Human...  "
      ]
     },
     "execution_count": 9,
     "metadata": {},
     "output_type": "execute_result"
    }
   ],
   "source": [
    "synthetic_data.head(n=5) # Change n to larger numbers to see more rows of the dataframe"
   ]
  },
  {
   "cell_type": "markdown",
   "metadata": {},
   "source": [
    "## Data Preprocessing\n",
    "\n",
    "Notice that we have columns that are lists and columns that are strings. Machine learning models need the input data to be numerical. Thus some data preprocessing is required.\n",
    "\n",
    "We import the Preprocessing class to do the preprocessing work."
   ]
  },
  {
   "cell_type": "code",
   "execution_count": 10,
   "metadata": {},
   "outputs": [],
   "source": [
    "# Run this for Jupyter Notebook\n",
    "from data_preprocessing.preprocessing import PreProcessing"
   ]
  },
  {
   "cell_type": "code",
   "execution_count": null,
   "metadata": {},
   "outputs": [],
   "source": [
    "# Run this for Google Colab\n",
    "from SummerResearch2024.data_preprocessing.preprocessing import PreProcessing"
   ]
  },
  {
   "cell_type": "markdown",
   "metadata": {},
   "source": [
    "Inside the Preprocessing class there are two functions that do the main preprocessing work:\n",
    "- 'stringlist_to_binarylist': converts lists of strings into a binary list\n",
    "- 'string_list_to_numberedlist': converts lits of strings into a numbered list.\n",
    "\n",
    "Imagine the full options available are ['alice', 'bob', 'charlie']\n",
    "Thus for the entry ['alice', 'charlie'] we get:\n",
    "[1,0,1] for 'stringlist_to_binarylist'\n",
    "[0,2] for 'string_list_to_numberedlist'\n",
    "\n",
    "When we instantiate the class and call the 'preprocess_dataset' function both of the above functions will be called on certain columns. 'stringlist_to_binarylist' is called on 'learning styles' and 'string_list_to_numberedlist' is called on all the other lists."
   ]
  },
  {
   "cell_type": "code",
   "execution_count": 11,
   "metadata": {},
   "outputs": [
    {
     "name": "stdout",
     "output_type": "stream",
     "text": [
      "0.11820602416992188\n"
     ]
    }
   ],
   "source": [
    "preprocessor = PreProcessing(data)\n",
    "start_time = time.time()\n",
    "preprocessed_data = preprocessor.preprocess_dataset(synthetic_data)\n",
    "end_time = time.time()\n",
    "runtime = end_time - start_time\n",
    "print(runtime)"
   ]
  },
  {
   "cell_type": "markdown",
   "metadata": {},
   "source": [
    "'preprocess_dataset' outputs a pandas dataframe. Let's examine closely the file dataframe structure to see how it has changed after preprocessing."
   ]
  },
  {
   "cell_type": "code",
   "execution_count": 12,
   "metadata": {},
   "outputs": [
    {
     "name": "stdout",
     "output_type": "stream",
     "text": [
      "<class 'pandas.core.frame.DataFrame'>\n",
      "RangeIndex: 100 entries, 0 to 99\n",
      "Data columns (total 11 columns):\n",
      " #   Column                      Non-Null Count  Dtype  \n",
      "---  ------                      --------------  -----  \n",
      " 0   learning style              100 non-null    object \n",
      " 1   gpa                         92 non-null     float64\n",
      " 2   student semester            100 non-null    int64  \n",
      " 3   major                       100 non-null    object \n",
      " 4   previous courses            100 non-null    object \n",
      " 5   course types                100 non-null    object \n",
      " 6   course subjects             100 non-null    object \n",
      " 7   subjects of interest        100 non-null    object \n",
      " 8   extracurricular activities  100 non-null    object \n",
      " 9   career aspirations          100 non-null    object \n",
      " 10  future topics               100 non-null    object \n",
      "dtypes: float64(1), int64(1), object(9)\n",
      "memory usage: 8.7+ KB\n"
     ]
    }
   ],
   "source": [
    "preprocessed_data.info(verbose=True)"
   ]
  },
  {
   "cell_type": "markdown",
   "metadata": {},
   "source": [
    "Now let's look at the top 5 elements of the dataframe."
   ]
  },
  {
   "cell_type": "code",
   "execution_count": 13,
   "metadata": {
    "scrolled": true
   },
   "outputs": [
    {
     "data": {
      "text/html": [
       "<div>\n",
       "<style scoped>\n",
       "    .dataframe tbody tr th:only-of-type {\n",
       "        vertical-align: middle;\n",
       "    }\n",
       "\n",
       "    .dataframe tbody tr th {\n",
       "        vertical-align: top;\n",
       "    }\n",
       "\n",
       "    .dataframe thead th {\n",
       "        text-align: right;\n",
       "    }\n",
       "</style>\n",
       "<table border=\"1\" class=\"dataframe\">\n",
       "  <thead>\n",
       "    <tr style=\"text-align: right;\">\n",
       "      <th></th>\n",
       "      <th>learning style</th>\n",
       "      <th>gpa</th>\n",
       "      <th>student semester</th>\n",
       "      <th>major</th>\n",
       "      <th>previous courses</th>\n",
       "      <th>course types</th>\n",
       "      <th>course subjects</th>\n",
       "      <th>subjects of interest</th>\n",
       "      <th>extracurricular activities</th>\n",
       "      <th>career aspirations</th>\n",
       "      <th>future topics</th>\n",
       "    </tr>\n",
       "  </thead>\n",
       "  <tbody>\n",
       "    <tr>\n",
       "      <th>0</th>\n",
       "      <td>[0, 1, 0, 0]</td>\n",
       "      <td>3.82</td>\n",
       "      <td>8</td>\n",
       "      <td>[21, 70]</td>\n",
       "      <td>[1009, 3338, 3339, 1923, 3338, 1884, 2199, 872...</td>\n",
       "      <td>[0, 4, 5, 10, 1, 2, 3, 7, 6, 14, 17, 15]</td>\n",
       "      <td>[98, 228, 3, 6, 132, 216, 147, 62, 46, 18, 123...</td>\n",
       "      <td>[55, 36, 9, 21, 34]</td>\n",
       "      <td>[70, 96, 67, 64, 60, 112, 75, 170, 221, 74]</td>\n",
       "      <td>[56, 104, 33, 0, 62, 95, 125, 17, 2, 98, 128, ...</td>\n",
       "      <td>[47, 27, 26, 68, 107]</td>\n",
       "    </tr>\n",
       "    <tr>\n",
       "      <th>1</th>\n",
       "      <td>[0, 1, 0, 0]</td>\n",
       "      <td>2.10</td>\n",
       "      <td>6</td>\n",
       "      <td>[31]</td>\n",
       "      <td>[1773, 3461, 3309, 3104, 3338, 1871, 3127, 192...</td>\n",
       "      <td>[0, 5, 1, 2, 3, 6, 20, 17]</td>\n",
       "      <td>[207, 98, 146, 67, 228, 2, 39, 138, 147, 206, ...</td>\n",
       "      <td>[77, 31, 72, 23, 8]</td>\n",
       "      <td>[89, 88, 41, 73, 206, 74, 67]</td>\n",
       "      <td>[18, 69, 116, 136, 83, 137, 82]</td>\n",
       "      <td>[132, 107, 92, 103, 111]</td>\n",
       "    </tr>\n",
       "    <tr>\n",
       "      <th>2</th>\n",
       "      <td>[0, 0, 0, 1]</td>\n",
       "      <td>2.76</td>\n",
       "      <td>4</td>\n",
       "      <td>[152]</td>\n",
       "      <td>[1594, 3338, 1158, 1821, 606, 3386, 1352, 3352...</td>\n",
       "      <td>[0, 5, 1, 2, 3, 11, 17]</td>\n",
       "      <td>[29, 117, 39, 8, 147, 48, 67, 82, 102, 105, 10...</td>\n",
       "      <td>[0, 17, 47, 10]</td>\n",
       "      <td>[58, 32, 63, 82]</td>\n",
       "      <td>[38, 30, 144, 67, 16, 12]</td>\n",
       "      <td>[33, 169, 171, 148, 48]</td>\n",
       "    </tr>\n",
       "    <tr>\n",
       "      <th>3</th>\n",
       "      <td>[0, 1, 0, 0]</td>\n",
       "      <td>2.74</td>\n",
       "      <td>10</td>\n",
       "      <td>[135]</td>\n",
       "      <td>[3338, 2370, 1861, 1884, 816, 606, 1516, 1668,...</td>\n",
       "      <td>[9, 0, 4, 5, 10, 1, 2, 3, 6, 18, 20]</td>\n",
       "      <td>[125, 90, 146, 158, 86, 6, 129, 114, 0, 71, 21...</td>\n",
       "      <td>[19, 21, 125]</td>\n",
       "      <td>[6, 114, 63, 123, 82, 68, 70, 96]</td>\n",
       "      <td>[122, 97, 90, 67, 16, 32, 66, 110]</td>\n",
       "      <td>[114, 24, 25, 122, 134]</td>\n",
       "    </tr>\n",
       "    <tr>\n",
       "      <th>4</th>\n",
       "      <td>[1, 0, 0, 0]</td>\n",
       "      <td>2.12</td>\n",
       "      <td>12</td>\n",
       "      <td>[125, 157]</td>\n",
       "      <td>[2615, 790, 3029, 2956, 1923, 1959, 1811, 2371...</td>\n",
       "      <td>[9, 0, 4, 5, 10, 1, 2, 3, 7, 20, 17]</td>\n",
       "      <td>[117, 35, 5, 111, 158, 228, 3, 65, 100, 132, 1...</td>\n",
       "      <td>[22, 107, 4, 72, 8, 3]</td>\n",
       "      <td>[107, 71, 9, 260, 99, 114, 120, 69, 44, 73, 15]</td>\n",
       "      <td>[26, 112, 114, 50, 142, 136, 138, 66, 130, 101...</td>\n",
       "      <td>[169, 48, 191, 86, 223]</td>\n",
       "    </tr>\n",
       "  </tbody>\n",
       "</table>\n",
       "</div>"
      ],
      "text/plain": [
       "  learning style   gpa  student semester       major  \\\n",
       "0   [0, 1, 0, 0]  3.82                 8    [21, 70]   \n",
       "1   [0, 1, 0, 0]  2.10                 6        [31]   \n",
       "2   [0, 0, 0, 1]  2.76                 4       [152]   \n",
       "3   [0, 1, 0, 0]  2.74                10       [135]   \n",
       "4   [1, 0, 0, 0]  2.12                12  [125, 157]   \n",
       "\n",
       "                                    previous courses  \\\n",
       "0  [1009, 3338, 3339, 1923, 3338, 1884, 2199, 872...   \n",
       "1  [1773, 3461, 3309, 3104, 3338, 1871, 3127, 192...   \n",
       "2  [1594, 3338, 1158, 1821, 606, 3386, 1352, 3352...   \n",
       "3  [3338, 2370, 1861, 1884, 816, 606, 1516, 1668,...   \n",
       "4  [2615, 790, 3029, 2956, 1923, 1959, 1811, 2371...   \n",
       "\n",
       "                               course types  \\\n",
       "0  [0, 4, 5, 10, 1, 2, 3, 7, 6, 14, 17, 15]   \n",
       "1                [0, 5, 1, 2, 3, 6, 20, 17]   \n",
       "2                   [0, 5, 1, 2, 3, 11, 17]   \n",
       "3      [9, 0, 4, 5, 10, 1, 2, 3, 6, 18, 20]   \n",
       "4      [9, 0, 4, 5, 10, 1, 2, 3, 7, 20, 17]   \n",
       "\n",
       "                                     course subjects    subjects of interest  \\\n",
       "0  [98, 228, 3, 6, 132, 216, 147, 62, 46, 18, 123...     [55, 36, 9, 21, 34]   \n",
       "1  [207, 98, 146, 67, 228, 2, 39, 138, 147, 206, ...     [77, 31, 72, 23, 8]   \n",
       "2  [29, 117, 39, 8, 147, 48, 67, 82, 102, 105, 10...         [0, 17, 47, 10]   \n",
       "3  [125, 90, 146, 158, 86, 6, 129, 114, 0, 71, 21...           [19, 21, 125]   \n",
       "4  [117, 35, 5, 111, 158, 228, 3, 65, 100, 132, 1...  [22, 107, 4, 72, 8, 3]   \n",
       "\n",
       "                        extracurricular activities  \\\n",
       "0      [70, 96, 67, 64, 60, 112, 75, 170, 221, 74]   \n",
       "1                    [89, 88, 41, 73, 206, 74, 67]   \n",
       "2                                 [58, 32, 63, 82]   \n",
       "3                [6, 114, 63, 123, 82, 68, 70, 96]   \n",
       "4  [107, 71, 9, 260, 99, 114, 120, 69, 44, 73, 15]   \n",
       "\n",
       "                                  career aspirations             future topics  \n",
       "0  [56, 104, 33, 0, 62, 95, 125, 17, 2, 98, 128, ...     [47, 27, 26, 68, 107]  \n",
       "1                    [18, 69, 116, 136, 83, 137, 82]  [132, 107, 92, 103, 111]  \n",
       "2                          [38, 30, 144, 67, 16, 12]   [33, 169, 171, 148, 48]  \n",
       "3                 [122, 97, 90, 67, 16, 32, 66, 110]   [114, 24, 25, 122, 134]  \n",
       "4  [26, 112, 114, 50, 142, 136, 138, 66, 130, 101...   [169, 48, 191, 86, 223]  "
      ]
     },
     "execution_count": 13,
     "metadata": {},
     "output_type": "execute_result"
    }
   ],
   "source": [
    "preprocessed_data.head(n=5) # Change n to larger numbers to see more rows of the dataframe"
   ]
  },
  {
   "cell_type": "markdown",
   "metadata": {},
   "source": [
    "## Data Privatization\n",
    "\n",
    "Now that the data has been preprocessed we must privatize the data to keep it safe.\n",
    "\n",
    "We import the Privatizer class to do this."
   ]
  },
  {
   "cell_type": "code",
   "execution_count": 14,
   "metadata": {},
   "outputs": [],
   "source": [
    "# Run this for Jupyter Notebook\n",
    "from data_privatization.privatization import Privatizer"
   ]
  },
  {
   "cell_type": "code",
   "execution_count": null,
   "metadata": {},
   "outputs": [],
   "source": [
    "# Run this for Google Colab\n",
    "from SummerResearch2024.data_privatization.privatization import Privatizer"
   ]
  },
  {
   "cell_type": "markdown",
   "metadata": {},
   "source": [
    "There are a variety of privatization methods you can try:\n",
    "- Basic Differential Privacy (laplace noise addition)\n",
    "- Uniform Noise Differential Privacy (uniform noise addition)\n",
    "- Shuffling\n",
    "Both Differential Privacy types can be done with or without list lengthening. This means the list columns like 'previous courses' could be lengthened according to the noise addition function. More details can be found in the README file. Let's try basic differential privacy with list lengthening."
   ]
  },
  {
   "cell_type": "code",
   "execution_count": 15,
   "metadata": {},
   "outputs": [],
   "source": [
    "privatization_type = 'basic differential privacy'\n",
    "# Other 'privatization_type' options: 'uniform', 'shuffle', 'full shuffle' (full shuffle shuffles all of the rows)\n",
    "privatizer = Privatizer(data, style=privatization_type, list_length=True)\n",
    "# Can set 'list_length' to false if you don't want to allow the list sizes to change"
   ]
  },
  {
   "cell_type": "markdown",
   "metadata": {},
   "source": [
    "Now we call 'privatize_dataset'. Use the time library to see how long the privatizer takes."
   ]
  },
  {
   "cell_type": "code",
   "execution_count": 16,
   "metadata": {},
   "outputs": [
    {
     "name": "stdout",
     "output_type": "stream",
     "text": [
      "0.021271705627441406\n"
     ]
    }
   ],
   "source": [
    "start_time = time.time()\n",
    "privatized_data = privatizer.privatize_dataset(preprocessed_data)\n",
    "end_time = time.time()\n",
    "runtime = end_time - start_time\n",
    "print(runtime)"
   ]
  },
  {
   "cell_type": "markdown",
   "metadata": {},
   "source": [
    "'privatize_dataset' outputs a pandas dataframe. Let's see how the file has changed after privatization."
   ]
  },
  {
   "cell_type": "code",
   "execution_count": 17,
   "metadata": {},
   "outputs": [
    {
     "name": "stdout",
     "output_type": "stream",
     "text": [
      "<class 'pandas.core.frame.DataFrame'>\n",
      "RangeIndex: 100 entries, 0 to 99\n",
      "Data columns (total 9 columns):\n",
      " #   Column                      Non-Null Count  Dtype  \n",
      "---  ------                      --------------  -----  \n",
      " 0   learning style              100 non-null    object \n",
      " 1   gpa                         92 non-null     float64\n",
      " 2   student semester            100 non-null    int64  \n",
      " 3   major                       100 non-null    object \n",
      " 4   previous courses            100 non-null    object \n",
      " 5   course types                100 non-null    object \n",
      " 6   course subjects             100 non-null    object \n",
      " 7   subjects of interest        100 non-null    object \n",
      " 8   extracurricular activities  100 non-null    object \n",
      "dtypes: float64(1), int64(1), object(7)\n",
      "memory usage: 7.2+ KB\n"
     ]
    }
   ],
   "source": [
    "privatized_data.info(verbose=True)"
   ]
  },
  {
   "cell_type": "markdown",
   "metadata": {},
   "source": [
    "Now let's look at the top 5 elements of the dataframe."
   ]
  },
  {
   "cell_type": "code",
   "execution_count": 18,
   "metadata": {},
   "outputs": [
    {
     "data": {
      "text/html": [
       "<div>\n",
       "<style scoped>\n",
       "    .dataframe tbody tr th:only-of-type {\n",
       "        vertical-align: middle;\n",
       "    }\n",
       "\n",
       "    .dataframe tbody tr th {\n",
       "        vertical-align: top;\n",
       "    }\n",
       "\n",
       "    .dataframe thead th {\n",
       "        text-align: right;\n",
       "    }\n",
       "</style>\n",
       "<table border=\"1\" class=\"dataframe\">\n",
       "  <thead>\n",
       "    <tr style=\"text-align: right;\">\n",
       "      <th></th>\n",
       "      <th>learning style</th>\n",
       "      <th>gpa</th>\n",
       "      <th>student semester</th>\n",
       "      <th>major</th>\n",
       "      <th>previous courses</th>\n",
       "      <th>course types</th>\n",
       "      <th>course subjects</th>\n",
       "      <th>subjects of interest</th>\n",
       "      <th>extracurricular activities</th>\n",
       "    </tr>\n",
       "  </thead>\n",
       "  <tbody>\n",
       "    <tr>\n",
       "      <th>0</th>\n",
       "      <td>[0, 0, 1, 1]</td>\n",
       "      <td>2.06</td>\n",
       "      <td>3</td>\n",
       "      <td>[142, 40]</td>\n",
       "      <td>[1999, 1222, 1690, 1169, 710, 1001, 2422, 1291...</td>\n",
       "      <td>[17, 10, 19, 11, 1, 11, 6, 1, 15, 6, 4, 5, 21,...</td>\n",
       "      <td>[175, 52, 54, 178, 144, 110, 154, 162, 109, 16...</td>\n",
       "      <td>[59, 95]</td>\n",
       "      <td>[196, 298, 290]</td>\n",
       "    </tr>\n",
       "    <tr>\n",
       "      <th>1</th>\n",
       "      <td>[0, 1, 0, 0]</td>\n",
       "      <td>2.55</td>\n",
       "      <td>13</td>\n",
       "      <td>[]</td>\n",
       "      <td>[1549, 2644, 295, 2219, 1567, 972, 2211, 1516,...</td>\n",
       "      <td>[6, 20, 16, 13, 8, 18, 1, 14]</td>\n",
       "      <td>[31, 9, 23, 2, 197, 93, 202, 181]</td>\n",
       "      <td>[76, 12, 37, 55, 112, 39, 91, 71, 17, 83, 88, ...</td>\n",
       "      <td>[296, 167, 47, 89, 248, 283]</td>\n",
       "    </tr>\n",
       "    <tr>\n",
       "      <th>2</th>\n",
       "      <td>[0, 0, 1, 1]</td>\n",
       "      <td>2.95</td>\n",
       "      <td>2</td>\n",
       "      <td>[]</td>\n",
       "      <td>[2191, 1323, 541, 2341, 2341, 1994, 1488, 369,...</td>\n",
       "      <td>[11, 5, 14, 17, 4, 7]</td>\n",
       "      <td>[25, 127, 119, 154, 166, 5, 135, 100, 79, 75, ...</td>\n",
       "      <td>[126, 85, 128, 141, 51, 47, 107, 88, 123, 52, ...</td>\n",
       "      <td>[39, 264, 239, 275]</td>\n",
       "    </tr>\n",
       "    <tr>\n",
       "      <th>3</th>\n",
       "      <td>[1, 0, 0, 1]</td>\n",
       "      <td>2.25</td>\n",
       "      <td>10</td>\n",
       "      <td>[97]</td>\n",
       "      <td>[2706, 498, 1359, 1520, 2094, 2580, 3262, 637]</td>\n",
       "      <td>[1, 20, 8, 20, 20, 7, 13]</td>\n",
       "      <td>[80, 150, 99, 75, 25, 52, 121, 87, 183, 77, 94...</td>\n",
       "      <td>[6, 120, 110, 37, 67, 10, 38, 78, 54, 99, 112,...</td>\n",
       "      <td>[272, 40, 25, 53, 254, 259, 276, 133, 19, 71, ...</td>\n",
       "    </tr>\n",
       "    <tr>\n",
       "      <th>4</th>\n",
       "      <td>[0, 0, 1, 0]</td>\n",
       "      <td>2.90</td>\n",
       "      <td>6</td>\n",
       "      <td>[159]</td>\n",
       "      <td>[170, 1312, 1281, 2299, 2954, 257, 3055, 1683,...</td>\n",
       "      <td>[1, 11, 12, 10, 1, 17, 15, 5, 19, 17, 14]</td>\n",
       "      <td>[106, 69, 187, 183, 120, 4, 179, 190, 185, 213...</td>\n",
       "      <td>[108, 37, 14, 6, 122, 128, 134, 77, 88, 16, 10...</td>\n",
       "      <td>[]</td>\n",
       "    </tr>\n",
       "  </tbody>\n",
       "</table>\n",
       "</div>"
      ],
      "text/plain": [
       "  learning style   gpa  student semester      major  \\\n",
       "0   [0, 0, 1, 1]  2.06                 3  [142, 40]   \n",
       "1   [0, 1, 0, 0]  2.55                13         []   \n",
       "2   [0, 0, 1, 1]  2.95                 2         []   \n",
       "3   [1, 0, 0, 1]  2.25                10       [97]   \n",
       "4   [0, 0, 1, 0]  2.90                 6      [159]   \n",
       "\n",
       "                                    previous courses  \\\n",
       "0  [1999, 1222, 1690, 1169, 710, 1001, 2422, 1291...   \n",
       "1  [1549, 2644, 295, 2219, 1567, 972, 2211, 1516,...   \n",
       "2  [2191, 1323, 541, 2341, 2341, 1994, 1488, 369,...   \n",
       "3     [2706, 498, 1359, 1520, 2094, 2580, 3262, 637]   \n",
       "4  [170, 1312, 1281, 2299, 2954, 257, 3055, 1683,...   \n",
       "\n",
       "                                        course types  \\\n",
       "0  [17, 10, 19, 11, 1, 11, 6, 1, 15, 6, 4, 5, 21,...   \n",
       "1                      [6, 20, 16, 13, 8, 18, 1, 14]   \n",
       "2                              [11, 5, 14, 17, 4, 7]   \n",
       "3                          [1, 20, 8, 20, 20, 7, 13]   \n",
       "4          [1, 11, 12, 10, 1, 17, 15, 5, 19, 17, 14]   \n",
       "\n",
       "                                     course subjects  \\\n",
       "0  [175, 52, 54, 178, 144, 110, 154, 162, 109, 16...   \n",
       "1                  [31, 9, 23, 2, 197, 93, 202, 181]   \n",
       "2  [25, 127, 119, 154, 166, 5, 135, 100, 79, 75, ...   \n",
       "3  [80, 150, 99, 75, 25, 52, 121, 87, 183, 77, 94...   \n",
       "4  [106, 69, 187, 183, 120, 4, 179, 190, 185, 213...   \n",
       "\n",
       "                                subjects of interest  \\\n",
       "0                                           [59, 95]   \n",
       "1  [76, 12, 37, 55, 112, 39, 91, 71, 17, 83, 88, ...   \n",
       "2  [126, 85, 128, 141, 51, 47, 107, 88, 123, 52, ...   \n",
       "3  [6, 120, 110, 37, 67, 10, 38, 78, 54, 99, 112,...   \n",
       "4  [108, 37, 14, 6, 122, 128, 134, 77, 88, 16, 10...   \n",
       "\n",
       "                          extracurricular activities  \n",
       "0                                    [196, 298, 290]  \n",
       "1                       [296, 167, 47, 89, 248, 283]  \n",
       "2                                [39, 264, 239, 275]  \n",
       "3  [272, 40, 25, 53, 254, 259, 276, 133, 19, 71, ...  \n",
       "4                                                 []  "
      ]
     },
     "execution_count": 18,
     "metadata": {},
     "output_type": "execute_result"
    }
   ],
   "source": [
    "privatized_data.head(n=5) # Change n to larger numbers to see more rows of the dataframe"
   ]
  },
  {
   "cell_type": "markdown",
   "metadata": {},
   "source": [
    "## Dimensionality Reduction\n",
    "\n",
    "We still have the problem of long lists. The 'previous courses list' can be over 30 elements long! Thus we call a new function from the Preprocessor class, 'create_RNN_models'. Three different recurrent neural network models are used to reduce the dimension of each list to 1 element. The three networks are: Simple, GRU (Gated Recurrent Units), and LSTM (Long Term Short Memory).\n",
    "\n",
    "Since 'create_RNN_models' takes in a dataframe, there is no need to create a new instance of the Preprocessor class. Thus we should call:\n",
    "- 'privatized_data': reduce dimensionality\n",
    "- 'preprocessed_data': give a null for comparison at the end\n",
    "- 'preprocessed_data' with 'utility=True': reduce dimensionality of the utility columns\n",
    "\n",
    "Let's also calculate and compare the runtimes. This will likely be the longest runtime taking 9 to 10 minutes.\n",
    "\n",
    "Let us just use the simple RNN dimensionality reduction. Though this can be switch by changing 'simple' to False and a different method to True."
   ]
  },
  {
   "cell_type": "code",
   "execution_count": 19,
   "metadata": {},
   "outputs": [
    {
     "name": "stdout",
     "output_type": "stream",
     "text": [
      "Epoch 1/10\n"
     ]
    },
    {
     "name": "stderr",
     "output_type": "stream",
     "text": [
      "2024-07-15 01:44:19.320069: I metal_plugin/src/device/metal_device.cc:1154] Metal device set to: Apple M2\n",
      "2024-07-15 01:44:19.320104: I metal_plugin/src/device/metal_device.cc:296] systemMemory: 8.00 GB\n",
      "2024-07-15 01:44:19.320117: I metal_plugin/src/device/metal_device.cc:313] maxCacheSize: 2.67 GB\n",
      "2024-07-15 01:44:19.320368: I tensorflow/core/common_runtime/pluggable_device/pluggable_device_factory.cc:305] Could not identify NUMA node of platform GPU ID 0, defaulting to 0. Your kernel may not have been built with NUMA support.\n",
      "2024-07-15 01:44:19.320403: I tensorflow/core/common_runtime/pluggable_device/pluggable_device_factory.cc:271] Created TensorFlow device (/job:localhost/replica:0/task:0/device:GPU:0 with 0 MB memory) -> physical PluggableDevice (device: 0, name: METAL, pci bus id: <undefined>)\n",
      "2024-07-15 01:44:20.006827: I tensorflow/core/grappler/optimizers/custom_graph_optimizer_registry.cc:117] Plugin optimizer for device_type GPU is enabled.\n"
     ]
    },
    {
     "name": "stdout",
     "output_type": "stream",
     "text": [
      "\u001b[1m4/4\u001b[0m \u001b[32m━━━━━━━━━━━━━━━━━━━━\u001b[0m\u001b[37m\u001b[0m \u001b[1m2s\u001b[0m 74ms/step - loss: 0.2755\n",
      "Epoch 2/10\n",
      "\u001b[1m4/4\u001b[0m \u001b[32m━━━━━━━━━━━━━━━━━━━━\u001b[0m\u001b[37m\u001b[0m \u001b[1m0s\u001b[0m 32ms/step - loss: 0.0918\n",
      "Epoch 3/10\n",
      "\u001b[1m4/4\u001b[0m \u001b[32m━━━━━━━━━━━━━━━━━━━━\u001b[0m\u001b[37m\u001b[0m \u001b[1m0s\u001b[0m 31ms/step - loss: 0.1224\n",
      "Epoch 4/10\n",
      "\u001b[1m4/4\u001b[0m \u001b[32m━━━━━━━━━━━━━━━━━━━━\u001b[0m\u001b[37m\u001b[0m \u001b[1m0s\u001b[0m 30ms/step - loss: 0.0997\n",
      "Epoch 5/10\n",
      "\u001b[1m4/4\u001b[0m \u001b[32m━━━━━━━━━━━━━━━━━━━━\u001b[0m\u001b[37m\u001b[0m \u001b[1m0s\u001b[0m 30ms/step - loss: 0.0832\n",
      "Epoch 6/10\n",
      "\u001b[1m4/4\u001b[0m \u001b[32m━━━━━━━━━━━━━━━━━━━━\u001b[0m\u001b[37m\u001b[0m \u001b[1m0s\u001b[0m 32ms/step - loss: 0.0894\n",
      "Epoch 7/10\n",
      "\u001b[1m4/4\u001b[0m \u001b[32m━━━━━━━━━━━━━━━━━━━━\u001b[0m\u001b[37m\u001b[0m \u001b[1m0s\u001b[0m 33ms/step - loss: 0.0958\n",
      "Epoch 8/10\n",
      "\u001b[1m4/4\u001b[0m \u001b[32m━━━━━━━━━━━━━━━━━━━━\u001b[0m\u001b[37m\u001b[0m \u001b[1m0s\u001b[0m 30ms/step - loss: 0.0912\n",
      "\u001b[1m4/4\u001b[0m \u001b[32m━━━━━━━━━━━━━━━━━━━━\u001b[0m\u001b[37m\u001b[0m \u001b[1m0s\u001b[0m 39ms/step\n",
      "Epoch 1/10\n",
      "\u001b[1m4/4\u001b[0m \u001b[32m━━━━━━━━━━━━━━━━━━━━\u001b[0m\u001b[37m\u001b[0m \u001b[1m1s\u001b[0m 45ms/step - loss: 0.2782\n",
      "Epoch 2/10\n",
      "\u001b[1m4/4\u001b[0m \u001b[32m━━━━━━━━━━━━━━━━━━━━\u001b[0m\u001b[37m\u001b[0m \u001b[1m0s\u001b[0m 21ms/step - loss: 0.1215\n",
      "Epoch 3/10\n",
      "\u001b[1m4/4\u001b[0m \u001b[32m━━━━━━━━━━━━━━━━━━━━\u001b[0m\u001b[37m\u001b[0m \u001b[1m0s\u001b[0m 21ms/step - loss: 0.0953\n",
      "Epoch 4/10\n",
      "\u001b[1m4/4\u001b[0m \u001b[32m━━━━━━━━━━━━━━━━━━━━\u001b[0m\u001b[37m\u001b[0m \u001b[1m0s\u001b[0m 20ms/step - loss: 0.1006\n",
      "Epoch 5/10\n",
      "\u001b[1m4/4\u001b[0m \u001b[32m━━━━━━━━━━━━━━━━━━━━\u001b[0m\u001b[37m\u001b[0m \u001b[1m0s\u001b[0m 20ms/step - loss: 0.0743\n",
      "Epoch 6/10\n",
      "\u001b[1m4/4\u001b[0m \u001b[32m━━━━━━━━━━━━━━━━━━━━\u001b[0m\u001b[37m\u001b[0m \u001b[1m0s\u001b[0m 21ms/step - loss: 0.0645\n",
      "Epoch 7/10\n",
      "\u001b[1m4/4\u001b[0m \u001b[32m━━━━━━━━━━━━━━━━━━━━\u001b[0m\u001b[37m\u001b[0m \u001b[1m0s\u001b[0m 23ms/step - loss: 0.0659\n",
      "Epoch 8/10\n",
      "\u001b[1m4/4\u001b[0m \u001b[32m━━━━━━━━━━━━━━━━━━━━\u001b[0m\u001b[37m\u001b[0m \u001b[1m0s\u001b[0m 21ms/step - loss: 0.0538\n",
      "Epoch 9/10\n",
      "\u001b[1m4/4\u001b[0m \u001b[32m━━━━━━━━━━━━━━━━━━━━\u001b[0m\u001b[37m\u001b[0m \u001b[1m0s\u001b[0m 21ms/step - loss: 0.0536\n",
      "Epoch 10/10\n",
      "\u001b[1m4/4\u001b[0m \u001b[32m━━━━━━━━━━━━━━━━━━━━\u001b[0m\u001b[37m\u001b[0m \u001b[1m0s\u001b[0m 21ms/step - loss: 0.0472\n",
      "\u001b[1m4/4\u001b[0m \u001b[32m━━━━━━━━━━━━━━━━━━━━\u001b[0m\u001b[37m\u001b[0m \u001b[1m0s\u001b[0m 31ms/step\n",
      "Epoch 1/10\n",
      "\u001b[1m4/4\u001b[0m \u001b[32m━━━━━━━━━━━━━━━━━━━━\u001b[0m\u001b[37m\u001b[0m \u001b[1m8s\u001b[0m 2s/step - loss: 0.2743\n",
      "Epoch 2/10\n",
      "\u001b[1m4/4\u001b[0m \u001b[32m━━━━━━━━━━━━━━━━━━━━\u001b[0m\u001b[37m\u001b[0m \u001b[1m6s\u001b[0m 2s/step - loss: 0.1243\n",
      "Epoch 3/10\n",
      "\u001b[1m4/4\u001b[0m \u001b[32m━━━━━━━━━━━━━━━━━━━━\u001b[0m\u001b[37m\u001b[0m \u001b[1m6s\u001b[0m 2s/step - loss: 0.0978\n",
      "Epoch 4/10\n",
      "\u001b[1m4/4\u001b[0m \u001b[32m━━━━━━━━━━━━━━━━━━━━\u001b[0m\u001b[37m\u001b[0m \u001b[1m7s\u001b[0m 2s/step - loss: 0.0837\n",
      "Epoch 5/10\n",
      "\u001b[1m4/4\u001b[0m \u001b[32m━━━━━━━━━━━━━━━━━━━━\u001b[0m\u001b[37m\u001b[0m \u001b[1m7s\u001b[0m 2s/step - loss: 0.0571\n",
      "Epoch 6/10\n",
      "\u001b[1m4/4\u001b[0m \u001b[32m━━━━━━━━━━━━━━━━━━━━\u001b[0m\u001b[37m\u001b[0m \u001b[1m8s\u001b[0m 2s/step - loss: 0.0513\n",
      "Epoch 7/10\n",
      "\u001b[1m4/4\u001b[0m \u001b[32m━━━━━━━━━━━━━━━━━━━━\u001b[0m\u001b[37m\u001b[0m \u001b[1m7s\u001b[0m 2s/step - loss: 0.0570\n",
      "Epoch 8/10\n",
      "\u001b[1m4/4\u001b[0m \u001b[32m━━━━━━━━━━━━━━━━━━━━\u001b[0m\u001b[37m\u001b[0m \u001b[1m8s\u001b[0m 2s/step - loss: 0.0591\n",
      "Epoch 9/10\n",
      "\u001b[1m4/4\u001b[0m \u001b[32m━━━━━━━━━━━━━━━━━━━━\u001b[0m\u001b[37m\u001b[0m \u001b[1m7s\u001b[0m 2s/step - loss: 0.0507\n",
      "Epoch 10/10\n",
      "\u001b[1m4/4\u001b[0m \u001b[32m━━━━━━━━━━━━━━━━━━━━\u001b[0m\u001b[37m\u001b[0m \u001b[1m7s\u001b[0m 2s/step - loss: 0.0440\n"
     ]
    },
    {
     "name": "stderr",
     "output_type": "stream",
     "text": [
      "2024-07-15 01:45:35,570 - tensorflow - WARNING - 5 out of the last 9 calls to <function TensorFlowTrainer.make_predict_function.<locals>.one_step_on_data_distributed at 0x31be484a0> triggered tf.function retracing. Tracing is expensive and the excessive number of tracings could be due to (1) creating @tf.function repeatedly in a loop, (2) passing tensors with different shapes, (3) passing Python objects instead of tensors. For (1), please define your @tf.function outside of the loop. For (2), @tf.function has reduce_retracing=True option that can avoid unnecessary retracing. For (3), please refer to https://www.tensorflow.org/guide/function#controlling_retracing and https://www.tensorflow.org/api_docs/python/tf/function for  more details.\n"
     ]
    },
    {
     "name": "stdout",
     "output_type": "stream",
     "text": [
      "\u001b[1m3/4\u001b[0m \u001b[32m━━━━━━━━━━━━━━━\u001b[0m\u001b[37m━━━━━\u001b[0m \u001b[1m0s\u001b[0m 140ms/step"
     ]
    },
    {
     "name": "stderr",
     "output_type": "stream",
     "text": [
      "2024-07-15 01:45:36,068 - tensorflow - WARNING - 6 out of the last 12 calls to <function TensorFlowTrainer.make_predict_function.<locals>.one_step_on_data_distributed at 0x31be484a0> triggered tf.function retracing. Tracing is expensive and the excessive number of tracings could be due to (1) creating @tf.function repeatedly in a loop, (2) passing tensors with different shapes, (3) passing Python objects instead of tensors. For (1), please define your @tf.function outside of the loop. For (2), @tf.function has reduce_retracing=True option that can avoid unnecessary retracing. For (3), please refer to https://www.tensorflow.org/guide/function#controlling_retracing and https://www.tensorflow.org/api_docs/python/tf/function for  more details.\n"
     ]
    },
    {
     "name": "stdout",
     "output_type": "stream",
     "text": [
      "\u001b[1m4/4\u001b[0m \u001b[32m━━━━━━━━━━━━━━━━━━━━\u001b[0m\u001b[37m\u001b[0m \u001b[1m1s\u001b[0m 166ms/step\n",
      "Epoch 1/10\n",
      "\u001b[1m4/4\u001b[0m \u001b[32m━━━━━━━━━━━━━━━━━━━━\u001b[0m\u001b[37m\u001b[0m \u001b[1m2s\u001b[0m 287ms/step - loss: 0.3708\n",
      "Epoch 2/10\n",
      "\u001b[1m4/4\u001b[0m \u001b[32m━━━━━━━━━━━━━━━━━━━━\u001b[0m\u001b[37m\u001b[0m \u001b[1m1s\u001b[0m 267ms/step - loss: 0.0720\n",
      "Epoch 3/10\n",
      "\u001b[1m4/4\u001b[0m \u001b[32m━━━━━━━━━━━━━━━━━━━━\u001b[0m\u001b[37m\u001b[0m \u001b[1m1s\u001b[0m 259ms/step - loss: 0.0770\n",
      "Epoch 4/10\n",
      "\u001b[1m4/4\u001b[0m \u001b[32m━━━━━━━━━━━━━━━━━━━━\u001b[0m\u001b[37m\u001b[0m \u001b[1m1s\u001b[0m 254ms/step - loss: 0.0532\n",
      "Epoch 5/10\n",
      "\u001b[1m4/4\u001b[0m \u001b[32m━━━━━━━━━━━━━━━━━━━━\u001b[0m\u001b[37m\u001b[0m \u001b[1m1s\u001b[0m 255ms/step - loss: 0.0542\n",
      "Epoch 6/10\n",
      "\u001b[1m4/4\u001b[0m \u001b[32m━━━━━━━━━━━━━━━━━━━━\u001b[0m\u001b[37m\u001b[0m \u001b[1m1s\u001b[0m 254ms/step - loss: 0.0494\n",
      "Epoch 7/10\n",
      "\u001b[1m4/4\u001b[0m \u001b[32m━━━━━━━━━━━━━━━━━━━━\u001b[0m\u001b[37m\u001b[0m \u001b[1m1s\u001b[0m 263ms/step - loss: 0.0423\n",
      "Epoch 8/10\n",
      "\u001b[1m4/4\u001b[0m \u001b[32m━━━━━━━━━━━━━━━━━━━━\u001b[0m\u001b[37m\u001b[0m \u001b[1m1s\u001b[0m 259ms/step - loss: 0.0359\n",
      "Epoch 9/10\n",
      "\u001b[1m4/4\u001b[0m \u001b[32m━━━━━━━━━━━━━━━━━━━━\u001b[0m\u001b[37m\u001b[0m \u001b[1m1s\u001b[0m 263ms/step - loss: 0.0373\n",
      "Epoch 10/10\n",
      "\u001b[1m4/4\u001b[0m \u001b[32m━━━━━━━━━━━━━━━━━━━━\u001b[0m\u001b[37m\u001b[0m \u001b[1m1s\u001b[0m 262ms/step - loss: 0.0269\n",
      "\u001b[1m4/4\u001b[0m \u001b[32m━━━━━━━━━━━━━━━━━━━━\u001b[0m\u001b[37m\u001b[0m \u001b[1m0s\u001b[0m 94ms/step\n",
      "Epoch 1/10\n",
      "\u001b[1m4/4\u001b[0m \u001b[32m━━━━━━━━━━━━━━━━━━━━\u001b[0m\u001b[37m\u001b[0m \u001b[1m8s\u001b[0m 2s/step - loss: 0.3406\n",
      "Epoch 2/10\n",
      "\u001b[1m4/4\u001b[0m \u001b[32m━━━━━━━━━━━━━━━━━━━━\u001b[0m\u001b[37m\u001b[0m \u001b[1m5s\u001b[0m 1s/step - loss: 0.1324\n",
      "Epoch 3/10\n",
      "\u001b[1m4/4\u001b[0m \u001b[32m━━━━━━━━━━━━━━━━━━━━\u001b[0m\u001b[37m\u001b[0m \u001b[1m5s\u001b[0m 1s/step - loss: 0.0509\n",
      "Epoch 4/10\n",
      "\u001b[1m4/4\u001b[0m \u001b[32m━━━━━━━━━━━━━━━━━━━━\u001b[0m\u001b[37m\u001b[0m \u001b[1m5s\u001b[0m 1s/step - loss: 0.0633\n",
      "Epoch 5/10\n",
      "\u001b[1m4/4\u001b[0m \u001b[32m━━━━━━━━━━━━━━━━━━━━\u001b[0m\u001b[37m\u001b[0m \u001b[1m5s\u001b[0m 1s/step - loss: 0.0539\n",
      "Epoch 6/10\n",
      "\u001b[1m4/4\u001b[0m \u001b[32m━━━━━━━━━━━━━━━━━━━━\u001b[0m\u001b[37m\u001b[0m \u001b[1m5s\u001b[0m 1s/step - loss: 0.0455\n",
      "Epoch 7/10\n",
      "\u001b[1m4/4\u001b[0m \u001b[32m━━━━━━━━━━━━━━━━━━━━\u001b[0m\u001b[37m\u001b[0m \u001b[1m5s\u001b[0m 1s/step - loss: 0.0397\n",
      "Epoch 8/10\n",
      "\u001b[1m4/4\u001b[0m \u001b[32m━━━━━━━━━━━━━━━━━━━━\u001b[0m\u001b[37m\u001b[0m \u001b[1m5s\u001b[0m 1s/step - loss: 0.0389\n",
      "Epoch 9/10\n",
      "\u001b[1m4/4\u001b[0m \u001b[32m━━━━━━━━━━━━━━━━━━━━\u001b[0m\u001b[37m\u001b[0m \u001b[1m5s\u001b[0m 1s/step - loss: 0.0335\n",
      "Epoch 10/10\n",
      "\u001b[1m4/4\u001b[0m \u001b[32m━━━━━━━━━━━━━━━━━━━━\u001b[0m\u001b[37m\u001b[0m \u001b[1m5s\u001b[0m 1s/step - loss: 0.0311\n",
      "\u001b[1m4/4\u001b[0m \u001b[32m━━━━━━━━━━━━━━━━━━━━\u001b[0m\u001b[37m\u001b[0m \u001b[1m1s\u001b[0m 130ms/step\n",
      "Epoch 1/10\n",
      "\u001b[1m4/4\u001b[0m \u001b[32m━━━━━━━━━━━━━━━━━━━━\u001b[0m\u001b[37m\u001b[0m \u001b[1m22s\u001b[0m 5s/step - loss: 0.1632\n",
      "Epoch 2/10\n",
      "\u001b[1m4/4\u001b[0m \u001b[32m━━━━━━━━━━━━━━━━━━━━\u001b[0m\u001b[37m\u001b[0m \u001b[1m20s\u001b[0m 5s/step - loss: 0.0909\n",
      "Epoch 3/10\n",
      "\u001b[1m4/4\u001b[0m \u001b[32m━━━━━━━━━━━━━━━━━━━━\u001b[0m\u001b[37m\u001b[0m \u001b[1m20s\u001b[0m 5s/step - loss: 0.1079\n",
      "Epoch 4/10\n",
      "\u001b[1m4/4\u001b[0m \u001b[32m━━━━━━━━━━━━━━━━━━━━\u001b[0m\u001b[37m\u001b[0m \u001b[1m20s\u001b[0m 5s/step - loss: 0.0717\n",
      "Epoch 5/10\n",
      "\u001b[1m4/4\u001b[0m \u001b[32m━━━━━━━━━━━━━━━━━━━━\u001b[0m\u001b[37m\u001b[0m \u001b[1m20s\u001b[0m 5s/step - loss: 0.0934\n",
      "Epoch 6/10\n",
      "\u001b[1m4/4\u001b[0m \u001b[32m━━━━━━━━━━━━━━━━━━━━\u001b[0m\u001b[37m\u001b[0m \u001b[1m20s\u001b[0m 5s/step - loss: 0.0665\n",
      "Epoch 7/10\n",
      "\u001b[1m4/4\u001b[0m \u001b[32m━━━━━━━━━━━━━━━━━━━━\u001b[0m\u001b[37m\u001b[0m \u001b[1m21s\u001b[0m 5s/step - loss: 0.0613\n",
      "Epoch 8/10\n",
      "\u001b[1m4/4\u001b[0m \u001b[32m━━━━━━━━━━━━━━━━━━━━\u001b[0m\u001b[37m\u001b[0m \u001b[1m20s\u001b[0m 5s/step - loss: 0.0595\n",
      "Epoch 9/10\n",
      "\u001b[1m4/4\u001b[0m \u001b[32m━━━━━━━━━━━━━━━━━━━━\u001b[0m\u001b[37m\u001b[0m \u001b[1m20s\u001b[0m 5s/step - loss: 0.0516\n",
      "Epoch 10/10\n",
      "\u001b[1m4/4\u001b[0m \u001b[32m━━━━━━━━━━━━━━━━━━━━\u001b[0m\u001b[37m\u001b[0m \u001b[1m24s\u001b[0m 6s/step - loss: 0.0368\n",
      "\u001b[1m4/4\u001b[0m \u001b[32m━━━━━━━━━━━━━━━━━━━━\u001b[0m\u001b[37m\u001b[0m \u001b[1m2s\u001b[0m 375ms/step\n",
      "Epoch 1/10\n",
      "\u001b[1m4/4\u001b[0m \u001b[32m━━━━━━━━━━━━━━━━━━━━\u001b[0m\u001b[37m\u001b[0m \u001b[1m4s\u001b[0m 764ms/step - loss: 0.1752\n",
      "Epoch 2/10\n",
      "\u001b[1m4/4\u001b[0m \u001b[32m━━━━━━━━━━━━━━━━━━━━\u001b[0m\u001b[37m\u001b[0m \u001b[1m3s\u001b[0m 729ms/step - loss: 0.0971\n",
      "Epoch 3/10\n",
      "\u001b[1m4/4\u001b[0m \u001b[32m━━━━━━━━━━━━━━━━━━━━\u001b[0m\u001b[37m\u001b[0m \u001b[1m3s\u001b[0m 745ms/step - loss: 0.0720\n",
      "Epoch 4/10\n",
      "\u001b[1m4/4\u001b[0m \u001b[32m━━━━━━━━━━━━━━━━━━━━\u001b[0m\u001b[37m\u001b[0m \u001b[1m3s\u001b[0m 772ms/step - loss: 0.0814\n",
      "Epoch 5/10\n",
      "\u001b[1m4/4\u001b[0m \u001b[32m━━━━━━━━━━━━━━━━━━━━\u001b[0m\u001b[37m\u001b[0m \u001b[1m3s\u001b[0m 753ms/step - loss: 0.0610\n",
      "Epoch 6/10\n",
      "\u001b[1m4/4\u001b[0m \u001b[32m━━━━━━━━━━━━━━━━━━━━\u001b[0m\u001b[37m\u001b[0m \u001b[1m3s\u001b[0m 717ms/step - loss: 0.0491\n",
      "Epoch 7/10\n",
      "\u001b[1m4/4\u001b[0m \u001b[32m━━━━━━━━━━━━━━━━━━━━\u001b[0m\u001b[37m\u001b[0m \u001b[1m3s\u001b[0m 726ms/step - loss: 0.0475\n",
      "Epoch 8/10\n",
      "\u001b[1m4/4\u001b[0m \u001b[32m━━━━━━━━━━━━━━━━━━━━\u001b[0m\u001b[37m\u001b[0m \u001b[1m3s\u001b[0m 720ms/step - loss: 0.0381\n",
      "Epoch 9/10\n",
      "\u001b[1m4/4\u001b[0m \u001b[32m━━━━━━━━━━━━━━━━━━━━\u001b[0m\u001b[37m\u001b[0m \u001b[1m3s\u001b[0m 726ms/step - loss: 0.0320\n",
      "Epoch 10/10\n",
      "\u001b[1m4/4\u001b[0m \u001b[32m━━━━━━━━━━━━━━━━━━━━\u001b[0m\u001b[37m\u001b[0m \u001b[1m3s\u001b[0m 720ms/step - loss: 0.0274\n",
      "\u001b[1m4/4\u001b[0m \u001b[32m━━━━━━━━━━━━━━━━━━━━\u001b[0m\u001b[37m\u001b[0m \u001b[1m0s\u001b[0m 100ms/step\n",
      "Epoch 1/10\n",
      "\u001b[1m4/4\u001b[0m \u001b[32m━━━━━━━━━━━━━━━━━━━━\u001b[0m\u001b[37m\u001b[0m \u001b[1m1s\u001b[0m 64ms/step - loss: 0.2497\n",
      "Epoch 2/10\n",
      "\u001b[1m4/4\u001b[0m \u001b[32m━━━━━━━━━━━━━━━━━━━━\u001b[0m\u001b[37m\u001b[0m \u001b[1m0s\u001b[0m 32ms/step - loss: 0.0958\n",
      "Epoch 3/10\n",
      "\u001b[1m4/4\u001b[0m \u001b[32m━━━━━━━━━━━━━━━━━━━━\u001b[0m\u001b[37m\u001b[0m \u001b[1m0s\u001b[0m 33ms/step - loss: 0.0862\n",
      "Epoch 4/10\n",
      "\u001b[1m4/4\u001b[0m \u001b[32m━━━━━━━━━━━━━━━━━━━━\u001b[0m\u001b[37m\u001b[0m \u001b[1m0s\u001b[0m 33ms/step - loss: 0.0645\n",
      "Epoch 5/10\n",
      "\u001b[1m4/4\u001b[0m \u001b[32m━━━━━━━━━━━━━━━━━━━━\u001b[0m\u001b[37m\u001b[0m \u001b[1m0s\u001b[0m 32ms/step - loss: 0.0668\n",
      "Epoch 6/10\n",
      "\u001b[1m4/4\u001b[0m \u001b[32m━━━━━━━━━━━━━━━━━━━━\u001b[0m\u001b[37m\u001b[0m \u001b[1m0s\u001b[0m 35ms/step - loss: 0.0706\n",
      "Epoch 7/10\n",
      "\u001b[1m4/4\u001b[0m \u001b[32m━━━━━━━━━━━━━━━━━━━━\u001b[0m\u001b[37m\u001b[0m \u001b[1m0s\u001b[0m 32ms/step - loss: 0.0645\n",
      "Epoch 8/10\n",
      "\u001b[1m4/4\u001b[0m \u001b[32m━━━━━━━━━━━━━━━━━━━━\u001b[0m\u001b[37m\u001b[0m \u001b[1m0s\u001b[0m 32ms/step - loss: 0.0710\n",
      "Epoch 9/10\n",
      "\u001b[1m4/4\u001b[0m \u001b[32m━━━━━━━━━━━━━━━━━━━━\u001b[0m\u001b[37m\u001b[0m \u001b[1m0s\u001b[0m 32ms/step - loss: 0.0648\n",
      "Epoch 10/10\n",
      "\u001b[1m4/4\u001b[0m \u001b[32m━━━━━━━━━━━━━━━━━━━━\u001b[0m\u001b[37m\u001b[0m \u001b[1m0s\u001b[0m 31ms/step - loss: 0.0700\n",
      "\u001b[1m4/4\u001b[0m \u001b[32m━━━━━━━━━━━━━━━━━━━━\u001b[0m\u001b[37m\u001b[0m \u001b[1m0s\u001b[0m 35ms/step\n",
      "Epoch 1/10\n",
      "\u001b[1m4/4\u001b[0m \u001b[32m━━━━━━━━━━━━━━━━━━━━\u001b[0m\u001b[37m\u001b[0m \u001b[1m1s\u001b[0m 48ms/step - loss: 0.2862\n",
      "Epoch 2/10\n",
      "\u001b[1m4/4\u001b[0m \u001b[32m━━━━━━━━━━━━━━━━━━━━\u001b[0m\u001b[37m\u001b[0m \u001b[1m0s\u001b[0m 22ms/step - loss: 0.1598\n",
      "Epoch 3/10\n",
      "\u001b[1m4/4\u001b[0m \u001b[32m━━━━━━━━━━━━━━━━━━━━\u001b[0m\u001b[37m\u001b[0m \u001b[1m0s\u001b[0m 22ms/step - loss: 0.0969\n",
      "Epoch 4/10\n",
      "\u001b[1m4/4\u001b[0m \u001b[32m━━━━━━━━━━━━━━━━━━━━\u001b[0m\u001b[37m\u001b[0m \u001b[1m0s\u001b[0m 21ms/step - loss: 0.0941\n",
      "Epoch 5/10\n",
      "\u001b[1m4/4\u001b[0m \u001b[32m━━━━━━━━━━━━━━━━━━━━\u001b[0m\u001b[37m\u001b[0m \u001b[1m0s\u001b[0m 20ms/step - loss: 0.0817\n",
      "Epoch 6/10\n",
      "\u001b[1m4/4\u001b[0m \u001b[32m━━━━━━━━━━━━━━━━━━━━\u001b[0m\u001b[37m\u001b[0m \u001b[1m0s\u001b[0m 20ms/step - loss: 0.0674\n",
      "Epoch 7/10\n",
      "\u001b[1m4/4\u001b[0m \u001b[32m━━━━━━━━━━━━━━━━━━━━\u001b[0m\u001b[37m\u001b[0m \u001b[1m0s\u001b[0m 21ms/step - loss: 0.0601\n",
      "Epoch 8/10\n",
      "\u001b[1m4/4\u001b[0m \u001b[32m━━━━━━━━━━━━━━━━━━━━\u001b[0m\u001b[37m\u001b[0m \u001b[1m0s\u001b[0m 23ms/step - loss: 0.0500\n",
      "Epoch 9/10\n",
      "\u001b[1m4/4\u001b[0m \u001b[32m━━━━━━━━━━━━━━━━━━━━\u001b[0m\u001b[37m\u001b[0m \u001b[1m0s\u001b[0m 21ms/step - loss: 0.0446\n",
      "Epoch 10/10\n",
      "\u001b[1m4/4\u001b[0m \u001b[32m━━━━━━━━━━━━━━━━━━━━\u001b[0m\u001b[37m\u001b[0m \u001b[1m0s\u001b[0m 20ms/step - loss: 0.0409\n",
      "\u001b[1m4/4\u001b[0m \u001b[32m━━━━━━━━━━━━━━━━━━━━\u001b[0m\u001b[37m\u001b[0m \u001b[1m0s\u001b[0m 34ms/step\n",
      "Epoch 1/10\n",
      "\u001b[1m4/4\u001b[0m \u001b[32m━━━━━━━━━━━━━━━━━━━━\u001b[0m\u001b[37m\u001b[0m \u001b[1m9s\u001b[0m 2s/step - loss: 0.3057\n",
      "Epoch 2/10\n",
      "\u001b[1m4/4\u001b[0m \u001b[32m━━━━━━━━━━━━━━━━━━━━\u001b[0m\u001b[37m\u001b[0m \u001b[1m7s\u001b[0m 2s/step - loss: 0.0818\n",
      "Epoch 3/10\n",
      "\u001b[1m4/4\u001b[0m \u001b[32m━━━━━━━━━━━━━━━━━━━━\u001b[0m\u001b[37m\u001b[0m \u001b[1m7s\u001b[0m 2s/step - loss: 0.0692\n",
      "Epoch 4/10\n",
      "\u001b[1m4/4\u001b[0m \u001b[32m━━━━━━━━━━━━━━━━━━━━\u001b[0m\u001b[37m\u001b[0m \u001b[1m7s\u001b[0m 2s/step - loss: 0.0487\n",
      "Epoch 5/10\n",
      "\u001b[1m4/4\u001b[0m \u001b[32m━━━━━━━━━━━━━━━━━━━━\u001b[0m\u001b[37m\u001b[0m \u001b[1m7s\u001b[0m 2s/step - loss: 0.0481\n",
      "Epoch 6/10\n",
      "\u001b[1m4/4\u001b[0m \u001b[32m━━━━━━━━━━━━━━━━━━━━\u001b[0m\u001b[37m\u001b[0m \u001b[1m7s\u001b[0m 2s/step - loss: 0.0390\n",
      "Epoch 7/10\n",
      "\u001b[1m4/4\u001b[0m \u001b[32m━━━━━━━━━━━━━━━━━━━━\u001b[0m\u001b[37m\u001b[0m \u001b[1m7s\u001b[0m 2s/step - loss: 0.0339\n",
      "Epoch 8/10\n",
      "\u001b[1m4/4\u001b[0m \u001b[32m━━━━━━━━━━━━━━━━━━━━\u001b[0m\u001b[37m\u001b[0m \u001b[1m7s\u001b[0m 2s/step - loss: 0.0233\n",
      "Epoch 9/10\n",
      "\u001b[1m4/4\u001b[0m \u001b[32m━━━━━━━━━━━━━━━━━━━━\u001b[0m\u001b[37m\u001b[0m \u001b[1m7s\u001b[0m 2s/step - loss: 0.0194\n",
      "Epoch 10/10\n",
      "\u001b[1m4/4\u001b[0m \u001b[32m━━━━━━━━━━━━━━━━━━━━\u001b[0m\u001b[37m\u001b[0m \u001b[1m7s\u001b[0m 2s/step - loss: 0.0162\n",
      "\u001b[1m4/4\u001b[0m \u001b[32m━━━━━━━━━━━━━━━━━━━━\u001b[0m\u001b[37m\u001b[0m \u001b[1m1s\u001b[0m 171ms/step\n",
      "Epoch 1/10\n",
      "\u001b[1m4/4\u001b[0m \u001b[32m━━━━━━━━━━━━━━━━━━━━\u001b[0m\u001b[37m\u001b[0m \u001b[1m2s\u001b[0m 213ms/step - loss: 0.2938\n",
      "Epoch 2/10\n",
      "\u001b[1m4/4\u001b[0m \u001b[32m━━━━━━━━━━━━━━━━━━━━\u001b[0m\u001b[37m\u001b[0m \u001b[1m1s\u001b[0m 180ms/step - loss: 0.1168\n",
      "Epoch 3/10\n",
      "\u001b[1m4/4\u001b[0m \u001b[32m━━━━━━━━━━━━━━━━━━━━\u001b[0m\u001b[37m\u001b[0m \u001b[1m1s\u001b[0m 176ms/step - loss: 0.0993\n",
      "Epoch 4/10\n",
      "\u001b[1m4/4\u001b[0m \u001b[32m━━━━━━━━━━━━━━━━━━━━\u001b[0m\u001b[37m\u001b[0m \u001b[1m1s\u001b[0m 180ms/step - loss: 0.0999\n",
      "Epoch 5/10\n",
      "\u001b[1m4/4\u001b[0m \u001b[32m━━━━━━━━━━━━━━━━━━━━\u001b[0m\u001b[37m\u001b[0m \u001b[1m1s\u001b[0m 183ms/step - loss: 0.0740\n",
      "Epoch 6/10\n",
      "\u001b[1m4/4\u001b[0m \u001b[32m━━━━━━━━━━━━━━━━━━━━\u001b[0m\u001b[37m\u001b[0m \u001b[1m1s\u001b[0m 177ms/step - loss: 0.0706\n",
      "Epoch 7/10\n",
      "\u001b[1m4/4\u001b[0m \u001b[32m━━━━━━━━━━━━━━━━━━━━\u001b[0m\u001b[37m\u001b[0m \u001b[1m1s\u001b[0m 175ms/step - loss: 0.0761\n",
      "Epoch 8/10\n"
     ]
    },
    {
     "name": "stdout",
     "output_type": "stream",
     "text": [
      "\u001b[1m4/4\u001b[0m \u001b[32m━━━━━━━━━━━━━━━━━━━━\u001b[0m\u001b[37m\u001b[0m \u001b[1m1s\u001b[0m 180ms/step - loss: 0.0808\n",
      "Epoch 9/10\n",
      "\u001b[1m4/4\u001b[0m \u001b[32m━━━━━━━━━━━━━━━━━━━━\u001b[0m\u001b[37m\u001b[0m \u001b[1m1s\u001b[0m 178ms/step - loss: 0.0768\n",
      "\u001b[1m4/4\u001b[0m \u001b[32m━━━━━━━━━━━━━━━━━━━━\u001b[0m\u001b[37m\u001b[0m \u001b[1m0s\u001b[0m 58ms/step\n",
      "Epoch 1/10\n",
      "\u001b[1m4/4\u001b[0m \u001b[32m━━━━━━━━━━━━━━━━━━━━\u001b[0m\u001b[37m\u001b[0m \u001b[1m5s\u001b[0m 1s/step - loss: 0.2585 \n",
      "Epoch 2/10\n",
      "\u001b[1m4/4\u001b[0m \u001b[32m━━━━━━━━━━━━━━━━━━━━\u001b[0m\u001b[37m\u001b[0m \u001b[1m4s\u001b[0m 1s/step - loss: 0.0729\n",
      "Epoch 3/10\n",
      "\u001b[1m4/4\u001b[0m \u001b[32m━━━━━━━━━━━━━━━━━━━━\u001b[0m\u001b[37m\u001b[0m \u001b[1m4s\u001b[0m 994ms/step - loss: 0.0855\n",
      "Epoch 4/10\n",
      "\u001b[1m4/4\u001b[0m \u001b[32m━━━━━━━━━━━━━━━━━━━━\u001b[0m\u001b[37m\u001b[0m \u001b[1m4s\u001b[0m 959ms/step - loss: 0.0536\n",
      "Epoch 5/10\n",
      "\u001b[1m4/4\u001b[0m \u001b[32m━━━━━━━━━━━━━━━━━━━━\u001b[0m\u001b[37m\u001b[0m \u001b[1m4s\u001b[0m 995ms/step - loss: 0.0492\n",
      "Epoch 6/10\n",
      "\u001b[1m4/4\u001b[0m \u001b[32m━━━━━━━━━━━━━━━━━━━━\u001b[0m\u001b[37m\u001b[0m \u001b[1m4s\u001b[0m 1s/step - loss: 0.0370   \n",
      "Epoch 7/10\n",
      "\u001b[1m4/4\u001b[0m \u001b[32m━━━━━━━━━━━━━━━━━━━━\u001b[0m\u001b[37m\u001b[0m \u001b[1m4s\u001b[0m 968ms/step - loss: 0.0404\n",
      "Epoch 8/10\n",
      "\u001b[1m4/4\u001b[0m \u001b[32m━━━━━━━━━━━━━━━━━━━━\u001b[0m\u001b[37m\u001b[0m \u001b[1m4s\u001b[0m 964ms/step - loss: 0.0315\n",
      "Epoch 9/10\n",
      "\u001b[1m4/4\u001b[0m \u001b[32m━━━━━━━━━━━━━━━━━━━━\u001b[0m\u001b[37m\u001b[0m \u001b[1m4s\u001b[0m 963ms/step - loss: 0.0310\n",
      "Epoch 10/10\n",
      "\u001b[1m4/4\u001b[0m \u001b[32m━━━━━━━━━━━━━━━━━━━━\u001b[0m\u001b[37m\u001b[0m \u001b[1m4s\u001b[0m 991ms/step - loss: 0.0237\n",
      "\u001b[1m4/4\u001b[0m \u001b[32m━━━━━━━━━━━━━━━━━━━━\u001b[0m\u001b[37m\u001b[0m \u001b[1m1s\u001b[0m 124ms/step\n",
      "Epoch 1/10\n",
      "\u001b[1m4/4\u001b[0m \u001b[32m━━━━━━━━━━━━━━━━━━━━\u001b[0m\u001b[37m\u001b[0m \u001b[1m4s\u001b[0m 624ms/step - loss: 0.2288\n",
      "Epoch 2/10\n",
      "\u001b[1m4/4\u001b[0m \u001b[32m━━━━━━━━━━━━━━━━━━━━\u001b[0m\u001b[37m\u001b[0m \u001b[1m2s\u001b[0m 630ms/step - loss: 0.1160\n",
      "Epoch 3/10\n",
      "\u001b[1m4/4\u001b[0m \u001b[32m━━━━━━━━━━━━━━━━━━━━\u001b[0m\u001b[37m\u001b[0m \u001b[1m2s\u001b[0m 577ms/step - loss: 0.0989\n",
      "Epoch 4/10\n",
      "\u001b[1m4/4\u001b[0m \u001b[32m━━━━━━━━━━━━━━━━━━━━\u001b[0m\u001b[37m\u001b[0m \u001b[1m2s\u001b[0m 575ms/step - loss: 0.0812\n",
      "Epoch 5/10\n",
      "\u001b[1m4/4\u001b[0m \u001b[32m━━━━━━━━━━━━━━━━━━━━\u001b[0m\u001b[37m\u001b[0m \u001b[1m2s\u001b[0m 579ms/step - loss: 0.0724\n",
      "Epoch 6/10\n",
      "\u001b[1m4/4\u001b[0m \u001b[32m━━━━━━━━━━━━━━━━━━━━\u001b[0m\u001b[37m\u001b[0m \u001b[1m2s\u001b[0m 621ms/step - loss: 0.0673\n",
      "Epoch 7/10\n",
      "\u001b[1m4/4\u001b[0m \u001b[32m━━━━━━━━━━━━━━━━━━━━\u001b[0m\u001b[37m\u001b[0m \u001b[1m2s\u001b[0m 579ms/step - loss: 0.0683\n",
      "Epoch 8/10\n",
      "\u001b[1m4/4\u001b[0m \u001b[32m━━━━━━━━━━━━━━━━━━━━\u001b[0m\u001b[37m\u001b[0m \u001b[1m2s\u001b[0m 594ms/step - loss: 0.0616\n",
      "Epoch 9/10\n",
      "\u001b[1m4/4\u001b[0m \u001b[32m━━━━━━━━━━━━━━━━━━━━\u001b[0m\u001b[37m\u001b[0m \u001b[1m2s\u001b[0m 576ms/step - loss: 0.0675\n",
      "Epoch 10/10\n",
      "\u001b[1m4/4\u001b[0m \u001b[32m━━━━━━━━━━━━━━━━━━━━\u001b[0m\u001b[37m\u001b[0m \u001b[1m2s\u001b[0m 582ms/step - loss: 0.0584\n",
      "\u001b[1m4/4\u001b[0m \u001b[32m━━━━━━━━━━━━━━━━━━━━\u001b[0m\u001b[37m\u001b[0m \u001b[1m0s\u001b[0m 92ms/step\n",
      "Epoch 1/10\n",
      "\u001b[1m4/4\u001b[0m \u001b[32m━━━━━━━━━━━━━━━━━━━━\u001b[0m\u001b[37m\u001b[0m \u001b[1m2s\u001b[0m 249ms/step - loss: 0.2247\n",
      "Epoch 2/10\n",
      "\u001b[1m4/4\u001b[0m \u001b[32m━━━━━━━━━━━━━━━━━━━━\u001b[0m\u001b[37m\u001b[0m \u001b[1m1s\u001b[0m 231ms/step - loss: 0.1087\n",
      "Epoch 3/10\n",
      "\u001b[1m4/4\u001b[0m \u001b[32m━━━━━━━━━━━━━━━━━━━━\u001b[0m\u001b[37m\u001b[0m \u001b[1m1s\u001b[0m 247ms/step - loss: 0.0664\n",
      "Epoch 4/10\n",
      "\u001b[1m4/4\u001b[0m \u001b[32m━━━━━━━━━━━━━━━━━━━━\u001b[0m\u001b[37m\u001b[0m \u001b[1m1s\u001b[0m 224ms/step - loss: 0.0536\n",
      "Epoch 5/10\n",
      "\u001b[1m4/4\u001b[0m \u001b[32m━━━━━━━━━━━━━━━━━━━━\u001b[0m\u001b[37m\u001b[0m \u001b[1m1s\u001b[0m 240ms/step - loss: 0.0439\n",
      "Epoch 6/10\n",
      "\u001b[1m4/4\u001b[0m \u001b[32m━━━━━━━━━━━━━━━━━━━━\u001b[0m\u001b[37m\u001b[0m \u001b[1m1s\u001b[0m 217ms/step - loss: 0.0297\n",
      "Epoch 7/10\n",
      "\u001b[1m4/4\u001b[0m \u001b[32m━━━━━━━━━━━━━━━━━━━━\u001b[0m\u001b[37m\u001b[0m \u001b[1m1s\u001b[0m 214ms/step - loss: 0.0307\n",
      "Epoch 8/10\n",
      "\u001b[1m4/4\u001b[0m \u001b[32m━━━━━━━━━━━━━━━━━━━━\u001b[0m\u001b[37m\u001b[0m \u001b[1m1s\u001b[0m 216ms/step - loss: 0.0199\n",
      "Epoch 9/10\n",
      "\u001b[1m4/4\u001b[0m \u001b[32m━━━━━━━━━━━━━━━━━━━━\u001b[0m\u001b[37m\u001b[0m \u001b[1m1s\u001b[0m 214ms/step - loss: 0.0155\n",
      "Epoch 10/10\n",
      "\u001b[1m4/4\u001b[0m \u001b[32m━━━━━━━━━━━━━━━━━━━━\u001b[0m\u001b[37m\u001b[0m \u001b[1m1s\u001b[0m 211ms/step - loss: 0.0157\n",
      "\u001b[1m4/4\u001b[0m \u001b[32m━━━━━━━━━━━━━━━━━━━━\u001b[0m\u001b[37m\u001b[0m \u001b[1m0s\u001b[0m 57ms/step\n",
      "Epoch 1/10\n",
      "\u001b[1m4/4\u001b[0m \u001b[32m━━━━━━━━━━━━━━━━━━━━\u001b[0m\u001b[37m\u001b[0m \u001b[1m2s\u001b[0m 365ms/step - loss: 0.2237\n",
      "Epoch 2/10\n",
      "\u001b[1m4/4\u001b[0m \u001b[32m━━━━━━━━━━━━━━━━━━━━\u001b[0m\u001b[37m\u001b[0m \u001b[1m1s\u001b[0m 335ms/step - loss: 0.1015\n",
      "Epoch 3/10\n",
      "\u001b[1m4/4\u001b[0m \u001b[32m━━━━━━━━━━━━━━━━━━━━\u001b[0m\u001b[37m\u001b[0m \u001b[1m1s\u001b[0m 326ms/step - loss: 0.0857\n",
      "Epoch 4/10\n",
      "\u001b[1m4/4\u001b[0m \u001b[32m━━━━━━━━━━━━━━━━━━━━\u001b[0m\u001b[37m\u001b[0m \u001b[1m1s\u001b[0m 328ms/step - loss: 0.0624\n",
      "Epoch 5/10\n",
      "\u001b[1m4/4\u001b[0m \u001b[32m━━━━━━━━━━━━━━━━━━━━\u001b[0m\u001b[37m\u001b[0m \u001b[1m1s\u001b[0m 332ms/step - loss: 0.0385\n",
      "Epoch 6/10\n",
      "\u001b[1m4/4\u001b[0m \u001b[32m━━━━━━━━━━━━━━━━━━━━\u001b[0m\u001b[37m\u001b[0m \u001b[1m1s\u001b[0m 349ms/step - loss: 0.0413\n",
      "Epoch 7/10\n",
      "\u001b[1m4/4\u001b[0m \u001b[32m━━━━━━━━━━━━━━━━━━━━\u001b[0m\u001b[37m\u001b[0m \u001b[1m1s\u001b[0m 343ms/step - loss: 0.0322\n",
      "Epoch 8/10\n",
      "\u001b[1m4/4\u001b[0m \u001b[32m━━━━━━━━━━━━━━━━━━━━\u001b[0m\u001b[37m\u001b[0m \u001b[1m1s\u001b[0m 326ms/step - loss: 0.0200\n",
      "Epoch 9/10\n",
      "\u001b[1m4/4\u001b[0m \u001b[32m━━━━━━━━━━━━━━━━━━━━\u001b[0m\u001b[37m\u001b[0m \u001b[1m1s\u001b[0m 324ms/step - loss: 0.0204\n",
      "Epoch 10/10\n",
      "\u001b[1m4/4\u001b[0m \u001b[32m━━━━━━━━━━━━━━━━━━━━\u001b[0m\u001b[37m\u001b[0m \u001b[1m1s\u001b[0m 329ms/step - loss: 0.0175\n",
      "\u001b[1m4/4\u001b[0m \u001b[32m━━━━━━━━━━━━━━━━━━━━\u001b[0m\u001b[37m\u001b[0m \u001b[1m0s\u001b[0m 68ms/step\n",
      "Epoch 1/10\n",
      "\u001b[1m4/4\u001b[0m \u001b[32m━━━━━━━━━━━━━━━━━━━━\u001b[0m\u001b[37m\u001b[0m \u001b[1m1s\u001b[0m 74ms/step - loss: 0.3130\n",
      "Epoch 2/10\n",
      "\u001b[1m4/4\u001b[0m \u001b[32m━━━━━━━━━━━━━━━━━━━━\u001b[0m\u001b[37m\u001b[0m \u001b[1m0s\u001b[0m 41ms/step - loss: 0.1446\n",
      "Epoch 3/10\n",
      "\u001b[1m4/4\u001b[0m \u001b[32m━━━━━━━━━━━━━━━━━━━━\u001b[0m\u001b[37m\u001b[0m \u001b[1m0s\u001b[0m 42ms/step - loss: 0.0634\n",
      "Epoch 4/10\n",
      "\u001b[1m4/4\u001b[0m \u001b[32m━━━━━━━━━━━━━━━━━━━━\u001b[0m\u001b[37m\u001b[0m \u001b[1m0s\u001b[0m 39ms/step - loss: 0.0560\n",
      "Epoch 5/10\n",
      "\u001b[1m4/4\u001b[0m \u001b[32m━━━━━━━━━━━━━━━━━━━━\u001b[0m\u001b[37m\u001b[0m \u001b[1m0s\u001b[0m 42ms/step - loss: 0.0402\n",
      "Epoch 6/10\n",
      "\u001b[1m4/4\u001b[0m \u001b[32m━━━━━━━━━━━━━━━━━━━━\u001b[0m\u001b[37m\u001b[0m \u001b[1m0s\u001b[0m 40ms/step - loss: 0.0260\n",
      "Epoch 7/10\n",
      "\u001b[1m4/4\u001b[0m \u001b[32m━━━━━━━━━━━━━━━━━━━━\u001b[0m\u001b[37m\u001b[0m \u001b[1m0s\u001b[0m 41ms/step - loss: 0.0197\n",
      "Epoch 8/10\n",
      "\u001b[1m4/4\u001b[0m \u001b[32m━━━━━━━━━━━━━━━━━━━━\u001b[0m\u001b[37m\u001b[0m \u001b[1m0s\u001b[0m 38ms/step - loss: 0.0192\n",
      "Epoch 9/10\n",
      "\u001b[1m4/4\u001b[0m \u001b[32m━━━━━━━━━━━━━━━━━━━━\u001b[0m\u001b[37m\u001b[0m \u001b[1m0s\u001b[0m 39ms/step - loss: 0.0119\n",
      "Epoch 10/10\n",
      "\u001b[1m4/4\u001b[0m \u001b[32m━━━━━━━━━━━━━━━━━━━━\u001b[0m\u001b[37m\u001b[0m \u001b[1m0s\u001b[0m 40ms/step - loss: 0.0089\n",
      "\u001b[1m4/4\u001b[0m \u001b[32m━━━━━━━━━━━━━━━━━━━━\u001b[0m\u001b[37m\u001b[0m \u001b[1m0s\u001b[0m 39ms/step\n",
      "Privatized data runtime: 379.7743031978607\n",
      "Nonprivatized data runtime: 162.15817999839783\n",
      "Utility columns runtime: 18.099989891052246\n"
     ]
    }
   ],
   "source": [
    "# Only let one of simple, LSTM, and GRU be equal to true.\n",
    "\n",
    "start_time = time.time()\n",
    "privatized_data_reduced = preprocessor.create_RNN_models(privatized_data, simple=True, LSTM=False, GRU=False)\n",
    "end_time = time.time()\n",
    "runtime_pd = end_time - start_time\n",
    "\n",
    "start_time = time.time()\n",
    "nonprivatized_data_reduced = preprocessor.create_RNN_models(preprocessed_data, simple=True, LSTM=False, GRU=False)\n",
    "end_time = time.time()\n",
    "runtime_npd = end_time - start_time\n",
    "\n",
    "start_time = time.time()\n",
    "utility_cols_reduced = preprocessor.create_RNN_models(preprocessed_data, utility=True, simple=True, LSTM=False, GRU=False)\n",
    "end_time = time.time()\n",
    "runtime_uc = end_time - start_time\n",
    "\n",
    "print(f'Privatized data runtime: {runtime_pd}')\n",
    "print(f'Nonprivatized data runtime: {runtime_npd}')\n",
    "print(f'Utility columns runtime: {runtime_uc}')"
   ]
  },
  {
   "cell_type": "markdown",
   "metadata": {},
   "source": [
    "Since this code can be run to produce many dataframes the output is a list. We only made one dataframe so let's just take the first element from the list."
   ]
  },
  {
   "cell_type": "code",
   "execution_count": 20,
   "metadata": {},
   "outputs": [],
   "source": [
    "privatized_data_reduced = privatized_data_reduced[0]\n",
    "\n",
    "nonprivatized_data_reduced = nonprivatized_data_reduced[0]\n",
    "\n",
    "utility_cols_reduced = utility_cols_reduced[0]"
   ]
  },
  {
   "cell_type": "markdown",
   "metadata": {},
   "source": [
    "'create_RNN_models' outputs a pandas dataframe. Let's look at how the file structure has changed."
   ]
  },
  {
   "cell_type": "code",
   "execution_count": 21,
   "metadata": {},
   "outputs": [
    {
     "name": "stdout",
     "output_type": "stream",
     "text": [
      "<class 'pandas.core.frame.DataFrame'>\n",
      "RangeIndex: 100 entries, 0 to 99\n",
      "Data columns (total 9 columns):\n",
      " #   Column                      Non-Null Count  Dtype  \n",
      "---  ------                      --------------  -----  \n",
      " 0   learning style              100 non-null    object \n",
      " 1   gpa                         92 non-null     float64\n",
      " 2   student semester            100 non-null    int64  \n",
      " 3   major                       100 non-null    object \n",
      " 4   previous courses            100 non-null    object \n",
      " 5   course types                100 non-null    object \n",
      " 6   course subjects             100 non-null    object \n",
      " 7   subjects of interest        100 non-null    object \n",
      " 8   extracurricular activities  100 non-null    object \n",
      "dtypes: float64(1), int64(1), object(7)\n",
      "memory usage: 7.2+ KB\n",
      "None\n",
      "<class 'pandas.core.frame.DataFrame'>\n",
      "RangeIndex: 100 entries, 0 to 99\n",
      "Data columns (total 11 columns):\n",
      " #   Column                      Non-Null Count  Dtype  \n",
      "---  ------                      --------------  -----  \n",
      " 0   learning style              100 non-null    object \n",
      " 1   gpa                         92 non-null     float64\n",
      " 2   student semester            100 non-null    int64  \n",
      " 3   major                       100 non-null    object \n",
      " 4   previous courses            100 non-null    object \n",
      " 5   course types                100 non-null    object \n",
      " 6   course subjects             100 non-null    object \n",
      " 7   subjects of interest        100 non-null    object \n",
      " 8   extracurricular activities  100 non-null    object \n",
      " 9   career aspirations          100 non-null    object \n",
      " 10  future topics               100 non-null    object \n",
      "dtypes: float64(1), int64(1), object(9)\n",
      "memory usage: 8.7+ KB\n",
      "None\n",
      "<class 'pandas.core.frame.DataFrame'>\n",
      "RangeIndex: 100 entries, 0 to 99\n",
      "Data columns (total 11 columns):\n",
      " #   Column                      Non-Null Count  Dtype  \n",
      "---  ------                      --------------  -----  \n",
      " 0   learning style              100 non-null    object \n",
      " 1   gpa                         92 non-null     float64\n",
      " 2   student semester            100 non-null    int64  \n",
      " 3   major                       100 non-null    object \n",
      " 4   previous courses            100 non-null    object \n",
      " 5   course types                100 non-null    object \n",
      " 6   course subjects             100 non-null    object \n",
      " 7   subjects of interest        100 non-null    object \n",
      " 8   extracurricular activities  100 non-null    object \n",
      " 9   career aspirations          100 non-null    object \n",
      " 10  future topics               100 non-null    object \n",
      "dtypes: float64(1), int64(1), object(9)\n",
      "memory usage: 8.7+ KB\n",
      "None\n"
     ]
    }
   ],
   "source": [
    "print(privatized_data_reduced.info(verbose=True))\n",
    "print(nonprivatized_data_reduced.info(verbose=True))\n",
    "print(utility_cols_reduced.info(verbose=True))"
   ]
  },
  {
   "cell_type": "markdown",
   "metadata": {},
   "source": [
    "Now let's look at the top 5 elements for each of the dataframes"
   ]
  },
  {
   "cell_type": "code",
   "execution_count": 22,
   "metadata": {},
   "outputs": [
    {
     "name": "stdout",
     "output_type": "stream",
     "text": [
      "  learning style   gpa  student semester         major previous courses  \\\n",
      "0   [0.58496344]  2.06                 3   [0.7224096]     [0.32464004]   \n",
      "1   [0.43817008]  2.55                13  [0.47883472]      [0.2929188]   \n",
      "2   [0.58496344]  2.95                 2  [0.47883472]     [0.55412436]   \n",
      "3   [0.33920488]  2.25                10   [0.5707858]     [0.40311542]   \n",
      "4    [0.6112428]  2.90                 6  [0.45509797]     [0.29271233]   \n",
      "\n",
      "   course types course subjects subjects of interest  \\\n",
      "0  [0.12526418]    [0.74721223]         [0.47287908]   \n",
      "1     [0.49262]    [0.46803603]         [0.42100683]   \n",
      "2   [0.5755037]    [0.23035413]          [0.2658194]   \n",
      "3   [0.5276904]    [0.44768062]         [0.83441377]   \n",
      "4  [0.39458588]     [0.4886636]          [0.8480801]   \n",
      "\n",
      "  extracurricular activities  \n",
      "0                [0.5219876]  \n",
      "1                [0.4513868]  \n",
      "2               [0.43379772]  \n",
      "3               [0.36344242]  \n",
      "4               [0.49059412]  \n",
      "  learning style   gpa  student semester         major previous courses  \\\n",
      "0   [0.41060895]  3.82                 8  [0.42434198]     [0.83475757]   \n",
      "1   [0.41060895]  2.10                 6   [0.4618564]     [0.88093007]   \n",
      "2   [0.41253632]  2.76                 4   [0.2955408]     [0.72130936]   \n",
      "3   [0.41060895]  2.74                10  [0.66569775]     [0.58012146]   \n",
      "4    [0.5940813]  2.12                12  [0.82065135]     [0.78763545]   \n",
      "\n",
      "   course types course subjects subjects of interest  \\\n",
      "0   [0.4966916]    [0.77715796]          [0.5512933]   \n",
      "1   [0.4307396]     [0.4695229]         [0.51132303]   \n",
      "2  [0.39401814]     [0.6677859]          [0.4933965]   \n",
      "3   [0.7042831]     [0.6446638]         [0.55273974]   \n",
      "4  [0.65057755]     [0.1896559]          [0.5615725]   \n",
      "\n",
      "  extracurricular activities  \\\n",
      "0              [-0.05038602]   \n",
      "1                [0.1697502]   \n",
      "2               [0.22492518]   \n",
      "3               [0.03249375]   \n",
      "4               [0.11533839]   \n",
      "\n",
      "                                  career aspirations             future topics  \n",
      "0  [56, 104, 33, 0, 62, 95, 125, 17, 2, 98, 128, ...     [47, 27, 26, 68, 107]  \n",
      "1                    [18, 69, 116, 136, 83, 137, 82]  [132, 107, 92, 103, 111]  \n",
      "2                          [38, 30, 144, 67, 16, 12]   [33, 169, 171, 148, 48]  \n",
      "3                 [122, 97, 90, 67, 16, 32, 66, 110]   [114, 24, 25, 122, 134]  \n",
      "4  [26, 112, 114, 50, 142, 136, 138, 66, 130, 101...   [169, 48, 191, 86, 223]  \n",
      "  learning style   gpa  student semester       major  \\\n",
      "0   [0, 1, 0, 0]  3.82                 8    [21, 70]   \n",
      "1   [0, 1, 0, 0]  2.10                 6        [31]   \n",
      "2   [0, 0, 0, 1]  2.76                 4       [152]   \n",
      "3   [0, 1, 0, 0]  2.74                10       [135]   \n",
      "4   [1, 0, 0, 0]  2.12                12  [125, 157]   \n",
      "\n",
      "                                    previous courses  \\\n",
      "0  [1009, 3338, 3339, 1923, 3338, 1884, 2199, 872...   \n",
      "1  [1773, 3461, 3309, 3104, 3338, 1871, 3127, 192...   \n",
      "2  [1594, 3338, 1158, 1821, 606, 3386, 1352, 3352...   \n",
      "3  [3338, 2370, 1861, 1884, 816, 606, 1516, 1668,...   \n",
      "4  [2615, 790, 3029, 2956, 1923, 1959, 1811, 2371...   \n",
      "\n",
      "                               course types  \\\n",
      "0  [0, 4, 5, 10, 1, 2, 3, 7, 6, 14, 17, 15]   \n",
      "1                [0, 5, 1, 2, 3, 6, 20, 17]   \n",
      "2                   [0, 5, 1, 2, 3, 11, 17]   \n",
      "3      [9, 0, 4, 5, 10, 1, 2, 3, 6, 18, 20]   \n",
      "4      [9, 0, 4, 5, 10, 1, 2, 3, 7, 20, 17]   \n",
      "\n",
      "                                     course subjects    subjects of interest  \\\n",
      "0  [98, 228, 3, 6, 132, 216, 147, 62, 46, 18, 123...     [55, 36, 9, 21, 34]   \n",
      "1  [207, 98, 146, 67, 228, 2, 39, 138, 147, 206, ...     [77, 31, 72, 23, 8]   \n",
      "2  [29, 117, 39, 8, 147, 48, 67, 82, 102, 105, 10...         [0, 17, 47, 10]   \n",
      "3  [125, 90, 146, 158, 86, 6, 129, 114, 0, 71, 21...           [19, 21, 125]   \n",
      "4  [117, 35, 5, 111, 158, 228, 3, 65, 100, 132, 1...  [22, 107, 4, 72, 8, 3]   \n",
      "\n",
      "                        extracurricular activities career aspirations  \\\n",
      "0      [70, 96, 67, 64, 60, 112, 75, 170, 221, 74]       [0.64903116]   \n",
      "1                    [89, 88, 41, 73, 206, 74, 67]        [0.4544121]   \n",
      "2                                 [58, 32, 63, 82]       [0.20802777]   \n",
      "3                [6, 114, 63, 123, 82, 68, 70, 96]        [0.9857512]   \n",
      "4  [107, 71, 9, 260, 99, 114, 120, 69, 44, 73, 15]        [0.8687633]   \n",
      "\n",
      "   future topics  \n",
      "0    [0.3967114]  \n",
      "1   [0.18263344]  \n",
      "2  [0.056258533]  \n",
      "3    [0.4082702]  \n",
      "4    [0.5563616]  \n"
     ]
    }
   ],
   "source": [
    "print(privatized_data_reduced.head(n=5))\n",
    "print(nonprivatized_data_reduced.head(n=5))\n",
    "print(utility_cols_reduced.head(n=5))\n",
    "# Change n to larger numbers to see more rows of the dataframe"
   ]
  },
  {
   "cell_type": "markdown",
   "metadata": {},
   "source": [
    "## Combining Preprocessed Data\n",
    "\n",
    "Now we have to preprocess the private columns so that machine learning models can train on them. To do this we import the PrivateColumns from the 'preprocessing_private_columns' file."
   ]
  },
  {
   "cell_type": "code",
   "execution_count": 23,
   "metadata": {},
   "outputs": [],
   "source": [
    "# Run this for Jupyter Notebook\n",
    "from data_preprocessing.processing_private_columns import PrivateColumns"
   ]
  },
  {
   "cell_type": "code",
   "execution_count": null,
   "metadata": {},
   "outputs": [],
   "source": [
    "# Run this for Google Colab\n",
    "from SummerResearch2024.data_preprocessing.processing_private_columns import PrivateColumns"
   ]
  },
  {
   "cell_type": "markdown",
   "metadata": {},
   "source": [
    "Now we can instantiate the class."
   ]
  },
  {
   "cell_type": "code",
   "execution_count": 24,
   "metadata": {},
   "outputs": [],
   "source": [
    "private_columns_data = PrivateColumns(data)"
   ]
  },
  {
   "cell_type": "markdown",
   "metadata": {},
   "source": [
    "Get the privacy columns from the nonprivatized dataset as we only need them once."
   ]
  },
  {
   "cell_type": "code",
   "execution_count": 25,
   "metadata": {},
   "outputs": [],
   "source": [
    "privacy_columns = private_columns_data.get_private_cols(synthetic_data)"
   ]
  },
  {
   "cell_type": "markdown",
   "metadata": {},
   "source": [
    "Now we use pandas to combine back together the feature columns, the private columns, and the utility columns. We do this for both the privatized and nonprivatized dataset"
   ]
  },
  {
   "cell_type": "code",
   "execution_count": 26,
   "metadata": {},
   "outputs": [],
   "source": [
    "privatized_combined = pd.concat([privatized_data_reduced, utility_cols_reduced, privacy_columns])\n",
    "nonprivatized_combined = pd.concat([nonprivatized_data_reduced, utility_cols_reduced, privacy_columns])"
   ]
  },
  {
   "cell_type": "markdown",
   "metadata": {},
   "source": [
    "Let us examine the file structure of these new combined datasets."
   ]
  },
  {
   "cell_type": "code",
   "execution_count": 27,
   "metadata": {},
   "outputs": [
    {
     "name": "stdout",
     "output_type": "stream",
     "text": [
      "<class 'pandas.core.frame.DataFrame'>\n",
      "Index: 300 entries, 0 to 99\n",
      "Data columns (total 15 columns):\n",
      " #   Column                      Non-Null Count  Dtype  \n",
      "---  ------                      --------------  -----  \n",
      " 0   learning style              200 non-null    object \n",
      " 1   gpa                         184 non-null    float64\n",
      " 2   student semester            200 non-null    float64\n",
      " 3   major                       200 non-null    object \n",
      " 4   previous courses            200 non-null    object \n",
      " 5   course types                200 non-null    object \n",
      " 6   course subjects             200 non-null    object \n",
      " 7   subjects of interest        200 non-null    object \n",
      " 8   extracurricular activities  200 non-null    object \n",
      " 9   career aspirations          100 non-null    object \n",
      " 10  future topics               100 non-null    object \n",
      " 11  ethnoracial group           100 non-null    object \n",
      " 12  gender                      100 non-null    object \n",
      " 13  international status        100 non-null    object \n",
      " 14  socioeconomic status        100 non-null    object \n",
      "dtypes: float64(2), object(13)\n",
      "memory usage: 37.5+ KB\n",
      "None\n",
      "<class 'pandas.core.frame.DataFrame'>\n",
      "Index: 300 entries, 0 to 99\n",
      "Data columns (total 15 columns):\n",
      " #   Column                      Non-Null Count  Dtype  \n",
      "---  ------                      --------------  -----  \n",
      " 0   learning style              200 non-null    object \n",
      " 1   gpa                         184 non-null    float64\n",
      " 2   student semester            200 non-null    float64\n",
      " 3   major                       200 non-null    object \n",
      " 4   previous courses            200 non-null    object \n",
      " 5   course types                200 non-null    object \n",
      " 6   course subjects             200 non-null    object \n",
      " 7   subjects of interest        200 non-null    object \n",
      " 8   extracurricular activities  200 non-null    object \n",
      " 9   career aspirations          200 non-null    object \n",
      " 10  future topics               200 non-null    object \n",
      " 11  ethnoracial group           100 non-null    object \n",
      " 12  gender                      100 non-null    object \n",
      " 13  international status        100 non-null    object \n",
      " 14  socioeconomic status        100 non-null    object \n",
      "dtypes: float64(2), object(13)\n",
      "memory usage: 37.5+ KB\n",
      "None\n"
     ]
    }
   ],
   "source": [
    "print(privatized_combined.info(verbose=True))\n",
    "print(nonprivatized_combined.info(verbose=True))"
   ]
  },
  {
   "cell_type": "markdown",
   "metadata": {},
   "source": [
    "Let's look at the top five elements of both the combined dataframes."
   ]
  },
  {
   "cell_type": "code",
   "execution_count": 28,
   "metadata": {},
   "outputs": [
    {
     "name": "stdout",
     "output_type": "stream",
     "text": [
      "  learning style   gpa  student semester         major previous courses  \\\n",
      "0   [0.58496344]  2.06               3.0   [0.7224096]     [0.32464004]   \n",
      "1   [0.43817008]  2.55              13.0  [0.47883472]      [0.2929188]   \n",
      "2   [0.58496344]  2.95               2.0  [0.47883472]     [0.55412436]   \n",
      "3   [0.33920488]  2.25              10.0   [0.5707858]     [0.40311542]   \n",
      "4    [0.6112428]  2.90               6.0  [0.45509797]     [0.29271233]   \n",
      "\n",
      "   course types course subjects subjects of interest  \\\n",
      "0  [0.12526418]    [0.74721223]         [0.47287908]   \n",
      "1     [0.49262]    [0.46803603]         [0.42100683]   \n",
      "2   [0.5755037]    [0.23035413]          [0.2658194]   \n",
      "3   [0.5276904]    [0.44768062]         [0.83441377]   \n",
      "4  [0.39458588]     [0.4886636]          [0.8480801]   \n",
      "\n",
      "  extracurricular activities career aspirations future topics  \\\n",
      "0                [0.5219876]                NaN           NaN   \n",
      "1                [0.4513868]                NaN           NaN   \n",
      "2               [0.43379772]                NaN           NaN   \n",
      "3               [0.36344242]                NaN           NaN   \n",
      "4               [0.49059412]                NaN           NaN   \n",
      "\n",
      "  ethnoracial group gender international status socioeconomic status  \n",
      "0               NaN    NaN                  NaN                  NaN  \n",
      "1               NaN    NaN                  NaN                  NaN  \n",
      "2               NaN    NaN                  NaN                  NaN  \n",
      "3               NaN    NaN                  NaN                  NaN  \n",
      "4               NaN    NaN                  NaN                  NaN  \n",
      "  learning style   gpa  student semester         major previous courses  \\\n",
      "0   [0.41060895]  3.82               8.0  [0.42434198]     [0.83475757]   \n",
      "1   [0.41060895]  2.10               6.0   [0.4618564]     [0.88093007]   \n",
      "2   [0.41253632]  2.76               4.0   [0.2955408]     [0.72130936]   \n",
      "3   [0.41060895]  2.74              10.0  [0.66569775]     [0.58012146]   \n",
      "4    [0.5940813]  2.12              12.0  [0.82065135]     [0.78763545]   \n",
      "\n",
      "   course types course subjects subjects of interest  \\\n",
      "0   [0.4966916]    [0.77715796]          [0.5512933]   \n",
      "1   [0.4307396]     [0.4695229]         [0.51132303]   \n",
      "2  [0.39401814]     [0.6677859]          [0.4933965]   \n",
      "3   [0.7042831]     [0.6446638]         [0.55273974]   \n",
      "4  [0.65057755]     [0.1896559]          [0.5615725]   \n",
      "\n",
      "  extracurricular activities  \\\n",
      "0              [-0.05038602]   \n",
      "1                [0.1697502]   \n",
      "2               [0.22492518]   \n",
      "3               [0.03249375]   \n",
      "4               [0.11533839]   \n",
      "\n",
      "                                  career aspirations  \\\n",
      "0  [56, 104, 33, 0, 62, 95, 125, 17, 2, 98, 128, ...   \n",
      "1                    [18, 69, 116, 136, 83, 137, 82]   \n",
      "2                          [38, 30, 144, 67, 16, 12]   \n",
      "3                 [122, 97, 90, 67, 16, 32, 66, 110]   \n",
      "4  [26, 112, 114, 50, 142, 136, 138, 66, 130, 101...   \n",
      "\n",
      "              future topics ethnoracial group gender international status  \\\n",
      "0     [47, 27, 26, 68, 107]               NaN    NaN                  NaN   \n",
      "1  [132, 107, 92, 103, 111]               NaN    NaN                  NaN   \n",
      "2   [33, 169, 171, 148, 48]               NaN    NaN                  NaN   \n",
      "3   [114, 24, 25, 122, 134]               NaN    NaN                  NaN   \n",
      "4   [169, 48, 191, 86, 223]               NaN    NaN                  NaN   \n",
      "\n",
      "  socioeconomic status  \n",
      "0                  NaN  \n",
      "1                  NaN  \n",
      "2                  NaN  \n",
      "3                  NaN  \n",
      "4                  NaN  \n"
     ]
    }
   ],
   "source": [
    "print(privatized_combined.head(n=5))\n",
    "print(nonprivatized_combined.head(n=5))\n",
    "# Change n to larger numbers to see more rows of the dataframe"
   ]
  },
  {
   "cell_type": "markdown",
   "metadata": {},
   "source": [
    "# Utility - Privacy Tradeoff Tests\n",
    "\n",
    "Now that we have our combined datasets we are ready to begin testing!\n",
    "\n",
    "***\n",
    "\n",
    "The reason for balancing the data privatization is to maximize the utility of the dataset while minimizing the privacy loss of the dataset. Perfectly private data would have no utility and vice versa.\n",
    "\n",
    "Since our private columns are distinct classes, the privacy loss will be measured with accuracy where we want a low accuracy to keep the data safe. Meanwhile, after the RNNs our utility columns are essentially continuous. Thus utility gain will be measured with error where we want a low error to keep the data useful."
   ]
  },
  {
   "cell_type": "markdown",
   "metadata": {},
   "source": [
    "## Decision Tree Classifier\n",
    "\n",
    "Our first test for this is the classifier decision tree. Since it is a classifier we will be using it to test privacy loss for the private columns. Import the DTClassifier class from 'decision_tree_classifier'."
   ]
  },
  {
   "cell_type": "code",
   "execution_count": 29,
   "metadata": {},
   "outputs": [],
   "source": [
    "# Run this for Jupyter Notebook\n",
    "from calculating_tradeoffs.classification.decision_tree_classifier.decision_tree_classifier import DTClassifier"
   ]
  },
  {
   "cell_type": "code",
   "execution_count": null,
   "metadata": {},
   "outputs": [],
   "source": [
    "# Run this for Google Colab\n",
    "from SummerResearch2024.calculating_tradeoffs.classification.decision_tree_classifier.decision_tree_classifier import DTClassifier"
   ]
  },
  {
   "cell_type": "markdown",
   "metadata": {},
   "source": [
    "First we instantiate 2 classes. One for the privatized data and one for the non privatized data. We will only run them for the 'Simple1' RNN model to keep things simple. Ba Dum Tss! Similarly we will only look at the 'ethnoracial group' target."
   ]
  },
  {
   "cell_type": "code",
   "execution_count": 30,
   "metadata": {},
   "outputs": [],
   "source": [
    "RNN_model = 'Simple1' # You can change it to 'GRU1' or 'LSTM1' if you used a different RNN model\n",
    "target = 'ethnoracial group' # You can change it to 'gender', 'international status', or 'socioeconomic status' if you like\n",
    "privatization_type = 'Basic_DP' # You can change it to 'Basic_DP_LLC', 'Uniform', 'Uniform_LLC', 'Shuffling', or 'Complete_Shuffling' if you used a different privatization model\n",
    "\n",
    "private_classifier = DTClassifier(privatization_type, RNN_model, target, privatized_combined)"
   ]
  },
  {
   "cell_type": "markdown",
   "metadata": {},
   "source": [
    "Now that we have instantiated the class we need to find the best model. We will use a metric called cost complexity pruning to decide how to prune our tree to prevent overfitting."
   ]
  },
  {
   "cell_type": "code",
   "execution_count": 31,
   "metadata": {},
   "outputs": [
    {
     "name": "stdout",
     "output_type": "stream",
     "text": [
      "DecisionTreeClassifier(random_state=0)\n"
     ]
    }
   ],
   "source": [
    "best_model, ccp_alpha = private_classifier.get_best_model(make_graphs=False, save_model=False) # Leave this input to prevent the graphs from being produced\n",
    "print(best_model)"
   ]
  },
  {
   "cell_type": "markdown",
   "metadata": {},
   "source": [
    "What does this best model look like? Let's print out the decision tree to see for ourselves."
   ]
  },
  {
   "cell_type": "code",
   "execution_count": 32,
   "metadata": {},
   "outputs": [
    {
     "data": {
      "image/png": "[encoded data removed]",
      "text/plain": [
       "<Figure size 2000x1000 with 1 Axes>"
      ]
     },
     "metadata": {},
     "output_type": "display_data"
    }
   ],
   "source": [
    "private_classifier.plotter(model=best_model, show_fig=True)"
   ]
  },
  {
   "cell_type": "markdown",
   "metadata": {},
   "source": [
    "Now that we have the best ccp alpha let us run that model and get the classification report."
   ]
  },
  {
   "cell_type": "code",
   "execution_count": 33,
   "metadata": {},
   "outputs": [
    {
     "name": "stdout",
     "output_type": "stream",
     "text": [
      "                                  precision    recall  f1-score   support\n",
      "\n",
      "      European American or white       0.00      0.00      0.00       0.0\n",
      "             Latino/a/x American       0.00      0.00      0.00       1.0\n",
      "       African American or Black       0.00      0.00      0.00       0.0\n",
      "                  Asian American       0.00      0.00      0.00       1.0\n",
      "                     Multiracial       0.00      0.00      0.00       0.0\n",
      "American Indian or Alaska Native       0.00      0.00      0.00       0.0\n",
      "                Pacific Islander       0.00      0.00      0.00       0.0\n",
      "\n",
      "                        accuracy                           0.00       2.0\n",
      "                       macro avg       0.00      0.00      0.00       2.0\n",
      "                    weighted avg       0.00      0.00      0.00       2.0\n",
      "\n"
     ]
    }
   ],
   "source": [
    "private_classifier.run_model(ccp_alpha=ccp_alpha, print_report=True, save_files=False, plot_files=False, get_shap=False) # Leave as is to prevent the graphs from being produced"
   ]
  },
  {
   "cell_type": "markdown",
   "metadata": {},
   "source": [
    "Now let's repeat all of this for the nonprivatized dataset."
   ]
  },
  {
   "cell_type": "code",
   "execution_count": 34,
   "metadata": {},
   "outputs": [
    {
     "name": "stdout",
     "output_type": "stream",
     "text": [
      "DecisionTreeClassifier(random_state=0)\n"
     ]
    },
    {
     "data": {
      "image/png": "[encoded data removed]",
      "text/plain": [
       "<Figure size 2000x1000 with 1 Axes>"
      ]
     },
     "metadata": {},
     "output_type": "display_data"
    }
   ],
   "source": [
    "privatization_type = 'NoPrivatization'\n",
    "\n",
    "nonprivate_classifier = DTClassifier(privatization_type, RNN_model, target, privatized_combined)\n",
    "\n",
    "# Get the best ccp alpha based on X test accuracy\n",
    "best_model, ccp_alpha = nonprivate_classifier.get_best_model(make_graphs=False, save_model=False) # Leave this input to prevent the graphs from being produced\n",
    "print(best_model)\n",
    "\n",
    "# Plot the best model\n",
    "nonprivate_classifier.plotter(model=best_model, show_fig=True)"
   ]
  },
  {
   "cell_type": "markdown",
   "metadata": {},
   "source": [
    "Now that we have the best model for the nonprivatized data, lets get the classification report for the model"
   ]
  },
  {
   "cell_type": "code",
   "execution_count": 35,
   "metadata": {},
   "outputs": [
    {
     "name": "stdout",
     "output_type": "stream",
     "text": [
      "                                  precision    recall  f1-score   support\n",
      "\n",
      "      European American or white       0.00      0.00      0.00       0.0\n",
      "             Latino/a/x American       0.00      0.00      0.00       1.0\n",
      "       African American or Black       0.00      0.00      0.00       0.0\n",
      "                  Asian American       0.00      0.00      0.00       1.0\n",
      "                     Multiracial       0.00      0.00      0.00       0.0\n",
      "American Indian or Alaska Native       0.00      0.00      0.00       0.0\n",
      "                Pacific Islander       0.00      0.00      0.00       0.0\n",
      "\n",
      "                        accuracy                           0.00       2.0\n",
      "                       macro avg       0.00      0.00      0.00       2.0\n",
      "                    weighted avg       0.00      0.00      0.00       2.0\n",
      "\n"
     ]
    }
   ],
   "source": [
    "nonprivate_classifier.run_model(ccp_alpha=ccp_alpha, print_report=True, save_files=False, plot_files=False, get_shap=False) # Leave as is to prevent the graphs from being produced"
   ]
  }
 ],
 "metadata": {
  "kernelspec": {
   "display_name": "Python (SummerREU2024)",
   "language": "python",
   "name": "myenv"
  },
  "language_info": {
   "codemirror_mode": {
    "name": "ipython",
    "version": 3
   },
   "file_extension": ".py",
   "mimetype": "text/x-python",
   "name": "python",
   "nbconvert_exporter": "python",
   "pygments_lexer": "ipython3",
   "version": "3.11.9"
  }
 },
 "nbformat": 4,
 "nbformat_minor": 2
}
