{
 "cells": [
  {
   "cell_type": "markdown",
   "metadata": {},
   "source": [
    "Make sure you are running this in a virtual environment! Otherwise you may cause problems to your main device. \n",
    "\n",
    "Look up how to create a virtual environment if you don't know how. Otherwise you can just run this in google colab. Follow this link to use the colab: https://drive.google.com/drive/folders/1xqYj2SbNwp0Gpms4Qk8-YAlXKtMlvgo7?usp=share_link \n",
    "\n",
    "Then in your virtual environment run the following lines:\n",
    "\n",
    "***\n",
    "\n",
    "pip install jupyter\n",
    "\n",
    "pip install ipykernel\n",
    "\n",
    "python -m ipykernel install --user --name=myenv --display-name \"Python (myenv)\"\n",
    "\n",
    "pip install tensorflow\n",
    "\n",
    "pip install shap\n",
    "\n",
    "***\n",
    "\n",
    "The lines will install different packages and libraries that you need for this notebook. I may have forgotten some in which case you can likely just pip install \"name of package\" in the same format as above.\n",
    "\n",
    "Also, make sure to download all the files called here and every file in the 'data_files_for_data_construction' folder. Ideally you just download the whole github, but some of the CSV files are rather large.\n",
    "\n",
    "***\n",
    "\n",
    "Before we begin we have some standard python libraries to import that we will use throughout this notebook."
   ]
  },
  {
   "cell_type": "code",
   "execution_count": 1,
   "metadata": {},
   "outputs": [],
   "source": [
    "import pandas as pd\n",
    "import time"
   ]
  },
  {
   "cell_type": "markdown",
   "metadata": {},
   "source": [
    "There was no existing dataset that contained the data needed for this project. Thus first we must generate a synthetic dataset. The dataset will be generated based on a variety of real data, mappings between datasets, and artificially generated lists. \n",
    "\n",
    "First we import the Data class which contains all the data needed to generate the synthetic dataset.\n",
    "\n",
    "Next we import the DataGenerator class for the CPU. Note that a version does exist that runs on the GPU."
   ]
  },
  {
   "cell_type": "code",
   "execution_count": 2,
   "metadata": {},
   "outputs": [],
   "source": [
    "from datafiles_for_data_construction.data import Data\n",
    "from data_generation.data_generation_CPU import DataGenerator"
   ]
  },
  {
   "cell_type": "markdown",
   "metadata": {},
   "source": [
    "Next, we instantiate the Data and DataGenerator classes. The Data class allows us to access all the data needed to generate the synthetic dataset and the DataGenerator class allows us to use the functions needed to generate the synthetic dataset."
   ]
  },
  {
   "cell_type": "code",
   "execution_count": 3,
   "metadata": {},
   "outputs": [],
   "source": [
    "data = Data()\n",
    "data_generator = DataGenerator(data)"
   ]
  },
  {
   "cell_type": "markdown",
   "metadata": {},
   "source": [
    "What does the data look like? Some of the data is a list of values. Some lists were generated synthetically, others were pulled from various sources. More information can be found in the README file. Here is a list of learning styles:"
   ]
  },
  {
   "cell_type": "code",
   "execution_count": 4,
   "metadata": {},
   "outputs": [
    {
     "data": {
      "text/plain": [
       "['Visual', 'Auditory', 'Read/Write', 'Kinesthetic']"
      ]
     },
     "execution_count": 4,
     "metadata": {},
     "output_type": "execute_result"
    }
   ],
   "source": [
    "data.learning_style()[\"learning_style_list\"]"
   ]
  },
  {
   "cell_type": "markdown",
   "metadata": {},
   "source": [
    "Some of the data is a dictionary. Some dictionaries map different lists together while others map lists to demographic statistics on how common each item is. This dictionary maps the learning styles to the percentage of people that have said style."
   ]
  },
  {
   "cell_type": "code",
   "execution_count": 5,
   "metadata": {},
   "outputs": [
    {
     "data": {
      "text/plain": [
       "{'Visual': 27.27, 'Auditory': 23.56, 'Read/Write': 21.16, 'Kinesthetic': 28.01}"
      ]
     },
     "execution_count": 5,
     "metadata": {},
     "output_type": "execute_result"
    }
   ],
   "source": [
    "data.learning_style()[\"learning_style\"]"
   ]
  },
  {
   "cell_type": "markdown",
   "metadata": {},
   "source": [
    "Now we use the generate_synthetic_dataset function to create a dataset from all the data. This function has two inputs:\n",
    "- number of samples (an integer) which tell the function how many 'students' we want in our dataset\n",
    "- batch size (an integer) which tells the function how to split up the work to prevent overloading the computer.\n",
    "You can change the values if you want to generate more or less data. Be careful as higher values for number of samples will lead to a longer runtime."
   ]
  },
  {
   "cell_type": "code",
   "execution_count": 6,
   "metadata": {},
   "outputs": [],
   "source": [
    "num_samples = 100 # You can change these values if you want\n",
    "batch_size = 10 # Batch size should be about 1/10 of the number of samples"
   ]
  },
  {
   "cell_type": "markdown",
   "metadata": {},
   "source": [
    "Now we call the function. Use the time library to see how long the generator takes."
   ]
  },
  {
   "cell_type": "code",
   "execution_count": 7,
   "metadata": {},
   "outputs": [
    {
     "name": "stdout",
     "output_type": "stream",
     "text": [
      "16.318107843399048\n"
     ]
    }
   ],
   "source": [
    "start_time = time.time()\n",
    "synthetic_data = data_generator.generate_synthetic_dataset(num_samples, batch_size)\n",
    "end_time = time.time()\n",
    "runtime = end_time - start_time\n",
    "print(runtime)"
   ]
  },
  {
   "cell_type": "markdown",
   "metadata": {},
   "source": [
    "'generate_synthetic_dataset' outputs a pandas dataframe. Lets look at the top 5 elements of the dataframe. You can look back at the README file to get a better sense of what each column contains and how it was generated."
   ]
  },
  {
   "cell_type": "code",
   "execution_count": 8,
   "metadata": {},
   "outputs": [
    {
     "data": {
      "text/html": [
       "<div>\n",
       "<style scoped>\n",
       "    .dataframe tbody tr th:only-of-type {\n",
       "        vertical-align: middle;\n",
       "    }\n",
       "\n",
       "    .dataframe tbody tr th {\n",
       "        vertical-align: top;\n",
       "    }\n",
       "\n",
       "    .dataframe thead th {\n",
       "        text-align: right;\n",
       "    }\n",
       "</style>\n",
       "<table border=\"1\" class=\"dataframe\">\n",
       "  <thead>\n",
       "    <tr style=\"text-align: right;\">\n",
       "      <th></th>\n",
       "      <th>first name</th>\n",
       "      <th>last name</th>\n",
       "      <th>ethnoracial group</th>\n",
       "      <th>gender</th>\n",
       "      <th>international status</th>\n",
       "      <th>socioeconomic status</th>\n",
       "      <th>learning style</th>\n",
       "      <th>gpa</th>\n",
       "      <th>student semester</th>\n",
       "      <th>major</th>\n",
       "      <th>previous courses</th>\n",
       "      <th>course types</th>\n",
       "      <th>course subjects</th>\n",
       "      <th>subjects of interest</th>\n",
       "      <th>extracurricular activities</th>\n",
       "      <th>career aspirations</th>\n",
       "      <th>future topics</th>\n",
       "    </tr>\n",
       "  </thead>\n",
       "  <tbody>\n",
       "    <tr>\n",
       "      <th>0</th>\n",
       "      <td>Sylus</td>\n",
       "      <td>Harkey</td>\n",
       "      <td>European American or white</td>\n",
       "      <td>Male</td>\n",
       "      <td>Domestic</td>\n",
       "      <td>Lower-middle income</td>\n",
       "      <td>[Visual]</td>\n",
       "      <td>3.50</td>\n",
       "      <td>3</td>\n",
       "      <td>[]</td>\n",
       "      <td>[Undergraduate Open Seminar, First Year Bosnia...</td>\n",
       "      <td>[[Independent Study], [Lecture, Practice], [Le...</td>\n",
       "      <td>[BCS, HDFS, HORT, MUSC, CS, ENG, ECON, MUS, CM...</td>\n",
       "      <td>[Art, Music]</td>\n",
       "      <td>[Multicultural Student Association, Fashion De...</td>\n",
       "      <td>[Photographer, Designer, Artist and Related Wo...</td>\n",
       "      <td>[Graphic Design, Dance, Film and Media Studies...</td>\n",
       "    </tr>\n",
       "    <tr>\n",
       "      <th>1</th>\n",
       "      <td>Jvon</td>\n",
       "      <td>Cronier</td>\n",
       "      <td>European American or white</td>\n",
       "      <td>Female</td>\n",
       "      <td>Domestic</td>\n",
       "      <td>Lower-middle income</td>\n",
       "      <td>[Kinesthetic]</td>\n",
       "      <td>2.74</td>\n",
       "      <td>7</td>\n",
       "      <td>[Operations Logistics And E-Commerce]</td>\n",
       "      <td>[Undergraduate Open Seminar, Engineering Graph...</td>\n",
       "      <td>[[Online], [Laboratory, Lecture-Discussion], [...</td>\n",
       "      <td>[AFST, HDFS, CS, ARCH, CEE, MUS, RHET, PS, ECO...</td>\n",
       "      <td>[Biology, Psychology, Comparative World Litera...</td>\n",
       "      <td>[Supply Chain Management Club, Marketing Assoc...</td>\n",
       "      <td>[Production, Planning, and Expediting Clerk, P...</td>\n",
       "      <td>[Economics, Business, Logistics, Marketing, Bu...</td>\n",
       "    </tr>\n",
       "    <tr>\n",
       "      <th>2</th>\n",
       "      <td>Devine</td>\n",
       "      <td>Tylenda</td>\n",
       "      <td>European American or white</td>\n",
       "      <td>Female</td>\n",
       "      <td>Domestic</td>\n",
       "      <td>Middle income</td>\n",
       "      <td>[Visual, Auditory]</td>\n",
       "      <td>2.04</td>\n",
       "      <td>12</td>\n",
       "      <td>[Environmental Science, Nutrition Sciences]</td>\n",
       "      <td>[Public Speaking, Writing and Research, Genera...</td>\n",
       "      <td>[[Discussion/Recitation, Online Lecture Discus...</td>\n",
       "      <td>[AFST, THEA, ESL, CS, ARCH, CLE, MUS, ECE, WLO...</td>\n",
       "      <td>[Literature, Comparative World Literature, Eng...</td>\n",
       "      <td>[Journalism Club, Business Club, Finance Club,...</td>\n",
       "      <td>[Manager, Dietician and Nutritionist, First-Li...</td>\n",
       "      <td>[Environmental Science, Geology, Natural Resou...</td>\n",
       "    </tr>\n",
       "    <tr>\n",
       "      <th>3</th>\n",
       "      <td>Jelani</td>\n",
       "      <td>Minko</td>\n",
       "      <td>Latino/a/x American</td>\n",
       "      <td>Male</td>\n",
       "      <td>International</td>\n",
       "      <td>Near poverty</td>\n",
       "      <td>[Kinesthetic]</td>\n",
       "      <td>NaN</td>\n",
       "      <td>0</td>\n",
       "      <td>[]</td>\n",
       "      <td>[]</td>\n",
       "      <td>[]</td>\n",
       "      <td>[]</td>\n",
       "      <td>[]</td>\n",
       "      <td>[]</td>\n",
       "      <td>[]</td>\n",
       "      <td>[Public Health, Family Studies, Environmental ...</td>\n",
       "    </tr>\n",
       "    <tr>\n",
       "      <th>4</th>\n",
       "      <td>Arista</td>\n",
       "      <td>Petriccione</td>\n",
       "      <td>European American or white</td>\n",
       "      <td>Female</td>\n",
       "      <td>Domestic</td>\n",
       "      <td>Middle income</td>\n",
       "      <td>[Read/Write]</td>\n",
       "      <td>3.51</td>\n",
       "      <td>10</td>\n",
       "      <td>[Philosophy And Religious Studies, Human Servi...</td>\n",
       "      <td>[General Chemistry II, Intro to Academic Writi...</td>\n",
       "      <td>[[Study Abroad], [Online], [Studio], [Laborato...</td>\n",
       "      <td>[CS, ESL, ACCY, IB, SWAH, MUS, ECE, LA, MSE, H...</td>\n",
       "      <td>[History, Philosophy, Classical Civilizations,...</td>\n",
       "      <td>[Sorority Council, Social Work Club, Education...</td>\n",
       "      <td>[First-Line Supervisor of Sale Worker, Element...</td>\n",
       "      <td>[Educational Psychology, Philosophy, Family St...</td>\n",
       "    </tr>\n",
       "  </tbody>\n",
       "</table>\n",
       "</div>"
      ],
      "text/plain": [
       "  first name    last name           ethnoracial group  gender  \\\n",
       "0      Sylus       Harkey  European American or white    Male   \n",
       "1       Jvon      Cronier  European American or white  Female   \n",
       "2     Devine      Tylenda  European American or white  Female   \n",
       "3     Jelani        Minko         Latino/a/x American    Male   \n",
       "4     Arista  Petriccione  European American or white  Female   \n",
       "\n",
       "  international status socioeconomic status      learning style   gpa  \\\n",
       "0             Domestic  Lower-middle income            [Visual]  3.50   \n",
       "1             Domestic  Lower-middle income       [Kinesthetic]  2.74   \n",
       "2             Domestic        Middle income  [Visual, Auditory]  2.04   \n",
       "3        International         Near poverty       [Kinesthetic]   NaN   \n",
       "4             Domestic        Middle income        [Read/Write]  3.51   \n",
       "\n",
       "   student semester                                              major  \\\n",
       "0                 3                                                 []   \n",
       "1                 7              [Operations Logistics And E-Commerce]   \n",
       "2                12        [Environmental Science, Nutrition Sciences]   \n",
       "3                 0                                                 []   \n",
       "4                10  [Philosophy And Religious Studies, Human Servi...   \n",
       "\n",
       "                                    previous courses  \\\n",
       "0  [Undergraduate Open Seminar, First Year Bosnia...   \n",
       "1  [Undergraduate Open Seminar, Engineering Graph...   \n",
       "2  [Public Speaking, Writing and Research, Genera...   \n",
       "3                                                 []   \n",
       "4  [General Chemistry II, Intro to Academic Writi...   \n",
       "\n",
       "                                        course types  \\\n",
       "0  [[Independent Study], [Lecture, Practice], [Le...   \n",
       "1  [[Online], [Laboratory, Lecture-Discussion], [...   \n",
       "2  [[Discussion/Recitation, Online Lecture Discus...   \n",
       "3                                                 []   \n",
       "4  [[Study Abroad], [Online], [Studio], [Laborato...   \n",
       "\n",
       "                                     course subjects  \\\n",
       "0  [BCS, HDFS, HORT, MUSC, CS, ENG, ECON, MUS, CM...   \n",
       "1  [AFST, HDFS, CS, ARCH, CEE, MUS, RHET, PS, ECO...   \n",
       "2  [AFST, THEA, ESL, CS, ARCH, CLE, MUS, ECE, WLO...   \n",
       "3                                                 []   \n",
       "4  [CS, ESL, ACCY, IB, SWAH, MUS, ECE, LA, MSE, H...   \n",
       "\n",
       "                                subjects of interest  \\\n",
       "0                                       [Art, Music]   \n",
       "1  [Biology, Psychology, Comparative World Litera...   \n",
       "2  [Literature, Comparative World Literature, Eng...   \n",
       "3                                                 []   \n",
       "4  [History, Philosophy, Classical Civilizations,...   \n",
       "\n",
       "                          extracurricular activities  \\\n",
       "0  [Multicultural Student Association, Fashion De...   \n",
       "1  [Supply Chain Management Club, Marketing Assoc...   \n",
       "2  [Journalism Club, Business Club, Finance Club,...   \n",
       "3                                                 []   \n",
       "4  [Sorority Council, Social Work Club, Education...   \n",
       "\n",
       "                                  career aspirations  \\\n",
       "0  [Photographer, Designer, Artist and Related Wo...   \n",
       "1  [Production, Planning, and Expediting Clerk, P...   \n",
       "2  [Manager, Dietician and Nutritionist, First-Li...   \n",
       "3                                                 []   \n",
       "4  [First-Line Supervisor of Sale Worker, Element...   \n",
       "\n",
       "                                       future topics  \n",
       "0  [Graphic Design, Dance, Film and Media Studies...  \n",
       "1  [Economics, Business, Logistics, Marketing, Bu...  \n",
       "2  [Environmental Science, Geology, Natural Resou...  \n",
       "3  [Public Health, Family Studies, Environmental ...  \n",
       "4  [Educational Psychology, Philosophy, Family St...  "
      ]
     },
     "execution_count": 8,
     "metadata": {},
     "output_type": "execute_result"
    }
   ],
   "source": [
    "synthetic_data.head(n=5) # Change n to larger numbers to see more rows of the dataframe"
   ]
  },
  {
   "cell_type": "markdown",
   "metadata": {},
   "source": [
    "Notice that we have columns that are lists and columns that are strings. Machine learning models need the input data to be numerical. Thus some data preprocessing is required.\n",
    "\n",
    "We import the Preprocessing class to do the preprocessing work."
   ]
  },
  {
   "cell_type": "code",
   "execution_count": 9,
   "metadata": {},
   "outputs": [],
   "source": [
    "from data_preprocessing.preprocessing import PreProcessing"
   ]
  },
  {
   "cell_type": "markdown",
   "metadata": {},
   "source": [
    "Inside the Preprocessing class there are two functions that do the main preprocessing work:\n",
    "- 'stringlist_to_binarylist': converts lists of strings into a binary list\n",
    "- 'string_list_to_numberedlist': converts lits of strings into a numbered list.\n",
    "\n",
    "Imagine the full options available are ['alice', 'bob', 'charlie']\n",
    "Thus for the entry ['alice', 'charlie'] we get:\n",
    "[1,0,1] for 'stringlist_to_binarylist'\n",
    "[0,2] for 'string_list_to_numberedlist'\n",
    "\n",
    "When we instantiate the class and call the 'preprocess_dataset' function both of the above functions will be called on certain columns. 'stringlist_to_binarylist' is called on 'learning styles' and 'string_list_to_numberedlist' is called on all the other lists."
   ]
  },
  {
   "cell_type": "code",
   "execution_count": 10,
   "metadata": {},
   "outputs": [
    {
     "name": "stdout",
     "output_type": "stream",
     "text": [
      "0.12319183349609375\n"
     ]
    }
   ],
   "source": [
    "preprocessor = PreProcessing(data)\n",
    "start_time = time.time()\n",
    "preprocessed_data = preprocessor.preprocess_dataset(synthetic_data)\n",
    "end_time = time.time()\n",
    "runtime = end_time - start_time\n",
    "print(runtime)"
   ]
  },
  {
   "cell_type": "markdown",
   "metadata": {},
   "source": [
    "'preprocess_dataset' outputs a pandas dataframe. Lets look at the top 5 elements of the dataframe."
   ]
  },
  {
   "cell_type": "code",
   "execution_count": 11,
   "metadata": {
    "scrolled": true
   },
   "outputs": [
    {
     "data": {
      "text/html": [
       "<div>\n",
       "<style scoped>\n",
       "    .dataframe tbody tr th:only-of-type {\n",
       "        vertical-align: middle;\n",
       "    }\n",
       "\n",
       "    .dataframe tbody tr th {\n",
       "        vertical-align: top;\n",
       "    }\n",
       "\n",
       "    .dataframe thead th {\n",
       "        text-align: right;\n",
       "    }\n",
       "</style>\n",
       "<table border=\"1\" class=\"dataframe\">\n",
       "  <thead>\n",
       "    <tr style=\"text-align: right;\">\n",
       "      <th></th>\n",
       "      <th>learning style</th>\n",
       "      <th>gpa</th>\n",
       "      <th>student semester</th>\n",
       "      <th>major</th>\n",
       "      <th>previous courses</th>\n",
       "      <th>course types</th>\n",
       "      <th>course subjects</th>\n",
       "      <th>subjects of interest</th>\n",
       "      <th>extracurricular activities</th>\n",
       "      <th>career aspirations</th>\n",
       "      <th>future topics</th>\n",
       "    </tr>\n",
       "  </thead>\n",
       "  <tbody>\n",
       "    <tr>\n",
       "      <th>0</th>\n",
       "      <td>[1, 0, 0, 0]</td>\n",
       "      <td>3.50</td>\n",
       "      <td>3</td>\n",
       "      <td>[]</td>\n",
       "      <td>[3338, 1230, 2277, 3339, 2615, 1811, 2122, 197...</td>\n",
       "      <td>[0, 4, 5, 1, 2, 3, 20, 14]</td>\n",
       "      <td>[33, 98, 102, 138, 56, 70, 65, 137, 54, 5, 46,...</td>\n",
       "      <td>[7, 8]</td>\n",
       "      <td>[34, 179, 175, 174, 169, 173]</td>\n",
       "      <td>[107, 43, 10]</td>\n",
       "      <td>[78, 39, 66, 14, 157]</td>\n",
       "    </tr>\n",
       "    <tr>\n",
       "      <th>1</th>\n",
       "      <td>[0, 0, 0, 1]</td>\n",
       "      <td>2.74</td>\n",
       "      <td>7</td>\n",
       "      <td>[138]</td>\n",
       "      <td>[3338, 1067, 2220, 1075, 1312, 2527, 1774, 151...</td>\n",
       "      <td>[9, 0, 4, 5, 10, 1, 2, 3, 11, 6, 20]</td>\n",
       "      <td>[9, 98, 56, 18, 44, 137, 206, 228, 65, 78, 147...</td>\n",
       "      <td>[2, 10, 55, 50, 12, 21, 91]</td>\n",
       "      <td>[117, 67, 221, 60, 96]</td>\n",
       "      <td>[115, 117, 62, 48, 80, 82, 56, 129, 125, 16, 2...</td>\n",
       "      <td>[47, 26, 206, 107, 27]</td>\n",
       "    </tr>\n",
       "    <tr>\n",
       "      <th>2</th>\n",
       "      <td>[1, 1, 0, 0]</td>\n",
       "      <td>2.04</td>\n",
       "      <td>12</td>\n",
       "      <td>[61, 136]</td>\n",
       "      <td>[2615, 3461, 1312, 3411, 2517, 1742, 1346, 817...</td>\n",
       "      <td>[9, 0, 4, 13, 5, 10, 1, 2, 3, 8, 20, 16, 14, 1...</td>\n",
       "      <td>[9, 162, 79, 56, 18, 53, 137, 64, 230, 116, 20...</td>\n",
       "      <td>[5, 55, 60, 114, 18, 15, 29, 8]</td>\n",
       "      <td>[69, 60, 96, 90, 62, 212, 67, 217, 168]</td>\n",
       "      <td>[82, 45, 62, 64, 56, 55, 52, 125, 122, 20, 140...</td>\n",
       "      <td>[59, 75, 120, 46, 6]</td>\n",
       "    </tr>\n",
       "    <tr>\n",
       "      <th>3</th>\n",
       "      <td>[0, 0, 0, 1]</td>\n",
       "      <td>NaN</td>\n",
       "      <td>0</td>\n",
       "      <td>[]</td>\n",
       "      <td>[]</td>\n",
       "      <td>[]</td>\n",
       "      <td>[]</td>\n",
       "      <td>[]</td>\n",
       "      <td>[]</td>\n",
       "      <td>[]</td>\n",
       "      <td>[134, 65, 60, 77, 145]</td>\n",
       "    </tr>\n",
       "    <tr>\n",
       "      <th>4</th>\n",
       "      <td>[0, 0, 1, 0]</td>\n",
       "      <td>3.51</td>\n",
       "      <td>10</td>\n",
       "      <td>[143, 85]</td>\n",
       "      <td>[1311, 1753, 3401, 991, 1311, 3187, 3386, 3352...</td>\n",
       "      <td>[9, 0, 4, 13, 5, 10, 1, 2, 3, 11, 6, 18, 20, 1...</td>\n",
       "      <td>[56, 79, 2, 105, 217, 137, 64, 116, 136, 102, ...</td>\n",
       "      <td>[4, 14, 56, 92, 22, 67, 15, 77, 8, 72, 3]</td>\n",
       "      <td>[9, 120, 71, 212, 113, 87, 90, 62, 23, 84, 260]</td>\n",
       "      <td>[62, 50, 112, 136, 26, 45, 53, 22, 40, 125, 11...</td>\n",
       "      <td>[49, 129, 65, 48, 180]</td>\n",
       "    </tr>\n",
       "  </tbody>\n",
       "</table>\n",
       "</div>"
      ],
      "text/plain": [
       "  learning style   gpa  student semester      major  \\\n",
       "0   [1, 0, 0, 0]  3.50                 3         []   \n",
       "1   [0, 0, 0, 1]  2.74                 7      [138]   \n",
       "2   [1, 1, 0, 0]  2.04                12  [61, 136]   \n",
       "3   [0, 0, 0, 1]   NaN                 0         []   \n",
       "4   [0, 0, 1, 0]  3.51                10  [143, 85]   \n",
       "\n",
       "                                    previous courses  \\\n",
       "0  [3338, 1230, 2277, 3339, 2615, 1811, 2122, 197...   \n",
       "1  [3338, 1067, 2220, 1075, 1312, 2527, 1774, 151...   \n",
       "2  [2615, 3461, 1312, 3411, 2517, 1742, 1346, 817...   \n",
       "3                                                 []   \n",
       "4  [1311, 1753, 3401, 991, 1311, 3187, 3386, 3352...   \n",
       "\n",
       "                                        course types  \\\n",
       "0                         [0, 4, 5, 1, 2, 3, 20, 14]   \n",
       "1               [9, 0, 4, 5, 10, 1, 2, 3, 11, 6, 20]   \n",
       "2  [9, 0, 4, 13, 5, 10, 1, 2, 3, 8, 20, 16, 14, 1...   \n",
       "3                                                 []   \n",
       "4  [9, 0, 4, 13, 5, 10, 1, 2, 3, 11, 6, 18, 20, 1...   \n",
       "\n",
       "                                     course subjects  \\\n",
       "0  [33, 98, 102, 138, 56, 70, 65, 137, 54, 5, 46,...   \n",
       "1  [9, 98, 56, 18, 44, 137, 206, 228, 65, 78, 147...   \n",
       "2  [9, 162, 79, 56, 18, 53, 137, 64, 230, 116, 20...   \n",
       "3                                                 []   \n",
       "4  [56, 79, 2, 105, 217, 137, 64, 116, 136, 102, ...   \n",
       "\n",
       "                        subjects of interest  \\\n",
       "0                                     [7, 8]   \n",
       "1                [2, 10, 55, 50, 12, 21, 91]   \n",
       "2            [5, 55, 60, 114, 18, 15, 29, 8]   \n",
       "3                                         []   \n",
       "4  [4, 14, 56, 92, 22, 67, 15, 77, 8, 72, 3]   \n",
       "\n",
       "                        extracurricular activities  \\\n",
       "0                    [34, 179, 175, 174, 169, 173]   \n",
       "1                           [117, 67, 221, 60, 96]   \n",
       "2          [69, 60, 96, 90, 62, 212, 67, 217, 168]   \n",
       "3                                               []   \n",
       "4  [9, 120, 71, 212, 113, 87, 90, 62, 23, 84, 260]   \n",
       "\n",
       "                                  career aspirations           future topics  \n",
       "0                                      [107, 43, 10]   [78, 39, 66, 14, 157]  \n",
       "1  [115, 117, 62, 48, 80, 82, 56, 129, 125, 16, 2...  [47, 26, 206, 107, 27]  \n",
       "2  [82, 45, 62, 64, 56, 55, 52, 125, 122, 20, 140...    [59, 75, 120, 46, 6]  \n",
       "3                                                 []  [134, 65, 60, 77, 145]  \n",
       "4  [62, 50, 112, 136, 26, 45, 53, 22, 40, 125, 11...  [49, 129, 65, 48, 180]  "
      ]
     },
     "execution_count": 11,
     "metadata": {},
     "output_type": "execute_result"
    }
   ],
   "source": [
    "preprocessed_data.head(n=5) # Change n to larger numbers to see more rows of the dataframe"
   ]
  },
  {
   "cell_type": "markdown",
   "metadata": {},
   "source": [
    "Now that the data has been preprocessed we must privatize the data to keep it safe.\n",
    "\n",
    "We import the Privatizer class to do this."
   ]
  },
  {
   "cell_type": "code",
   "execution_count": 12,
   "metadata": {},
   "outputs": [],
   "source": [
    "from data_privatization.privatization import Privatizer"
   ]
  },
  {
   "cell_type": "markdown",
   "metadata": {},
   "source": [
    "There are a variety of privatization methods you can try:\n",
    "- Basic Differential Privacy (laplace noise addition)\n",
    "- Uniform Noise Differential Privacy (uniform noise addition)\n",
    "- Shuffling\n",
    "Both Differential Privacy types can be done with or without list lengthening. This means the list columns like 'previous courses' could be lengthened according to the noise addition function. More details can be found in the README file. Let's try basic differential privacy with list lengthening."
   ]
  },
  {
   "cell_type": "code",
   "execution_count": 13,
   "metadata": {},
   "outputs": [],
   "source": [
    "privatization_type = 'basic differential privacy'\n",
    "# Other 'privatization_type' options: 'uniform', 'shuffle', 'full shuffle' (full shuffle shuffles all of the rows)\n",
    "privatizer = Privatizer(data, style=privatization_type, list_length=True)\n",
    "# Can set 'list_length' to false if you don't want to allow the list sizes to change"
   ]
  },
  {
   "cell_type": "markdown",
   "metadata": {},
   "source": [
    "Now we call 'privatize_dataset'. Use the time library to see how long the privatizer takes."
   ]
  },
  {
   "cell_type": "code",
   "execution_count": 14,
   "metadata": {},
   "outputs": [
    {
     "name": "stdout",
     "output_type": "stream",
     "text": [
      "0.012232303619384766\n"
     ]
    }
   ],
   "source": [
    "start_time = time.time()\n",
    "privatized_data = privatizer.privatize_dataset(preprocessed_data)\n",
    "end_time = time.time()\n",
    "runtime = end_time - start_time\n",
    "print(runtime)"
   ]
  },
  {
   "cell_type": "markdown",
   "metadata": {},
   "source": [
    "'preprocess_dataset' outputs a pandas dataframe. Lets look at the top 5 elements of the dataframe."
   ]
  },
  {
   "cell_type": "code",
   "execution_count": 15,
   "metadata": {},
   "outputs": [
    {
     "data": {
      "text/html": [
       "<div>\n",
       "<style scoped>\n",
       "    .dataframe tbody tr th:only-of-type {\n",
       "        vertical-align: middle;\n",
       "    }\n",
       "\n",
       "    .dataframe tbody tr th {\n",
       "        vertical-align: top;\n",
       "    }\n",
       "\n",
       "    .dataframe thead th {\n",
       "        text-align: right;\n",
       "    }\n",
       "</style>\n",
       "<table border=\"1\" class=\"dataframe\">\n",
       "  <thead>\n",
       "    <tr style=\"text-align: right;\">\n",
       "      <th></th>\n",
       "      <th>learning style</th>\n",
       "      <th>gpa</th>\n",
       "      <th>student semester</th>\n",
       "      <th>major</th>\n",
       "      <th>previous courses</th>\n",
       "      <th>course types</th>\n",
       "      <th>course subjects</th>\n",
       "      <th>subjects of interest</th>\n",
       "      <th>extracurricular activities</th>\n",
       "    </tr>\n",
       "  </thead>\n",
       "  <tbody>\n",
       "    <tr>\n",
       "      <th>0</th>\n",
       "      <td>[1, 1, 1, 0]</td>\n",
       "      <td>2.65</td>\n",
       "      <td>12</td>\n",
       "      <td>[156, 73]</td>\n",
       "      <td>[357, 2641, 2696, 2584, 2856, 924, 1338, 1997,...</td>\n",
       "      <td>[14, 18, 0, 3, 3, 14, 1, 20, 9, 5]</td>\n",
       "      <td>[98, 178, 98, 144, 106, 148, 127, 18, 194, 31,...</td>\n",
       "      <td>[134, 89, 123, 44, 23, 106, 135, 77, 38, 114, ...</td>\n",
       "      <td>[98, 289, 82, 155, 254, 41, 144, 296, 61, 231,...</td>\n",
       "    </tr>\n",
       "    <tr>\n",
       "      <th>1</th>\n",
       "      <td>[0, 1, 1, 1]</td>\n",
       "      <td>3.66</td>\n",
       "      <td>12</td>\n",
       "      <td>[157]</td>\n",
       "      <td>[2208, 1840, 985, 2462, 3388, 1069, 3096, 791,...</td>\n",
       "      <td>[18, 9, 20, 18, 2, 11, 2, 17, 17, 17, 18, 16, ...</td>\n",
       "      <td>[95, 83]</td>\n",
       "      <td>[114, 66, 111, 71, 113, 117, 100, 45, 63, 34, 6]</td>\n",
       "      <td>[172, 237, 142]</td>\n",
       "    </tr>\n",
       "    <tr>\n",
       "      <th>2</th>\n",
       "      <td>[1, 1, 1, 1]</td>\n",
       "      <td>2.11</td>\n",
       "      <td>7</td>\n",
       "      <td>[19, 75]</td>\n",
       "      <td>[]</td>\n",
       "      <td>[20, 1, 15, 3, 6, 5, 0, 1, 18, 11, 2, 15, 10, ...</td>\n",
       "      <td>[198]</td>\n",
       "      <td>[93, 77, 45, 66, 38, 72, 101, 4, 69, 86, 64, 4...</td>\n",
       "      <td>[67, 95, 224, 209, 102, 151, 254, 165, 104, 20...</td>\n",
       "    </tr>\n",
       "    <tr>\n",
       "      <th>3</th>\n",
       "      <td>[1, 1, 1, 0]</td>\n",
       "      <td>NaN</td>\n",
       "      <td>13</td>\n",
       "      <td>[]</td>\n",
       "      <td>[2520, 2323, 2381, 3411, 3120, 1940, 2384, 125...</td>\n",
       "      <td>[11, 7, 9, 13, 18, 15, 15, 15, 2, 20]</td>\n",
       "      <td>[79, 199, 119, 9, 68, 218, 106, 163, 236, 17, ...</td>\n",
       "      <td>[60, 16, 80, 115, 66, 110, 15, 112, 136, 46, 7...</td>\n",
       "      <td>[36, 5, 202, 66, 105, 23, 152, 259, 74, 141, 1...</td>\n",
       "    </tr>\n",
       "    <tr>\n",
       "      <th>4</th>\n",
       "      <td>[0, 0, 1, 1]</td>\n",
       "      <td>2.85</td>\n",
       "      <td>5</td>\n",
       "      <td>[118, 151]</td>\n",
       "      <td>[1211, 1936, 1057, 1247, 2051, 3459, 2172, 298...</td>\n",
       "      <td>[2, 5, 8, 4, 7]</td>\n",
       "      <td>[189, 19, 94, 131, 223, 68, 70, 27, 123, 161, ...</td>\n",
       "      <td>[11, 27, 39, 46, 119, 10, 40, 135, 2, 67, 65, ...</td>\n",
       "      <td>[109, 104, 195, 112, 211, 89, 89, 30, 34, 56, ...</td>\n",
       "    </tr>\n",
       "  </tbody>\n",
       "</table>\n",
       "</div>"
      ],
      "text/plain": [
       "  learning style   gpa  student semester       major  \\\n",
       "0   [1, 1, 1, 0]  2.65                12   [156, 73]   \n",
       "1   [0, 1, 1, 1]  3.66                12       [157]   \n",
       "2   [1, 1, 1, 1]  2.11                 7    [19, 75]   \n",
       "3   [1, 1, 1, 0]   NaN                13          []   \n",
       "4   [0, 0, 1, 1]  2.85                 5  [118, 151]   \n",
       "\n",
       "                                    previous courses  \\\n",
       "0  [357, 2641, 2696, 2584, 2856, 924, 1338, 1997,...   \n",
       "1  [2208, 1840, 985, 2462, 3388, 1069, 3096, 791,...   \n",
       "2                                                 []   \n",
       "3  [2520, 2323, 2381, 3411, 3120, 1940, 2384, 125...   \n",
       "4  [1211, 1936, 1057, 1247, 2051, 3459, 2172, 298...   \n",
       "\n",
       "                                        course types  \\\n",
       "0                 [14, 18, 0, 3, 3, 14, 1, 20, 9, 5]   \n",
       "1  [18, 9, 20, 18, 2, 11, 2, 17, 17, 17, 18, 16, ...   \n",
       "2  [20, 1, 15, 3, 6, 5, 0, 1, 18, 11, 2, 15, 10, ...   \n",
       "3              [11, 7, 9, 13, 18, 15, 15, 15, 2, 20]   \n",
       "4                                    [2, 5, 8, 4, 7]   \n",
       "\n",
       "                                     course subjects  \\\n",
       "0  [98, 178, 98, 144, 106, 148, 127, 18, 194, 31,...   \n",
       "1                                           [95, 83]   \n",
       "2                                              [198]   \n",
       "3  [79, 199, 119, 9, 68, 218, 106, 163, 236, 17, ...   \n",
       "4  [189, 19, 94, 131, 223, 68, 70, 27, 123, 161, ...   \n",
       "\n",
       "                                subjects of interest  \\\n",
       "0  [134, 89, 123, 44, 23, 106, 135, 77, 38, 114, ...   \n",
       "1   [114, 66, 111, 71, 113, 117, 100, 45, 63, 34, 6]   \n",
       "2  [93, 77, 45, 66, 38, 72, 101, 4, 69, 86, 64, 4...   \n",
       "3  [60, 16, 80, 115, 66, 110, 15, 112, 136, 46, 7...   \n",
       "4  [11, 27, 39, 46, 119, 10, 40, 135, 2, 67, 65, ...   \n",
       "\n",
       "                          extracurricular activities  \n",
       "0  [98, 289, 82, 155, 254, 41, 144, 296, 61, 231,...  \n",
       "1                                    [172, 237, 142]  \n",
       "2  [67, 95, 224, 209, 102, 151, 254, 165, 104, 20...  \n",
       "3  [36, 5, 202, 66, 105, 23, 152, 259, 74, 141, 1...  \n",
       "4  [109, 104, 195, 112, 211, 89, 89, 30, 34, 56, ...  "
      ]
     },
     "execution_count": 15,
     "metadata": {},
     "output_type": "execute_result"
    }
   ],
   "source": [
    "privatized_data.head(n=5) # Change n to larger numbers to see more rows of the dataframe"
   ]
  },
  {
   "cell_type": "markdown",
   "metadata": {},
   "source": [
    "We still have the problem of long lists. The 'previous courses list' can be over 30 elements long! Thus we call a new function from the Preprocessor class, 'create_RNN_models'. Three different recurrent neural network models are used to reduce the dimension of each list to 1 element. The three networks are: Simple, GRU (Gated Recurrent Units), and LSTM (Long Term Short Memory).\n",
    "\n",
    "Since 'create_RNN_models' takes in a dataframe, there is no need to create a new instance of the Preprocessor class. Thus we should call:\n",
    "- 'privatized_data': reduce dimensionality\n",
    "- 'preprocessed_data': give a null for comparison at the end\n",
    "- 'preprocessed_data' with 'utility=True': reduce dimensionality of the utility columns\n",
    "\n",
    "Let's also calculate and compare the runtimes.\n",
    "\n",
    "Let us just use the simple RNN dimensionality reduction. Though this can be switch by changing 'simple' to False and a different method to True."
   ]
  },
  {
   "cell_type": "code",
   "execution_count": 16,
   "metadata": {},
   "outputs": [
    {
     "name": "stdout",
     "output_type": "stream",
     "text": [
      "Epoch 1/10\n"
     ]
    },
    {
     "name": "stderr",
     "output_type": "stream",
     "text": [
      "2024-07-13 16:31:48.471008: I metal_plugin/src/device/metal_device.cc:1154] Metal device set to: Apple M2\n",
      "2024-07-13 16:31:48.471037: I metal_plugin/src/device/metal_device.cc:296] systemMemory: 8.00 GB\n",
      "2024-07-13 16:31:48.471048: I metal_plugin/src/device/metal_device.cc:313] maxCacheSize: 2.67 GB\n",
      "2024-07-13 16:31:48.471367: I tensorflow/core/common_runtime/pluggable_device/pluggable_device_factory.cc:305] Could not identify NUMA node of platform GPU ID 0, defaulting to 0. Your kernel may not have been built with NUMA support.\n",
      "2024-07-13 16:31:48.471386: I tensorflow/core/common_runtime/pluggable_device/pluggable_device_factory.cc:271] Created TensorFlow device (/job:localhost/replica:0/task:0/device:GPU:0 with 0 MB memory) -> physical PluggableDevice (device: 0, name: METAL, pci bus id: <undefined>)\n",
      "2024-07-13 16:31:49.214105: I tensorflow/core/grappler/optimizers/custom_graph_optimizer_registry.cc:117] Plugin optimizer for device_type GPU is enabled.\n"
     ]
    },
    {
     "name": "stdout",
     "output_type": "stream",
     "text": [
      "\u001b[1m4/4\u001b[0m \u001b[32m━━━━━━━━━━━━━━━━━━━━\u001b[0m\u001b[37m\u001b[0m \u001b[1m2s\u001b[0m 71ms/step - loss: 0.2290\n",
      "Epoch 2/10\n",
      "\u001b[1m4/4\u001b[0m \u001b[32m━━━━━━━━━━━━━━━━━━━━\u001b[0m\u001b[37m\u001b[0m \u001b[1m0s\u001b[0m 33ms/step - loss: 0.0884\n",
      "Epoch 3/10\n",
      "\u001b[1m4/4\u001b[0m \u001b[32m━━━━━━━━━━━━━━━━━━━━\u001b[0m\u001b[37m\u001b[0m \u001b[1m0s\u001b[0m 33ms/step - loss: 0.0981\n",
      "Epoch 4/10\n",
      "\u001b[1m4/4\u001b[0m \u001b[32m━━━━━━━━━━━━━━━━━━━━\u001b[0m\u001b[37m\u001b[0m \u001b[1m0s\u001b[0m 33ms/step - loss: 0.0781\n",
      "Epoch 5/10\n",
      "\u001b[1m4/4\u001b[0m \u001b[32m━━━━━━━━━━━━━━━━━━━━\u001b[0m\u001b[37m\u001b[0m \u001b[1m0s\u001b[0m 53ms/step - loss: 0.0881\n",
      "Epoch 6/10\n",
      "\u001b[1m4/4\u001b[0m \u001b[32m━━━━━━━━━━━━━━━━━━━━\u001b[0m\u001b[37m\u001b[0m \u001b[1m0s\u001b[0m 42ms/step - loss: 0.0819\n",
      "Epoch 7/10\n",
      "\u001b[1m4/4\u001b[0m \u001b[32m━━━━━━━━━━━━━━━━━━━━\u001b[0m\u001b[37m\u001b[0m \u001b[1m0s\u001b[0m 41ms/step - loss: 0.0709\n",
      "Epoch 8/10\n",
      "\u001b[1m4/4\u001b[0m \u001b[32m━━━━━━━━━━━━━━━━━━━━\u001b[0m\u001b[37m\u001b[0m \u001b[1m0s\u001b[0m 35ms/step - loss: 0.0776\n",
      "Epoch 9/10\n",
      "\u001b[1m4/4\u001b[0m \u001b[32m━━━━━━━━━━━━━━━━━━━━\u001b[0m\u001b[37m\u001b[0m \u001b[1m0s\u001b[0m 39ms/step - loss: 0.0842\n",
      "Epoch 10/10\n",
      "\u001b[1m4/4\u001b[0m \u001b[32m━━━━━━━━━━━━━━━━━━━━\u001b[0m\u001b[37m\u001b[0m \u001b[1m0s\u001b[0m 42ms/step - loss: 0.0848\n",
      "\u001b[1m4/4\u001b[0m \u001b[32m━━━━━━━━━━━━━━━━━━━━\u001b[0m\u001b[37m\u001b[0m \u001b[1m0s\u001b[0m 40ms/step\n",
      "Epoch 1/10\n",
      "\u001b[1m4/4\u001b[0m \u001b[32m━━━━━━━━━━━━━━━━━━━━\u001b[0m\u001b[37m\u001b[0m \u001b[1m1s\u001b[0m 46ms/step - loss: 0.2303\n",
      "Epoch 2/10\n",
      "\u001b[1m4/4\u001b[0m \u001b[32m━━━━━━━━━━━━━━━━━━━━\u001b[0m\u001b[37m\u001b[0m \u001b[1m0s\u001b[0m 22ms/step - loss: 0.1297\n",
      "Epoch 3/10\n",
      "\u001b[1m4/4\u001b[0m \u001b[32m━━━━━━━━━━━━━━━━━━━━\u001b[0m\u001b[37m\u001b[0m \u001b[1m0s\u001b[0m 20ms/step - loss: 0.1086\n",
      "Epoch 4/10\n",
      "\u001b[1m4/4\u001b[0m \u001b[32m━━━━━━━━━━━━━━━━━━━━\u001b[0m\u001b[37m\u001b[0m \u001b[1m0s\u001b[0m 22ms/step - loss: 0.1074\n",
      "Epoch 5/10\n",
      "\u001b[1m4/4\u001b[0m \u001b[32m━━━━━━━━━━━━━━━━━━━━\u001b[0m\u001b[37m\u001b[0m \u001b[1m0s\u001b[0m 21ms/step - loss: 0.0775\n",
      "Epoch 6/10\n",
      "\u001b[1m4/4\u001b[0m \u001b[32m━━━━━━━━━━━━━━━━━━━━\u001b[0m\u001b[37m\u001b[0m \u001b[1m0s\u001b[0m 24ms/step - loss: 0.0727\n",
      "Epoch 7/10\n",
      "\u001b[1m4/4\u001b[0m \u001b[32m━━━━━━━━━━━━━━━━━━━━\u001b[0m\u001b[37m\u001b[0m \u001b[1m0s\u001b[0m 21ms/step - loss: 0.0618\n",
      "Epoch 8/10\n",
      "\u001b[1m4/4\u001b[0m \u001b[32m━━━━━━━━━━━━━━━━━━━━\u001b[0m\u001b[37m\u001b[0m \u001b[1m0s\u001b[0m 20ms/step - loss: 0.0614\n",
      "Epoch 9/10\n",
      "\u001b[1m4/4\u001b[0m \u001b[32m━━━━━━━━━━━━━━━━━━━━\u001b[0m\u001b[37m\u001b[0m \u001b[1m0s\u001b[0m 23ms/step - loss: 0.0497\n",
      "Epoch 10/10\n",
      "\u001b[1m4/4\u001b[0m \u001b[32m━━━━━━━━━━━━━━━━━━━━\u001b[0m\u001b[37m\u001b[0m \u001b[1m0s\u001b[0m 23ms/step - loss: 0.0424\n",
      "\u001b[1m4/4\u001b[0m \u001b[32m━━━━━━━━━━━━━━━━━━━━\u001b[0m\u001b[37m\u001b[0m \u001b[1m0s\u001b[0m 31ms/step\n",
      "Epoch 1/10\n",
      "\u001b[1m4/4\u001b[0m \u001b[32m━━━━━━━━━━━━━━━━━━━━\u001b[0m\u001b[37m\u001b[0m \u001b[1m9s\u001b[0m 2s/step - loss: 0.4603\n",
      "Epoch 2/10\n",
      "\u001b[1m4/4\u001b[0m \u001b[32m━━━━━━━━━━━━━━━━━━━━\u001b[0m\u001b[37m\u001b[0m \u001b[1m9s\u001b[0m 2s/step - loss: 0.0867\n",
      "Epoch 3/10\n",
      "\u001b[1m4/4\u001b[0m \u001b[32m━━━━━━━━━━━━━━━━━━━━\u001b[0m\u001b[37m\u001b[0m \u001b[1m8s\u001b[0m 2s/step - loss: 0.0883\n",
      "Epoch 4/10\n",
      "\u001b[1m4/4\u001b[0m \u001b[32m━━━━━━━━━━━━━━━━━━━━\u001b[0m\u001b[37m\u001b[0m \u001b[1m8s\u001b[0m 2s/step - loss: 0.0739\n",
      "Epoch 5/10\n",
      "\u001b[1m4/4\u001b[0m \u001b[32m━━━━━━━━━━━━━━━━━━━━\u001b[0m\u001b[37m\u001b[0m \u001b[1m7s\u001b[0m 2s/step - loss: 0.0780\n",
      "Epoch 6/10\n",
      "\u001b[1m4/4\u001b[0m \u001b[32m━━━━━━━━━━━━━━━━━━━━\u001b[0m\u001b[37m\u001b[0m \u001b[1m10s\u001b[0m 3s/step - loss: 0.0571\n",
      "Epoch 7/10\n",
      "\u001b[1m4/4\u001b[0m \u001b[32m━━━━━━━━━━━━━━━━━━━━\u001b[0m\u001b[37m\u001b[0m \u001b[1m9s\u001b[0m 2s/step - loss: 0.0488\n",
      "Epoch 8/10\n",
      "\u001b[1m4/4\u001b[0m \u001b[32m━━━━━━━━━━━━━━━━━━━━\u001b[0m\u001b[37m\u001b[0m \u001b[1m8s\u001b[0m 2s/step - loss: 0.0437\n",
      "Epoch 9/10\n",
      "\u001b[1m4/4\u001b[0m \u001b[32m━━━━━━━━━━━━━━━━━━━━\u001b[0m\u001b[37m\u001b[0m \u001b[1m7s\u001b[0m 2s/step - loss: 0.0347\n",
      "Epoch 10/10\n",
      "\u001b[1m4/4\u001b[0m \u001b[32m━━━━━━━━━━━━━━━━━━━━\u001b[0m\u001b[37m\u001b[0m \u001b[1m8s\u001b[0m 2s/step - loss: 0.0252\n"
     ]
    },
    {
     "name": "stderr",
     "output_type": "stream",
     "text": [
      "2024-07-13 16:33:17,579 - tensorflow - WARNING - 5 out of the last 9 calls to <function TensorFlowTrainer.make_predict_function.<locals>.one_step_on_data_distributed at 0x319daa3e0> triggered tf.function retracing. Tracing is expensive and the excessive number of tracings could be due to (1) creating @tf.function repeatedly in a loop, (2) passing tensors with different shapes, (3) passing Python objects instead of tensors. For (1), please define your @tf.function outside of the loop. For (2), @tf.function has reduce_retracing=True option that can avoid unnecessary retracing. For (3), please refer to https://www.tensorflow.org/guide/function#controlling_retracing and https://www.tensorflow.org/api_docs/python/tf/function for  more details.\n"
     ]
    },
    {
     "name": "stdout",
     "output_type": "stream",
     "text": [
      "\u001b[1m3/4\u001b[0m \u001b[32m━━━━━━━━━━━━━━━\u001b[0m\u001b[37m━━━━━\u001b[0m \u001b[1m0s\u001b[0m 129ms/step"
     ]
    },
    {
     "name": "stderr",
     "output_type": "stream",
     "text": [
      "2024-07-13 16:33:18,072 - tensorflow - WARNING - 6 out of the last 12 calls to <function TensorFlowTrainer.make_predict_function.<locals>.one_step_on_data_distributed at 0x319daa3e0> triggered tf.function retracing. Tracing is expensive and the excessive number of tracings could be due to (1) creating @tf.function repeatedly in a loop, (2) passing tensors with different shapes, (3) passing Python objects instead of tensors. For (1), please define your @tf.function outside of the loop. For (2), @tf.function has reduce_retracing=True option that can avoid unnecessary retracing. For (3), please refer to https://www.tensorflow.org/guide/function#controlling_retracing and https://www.tensorflow.org/api_docs/python/tf/function for  more details.\n"
     ]
    },
    {
     "name": "stdout",
     "output_type": "stream",
     "text": [
      "\u001b[1m4/4\u001b[0m \u001b[32m━━━━━━━━━━━━━━━━━━━━\u001b[0m\u001b[37m\u001b[0m \u001b[1m1s\u001b[0m 165ms/step\n",
      "Epoch 1/10\n",
      "\u001b[1m4/4\u001b[0m \u001b[32m━━━━━━━━━━━━━━━━━━━━\u001b[0m\u001b[37m\u001b[0m \u001b[1m2s\u001b[0m 289ms/step - loss: 0.1966\n",
      "Epoch 2/10\n",
      "\u001b[1m4/4\u001b[0m \u001b[32m━━━━━━━━━━━━━━━━━━━━\u001b[0m\u001b[37m\u001b[0m \u001b[1m1s\u001b[0m 268ms/step - loss: 0.1133\n",
      "Epoch 3/10\n",
      "\u001b[1m4/4\u001b[0m \u001b[32m━━━━━━━━━━━━━━━━━━━━\u001b[0m\u001b[37m\u001b[0m \u001b[1m1s\u001b[0m 300ms/step - loss: 0.0723\n",
      "Epoch 4/10\n",
      "\u001b[1m4/4\u001b[0m \u001b[32m━━━━━━━━━━━━━━━━━━━━\u001b[0m\u001b[37m\u001b[0m \u001b[1m1s\u001b[0m 268ms/step - loss: 0.0805\n",
      "Epoch 5/10\n",
      "\u001b[1m4/4\u001b[0m \u001b[32m━━━━━━━━━━━━━━━━━━━━\u001b[0m\u001b[37m\u001b[0m \u001b[1m1s\u001b[0m 264ms/step - loss: 0.0615\n",
      "Epoch 6/10\n",
      "\u001b[1m4/4\u001b[0m \u001b[32m━━━━━━━━━━━━━━━━━━━━\u001b[0m\u001b[37m\u001b[0m \u001b[1m1s\u001b[0m 291ms/step - loss: 0.0444\n",
      "Epoch 7/10\n",
      "\u001b[1m4/4\u001b[0m \u001b[32m━━━━━━━━━━━━━━━━━━━━\u001b[0m\u001b[37m\u001b[0m \u001b[1m1s\u001b[0m 256ms/step - loss: 0.0452\n",
      "Epoch 8/10\n",
      "\u001b[1m4/4\u001b[0m \u001b[32m━━━━━━━━━━━━━━━━━━━━\u001b[0m\u001b[37m\u001b[0m \u001b[1m1s\u001b[0m 297ms/step - loss: 0.0335\n",
      "Epoch 9/10\n",
      "\u001b[1m4/4\u001b[0m \u001b[32m━━━━━━━━━━━━━━━━━━━━\u001b[0m\u001b[37m\u001b[0m \u001b[1m1s\u001b[0m 264ms/step - loss: 0.0300\n",
      "Epoch 10/10\n",
      "\u001b[1m4/4\u001b[0m \u001b[32m━━━━━━━━━━━━━━━━━━━━\u001b[0m\u001b[37m\u001b[0m \u001b[1m1s\u001b[0m 270ms/step - loss: 0.0309\n",
      "\u001b[1m4/4\u001b[0m \u001b[32m━━━━━━━━━━━━━━━━━━━━\u001b[0m\u001b[37m\u001b[0m \u001b[1m0s\u001b[0m 62ms/step\n",
      "Epoch 1/10\n",
      "\u001b[1m4/4\u001b[0m \u001b[32m━━━━━━━━━━━━━━━━━━━━\u001b[0m\u001b[37m\u001b[0m \u001b[1m7s\u001b[0m 1s/step - loss: 0.2487\n",
      "Epoch 2/10\n",
      "\u001b[1m4/4\u001b[0m \u001b[32m━━━━━━━━━━━━━━━━━━━━\u001b[0m\u001b[37m\u001b[0m \u001b[1m5s\u001b[0m 1s/step - loss: 0.0770\n",
      "Epoch 3/10\n",
      "\u001b[1m4/4\u001b[0m \u001b[32m━━━━━━━━━━━━━━━━━━━━\u001b[0m\u001b[37m\u001b[0m \u001b[1m5s\u001b[0m 1s/step - loss: 0.0561\n",
      "Epoch 4/10\n",
      "\u001b[1m4/4\u001b[0m \u001b[32m━━━━━━━━━━━━━━━━━━━━\u001b[0m\u001b[37m\u001b[0m \u001b[1m4s\u001b[0m 1s/step - loss: 0.0530\n",
      "Epoch 5/10\n",
      "\u001b[1m4/4\u001b[0m \u001b[32m━━━━━━━━━━━━━━━━━━━━\u001b[0m\u001b[37m\u001b[0m \u001b[1m4s\u001b[0m 1s/step - loss: 0.0471\n",
      "Epoch 6/10\n",
      "\u001b[1m4/4\u001b[0m \u001b[32m━━━━━━━━━━━━━━━━━━━━\u001b[0m\u001b[37m\u001b[0m \u001b[1m5s\u001b[0m 1s/step - loss: 0.0464\n",
      "Epoch 7/10\n",
      "\u001b[1m4/4\u001b[0m \u001b[32m━━━━━━━━━━━━━━━━━━━━\u001b[0m\u001b[37m\u001b[0m \u001b[1m5s\u001b[0m 1s/step - loss: 0.0404\n",
      "Epoch 8/10\n",
      "\u001b[1m4/4\u001b[0m \u001b[32m━━━━━━━━━━━━━━━━━━━━\u001b[0m\u001b[37m\u001b[0m \u001b[1m5s\u001b[0m 1s/step - loss: 0.0337\n",
      "Epoch 9/10\n",
      "\u001b[1m4/4\u001b[0m \u001b[32m━━━━━━━━━━━━━━━━━━━━\u001b[0m\u001b[37m\u001b[0m \u001b[1m6s\u001b[0m 1s/step - loss: 0.0297\n",
      "Epoch 10/10\n",
      "\u001b[1m4/4\u001b[0m \u001b[32m━━━━━━━━━━━━━━━━━━━━\u001b[0m\u001b[37m\u001b[0m \u001b[1m5s\u001b[0m 1s/step - loss: 0.0382\n",
      "\u001b[1m4/4\u001b[0m \u001b[32m━━━━━━━━━━━━━━━━━━━━\u001b[0m\u001b[37m\u001b[0m \u001b[1m1s\u001b[0m 125ms/step\n",
      "Epoch 1/10\n",
      "\u001b[1m4/4\u001b[0m \u001b[32m━━━━━━━━━━━━━━━━━━━━\u001b[0m\u001b[37m\u001b[0m \u001b[1m20s\u001b[0m 5s/step - loss: 0.2989\n",
      "Epoch 2/10\n",
      "\u001b[1m4/4\u001b[0m \u001b[32m━━━━━━━━━━━━━━━━━━━━\u001b[0m\u001b[37m\u001b[0m \u001b[1m22s\u001b[0m 5s/step - loss: 0.0976\n",
      "Epoch 3/10\n",
      "\u001b[1m4/4\u001b[0m \u001b[32m━━━━━━━━━━━━━━━━━━━━\u001b[0m\u001b[37m\u001b[0m \u001b[1m21s\u001b[0m 5s/step - loss: 0.0998\n",
      "Epoch 4/10\n",
      "\u001b[1m4/4\u001b[0m \u001b[32m━━━━━━━━━━━━━━━━━━━━\u001b[0m\u001b[37m\u001b[0m \u001b[1m25s\u001b[0m 7s/step - loss: 0.1109\n",
      "Epoch 5/10\n",
      "\u001b[1m4/4\u001b[0m \u001b[32m━━━━━━━━━━━━━━━━━━━━\u001b[0m\u001b[37m\u001b[0m \u001b[1m23s\u001b[0m 6s/step - loss: 0.0929\n",
      "Epoch 6/10\n",
      "\u001b[1m4/4\u001b[0m \u001b[32m━━━━━━━━━━━━━━━━━━━━\u001b[0m\u001b[37m\u001b[0m \u001b[1m24s\u001b[0m 6s/step - loss: 0.0999\n",
      "Epoch 7/10\n",
      "\u001b[1m4/4\u001b[0m \u001b[32m━━━━━━━━━━━━━━━━━━━━\u001b[0m\u001b[37m\u001b[0m \u001b[1m24s\u001b[0m 6s/step - loss: 0.1008\n",
      "Epoch 8/10\n",
      "\u001b[1m4/4\u001b[0m \u001b[32m━━━━━━━━━━━━━━━━━━━━\u001b[0m\u001b[37m\u001b[0m \u001b[1m21s\u001b[0m 5s/step - loss: 0.0952\n",
      "Epoch 9/10\n",
      "\u001b[1m4/4\u001b[0m \u001b[32m━━━━━━━━━━━━━━━━━━━━\u001b[0m\u001b[37m\u001b[0m \u001b[1m21s\u001b[0m 5s/step - loss: 0.0905\n",
      "Epoch 10/10\n",
      "\u001b[1m4/4\u001b[0m \u001b[32m━━━━━━━━━━━━━━━━━━━━\u001b[0m\u001b[37m\u001b[0m \u001b[1m21s\u001b[0m 5s/step - loss: 0.0868\n",
      "\u001b[1m4/4\u001b[0m \u001b[32m━━━━━━━━━━━━━━━━━━━━\u001b[0m\u001b[37m\u001b[0m \u001b[1m2s\u001b[0m 376ms/step\n",
      "Epoch 1/10\n",
      "\u001b[1m4/4\u001b[0m \u001b[32m━━━━━━━━━━━━━━━━━━━━\u001b[0m\u001b[37m\u001b[0m \u001b[1m5s\u001b[0m 859ms/step - loss: 0.1388\n",
      "Epoch 2/10\n",
      "\u001b[1m4/4\u001b[0m \u001b[32m━━━━━━━━━━━━━━━━━━━━\u001b[0m\u001b[37m\u001b[0m \u001b[1m3s\u001b[0m 742ms/step - loss: 0.0736\n",
      "Epoch 3/10\n",
      "\u001b[1m4/4\u001b[0m \u001b[32m━━━━━━━━━━━━━━━━━━━━\u001b[0m\u001b[37m\u001b[0m \u001b[1m3s\u001b[0m 764ms/step - loss: 0.0579\n",
      "Epoch 4/10\n",
      "\u001b[1m4/4\u001b[0m \u001b[32m━━━━━━━━━━━━━━━━━━━━\u001b[0m\u001b[37m\u001b[0m \u001b[1m3s\u001b[0m 739ms/step - loss: 0.0404\n",
      "Epoch 5/10\n",
      "\u001b[1m4/4\u001b[0m \u001b[32m━━━━━━━━━━━━━━━━━━━━\u001b[0m\u001b[37m\u001b[0m \u001b[1m3s\u001b[0m 753ms/step - loss: 0.0277\n",
      "Epoch 6/10\n",
      "\u001b[1m4/4\u001b[0m \u001b[32m━━━━━━━━━━━━━━━━━━━━\u001b[0m\u001b[37m\u001b[0m \u001b[1m3s\u001b[0m 755ms/step - loss: 0.0205\n",
      "Epoch 7/10\n",
      "\u001b[1m4/4\u001b[0m \u001b[32m━━━━━━━━━━━━━━━━━━━━\u001b[0m\u001b[37m\u001b[0m \u001b[1m3s\u001b[0m 737ms/step - loss: 0.0164\n",
      "Epoch 8/10\n",
      "\u001b[1m4/4\u001b[0m \u001b[32m━━━━━━━━━━━━━━━━━━━━\u001b[0m\u001b[37m\u001b[0m \u001b[1m4s\u001b[0m 939ms/step - loss: 0.0126\n",
      "Epoch 9/10\n",
      "\u001b[1m4/4\u001b[0m \u001b[32m━━━━━━━━━━━━━━━━━━━━\u001b[0m\u001b[37m\u001b[0m \u001b[1m3s\u001b[0m 846ms/step - loss: 0.0112\n",
      "Epoch 10/10\n",
      "\u001b[1m4/4\u001b[0m \u001b[32m━━━━━━━━━━━━━━━━━━━━\u001b[0m\u001b[37m\u001b[0m \u001b[1m3s\u001b[0m 748ms/step - loss: 0.0090\n",
      "\u001b[1m4/4\u001b[0m \u001b[32m━━━━━━━━━━━━━━━━━━━━\u001b[0m\u001b[37m\u001b[0m \u001b[1m0s\u001b[0m 101ms/step\n",
      "Epoch 1/10\n",
      "\u001b[1m4/4\u001b[0m \u001b[32m━━━━━━━━━━━━━━━━━━━━\u001b[0m\u001b[37m\u001b[0m \u001b[1m1s\u001b[0m 63ms/step - loss: 0.1529\n",
      "Epoch 2/10\n",
      "\u001b[1m4/4\u001b[0m \u001b[32m━━━━━━━━━━━━━━━━━━━━\u001b[0m\u001b[37m\u001b[0m \u001b[1m0s\u001b[0m 34ms/step - loss: 0.1087\n",
      "Epoch 3/10\n",
      "\u001b[1m4/4\u001b[0m \u001b[32m━━━━━━━━━━━━━━━━━━━━\u001b[0m\u001b[37m\u001b[0m \u001b[1m0s\u001b[0m 32ms/step - loss: 0.0966\n",
      "Epoch 4/10\n",
      "\u001b[1m4/4\u001b[0m \u001b[32m━━━━━━━━━━━━━━━━━━━━\u001b[0m\u001b[37m\u001b[0m \u001b[1m0s\u001b[0m 32ms/step - loss: 0.0956\n",
      "Epoch 5/10\n",
      "\u001b[1m4/4\u001b[0m \u001b[32m━━━━━━━━━━━━━━━━━━━━\u001b[0m\u001b[37m\u001b[0m \u001b[1m0s\u001b[0m 30ms/step - loss: 0.0966\n",
      "Epoch 6/10\n",
      "\u001b[1m4/4\u001b[0m \u001b[32m━━━━━━━━━━━━━━━━━━━━\u001b[0m\u001b[37m\u001b[0m \u001b[1m0s\u001b[0m 33ms/step - loss: 0.0865\n",
      "Epoch 7/10\n",
      "\u001b[1m4/4\u001b[0m \u001b[32m━━━━━━━━━━━━━━━━━━━━\u001b[0m\u001b[37m\u001b[0m \u001b[1m0s\u001b[0m 32ms/step - loss: 0.0914\n",
      "Epoch 8/10\n",
      "\u001b[1m4/4\u001b[0m \u001b[32m━━━━━━━━━━━━━━━━━━━━\u001b[0m\u001b[37m\u001b[0m \u001b[1m0s\u001b[0m 34ms/step - loss: 0.0877\n",
      "Epoch 9/10\n",
      "\u001b[1m4/4\u001b[0m \u001b[32m━━━━━━━━━━━━━━━━━━━━\u001b[0m\u001b[37m\u001b[0m \u001b[1m0s\u001b[0m 37ms/step - loss: 0.0899\n",
      "Epoch 10/10\n",
      "\u001b[1m4/4\u001b[0m \u001b[32m━━━━━━━━━━━━━━━━━━━━\u001b[0m\u001b[37m\u001b[0m \u001b[1m0s\u001b[0m 39ms/step - loss: 0.0920\n",
      "\u001b[1m4/4\u001b[0m \u001b[32m━━━━━━━━━━━━━━━━━━━━\u001b[0m\u001b[37m\u001b[0m \u001b[1m0s\u001b[0m 38ms/step\n",
      "Epoch 1/10\n",
      "\u001b[1m4/4\u001b[0m \u001b[32m━━━━━━━━━━━━━━━━━━━━\u001b[0m\u001b[37m\u001b[0m \u001b[1m3s\u001b[0m 53ms/step - loss: 0.2877\n",
      "Epoch 2/10\n",
      "\u001b[1m4/4\u001b[0m \u001b[32m━━━━━━━━━━━━━━━━━━━━\u001b[0m\u001b[37m\u001b[0m \u001b[1m0s\u001b[0m 24ms/step - loss: 0.1405\n",
      "Epoch 3/10\n",
      "\u001b[1m4/4\u001b[0m \u001b[32m━━━━━━━━━━━━━━━━━━━━\u001b[0m\u001b[37m\u001b[0m \u001b[1m0s\u001b[0m 22ms/step - loss: 0.1057\n",
      "Epoch 4/10\n",
      "\u001b[1m4/4\u001b[0m \u001b[32m━━━━━━━━━━━━━━━━━━━━\u001b[0m\u001b[37m\u001b[0m \u001b[1m0s\u001b[0m 22ms/step - loss: 0.1084\n",
      "Epoch 5/10\n",
      "\u001b[1m4/4\u001b[0m \u001b[32m━━━━━━━━━━━━━━━━━━━━\u001b[0m\u001b[37m\u001b[0m \u001b[1m0s\u001b[0m 21ms/step - loss: 0.0882\n",
      "Epoch 6/10\n",
      "\u001b[1m4/4\u001b[0m \u001b[32m━━━━━━━━━━━━━━━━━━━━\u001b[0m\u001b[37m\u001b[0m \u001b[1m0s\u001b[0m 19ms/step - loss: 0.0780\n",
      "Epoch 7/10\n",
      "\u001b[1m4/4\u001b[0m \u001b[32m━━━━━━━━━━━━━━━━━━━━\u001b[0m\u001b[37m\u001b[0m \u001b[1m0s\u001b[0m 23ms/step - loss: 0.0685\n",
      "Epoch 8/10\n",
      "\u001b[1m4/4\u001b[0m \u001b[32m━━━━━━━━━━━━━━━━━━━━\u001b[0m\u001b[37m\u001b[0m \u001b[1m0s\u001b[0m 25ms/step - loss: 0.0628\n",
      "Epoch 9/10\n",
      "\u001b[1m4/4\u001b[0m \u001b[32m━━━━━━━━━━━━━━━━━━━━\u001b[0m\u001b[37m\u001b[0m \u001b[1m0s\u001b[0m 24ms/step - loss: 0.0561\n",
      "Epoch 10/10\n",
      "\u001b[1m4/4\u001b[0m \u001b[32m━━━━━━━━━━━━━━━━━━━━\u001b[0m\u001b[37m\u001b[0m \u001b[1m0s\u001b[0m 25ms/step - loss: 0.0546\n",
      "\u001b[1m4/4\u001b[0m \u001b[32m━━━━━━━━━━━━━━━━━━━━\u001b[0m\u001b[37m\u001b[0m \u001b[1m0s\u001b[0m 43ms/step\n",
      "Epoch 1/10\n",
      "\u001b[1m4/4\u001b[0m \u001b[32m━━━━━━━━━━━━━━━━━━━━\u001b[0m\u001b[37m\u001b[0m \u001b[1m8s\u001b[0m 2s/step - loss: 0.2277\n",
      "Epoch 2/10\n",
      "\u001b[1m4/4\u001b[0m \u001b[32m━━━━━━━━━━━━━━━━━━━━\u001b[0m\u001b[37m\u001b[0m \u001b[1m7s\u001b[0m 2s/step - loss: 0.0979\n",
      "Epoch 3/10\n",
      "\u001b[1m4/4\u001b[0m \u001b[32m━━━━━━━━━━━━━━━━━━━━\u001b[0m\u001b[37m\u001b[0m \u001b[1m8s\u001b[0m 2s/step - loss: 0.0547\n",
      "Epoch 4/10\n",
      "\u001b[1m4/4\u001b[0m \u001b[32m━━━━━━━━━━━━━━━━━━━━\u001b[0m\u001b[37m\u001b[0m \u001b[1m7s\u001b[0m 2s/step - loss: 0.0574\n",
      "Epoch 5/10\n",
      "\u001b[1m4/4\u001b[0m \u001b[32m━━━━━━━━━━━━━━━━━━━━\u001b[0m\u001b[37m\u001b[0m \u001b[1m7s\u001b[0m 2s/step - loss: 0.0417\n",
      "Epoch 6/10\n",
      "\u001b[1m4/4\u001b[0m \u001b[32m━━━━━━━━━━━━━━━━━━━━\u001b[0m\u001b[37m\u001b[0m \u001b[1m7s\u001b[0m 2s/step - loss: 0.0459\n",
      "Epoch 7/10\n",
      "\u001b[1m4/4\u001b[0m \u001b[32m━━━━━━━━━━━━━━━━━━━━\u001b[0m\u001b[37m\u001b[0m \u001b[1m8s\u001b[0m 2s/step - loss: 0.0400\n",
      "Epoch 8/10\n",
      "\u001b[1m4/4\u001b[0m \u001b[32m━━━━━━━━━━━━━━━━━━━━\u001b[0m\u001b[37m\u001b[0m \u001b[1m7s\u001b[0m 2s/step - loss: 0.0255\n",
      "Epoch 9/10\n",
      "\u001b[1m4/4\u001b[0m \u001b[32m━━━━━━━━━━━━━━━━━━━━\u001b[0m\u001b[37m\u001b[0m \u001b[1m7s\u001b[0m 2s/step - loss: 0.0210\n",
      "Epoch 10/10\n",
      "\u001b[1m4/4\u001b[0m \u001b[32m━━━━━━━━━━━━━━━━━━━━\u001b[0m\u001b[37m\u001b[0m \u001b[1m7s\u001b[0m 2s/step - loss: 0.0205\n",
      "\u001b[1m4/4\u001b[0m \u001b[32m━━━━━━━━━━━━━━━━━━━━\u001b[0m\u001b[37m\u001b[0m \u001b[1m1s\u001b[0m 164ms/step\n",
      "Epoch 1/10\n",
      "\u001b[1m4/4\u001b[0m \u001b[32m━━━━━━━━━━━━━━━━━━━━\u001b[0m\u001b[37m\u001b[0m \u001b[1m2s\u001b[0m 236ms/step - loss: 0.2127\n",
      "Epoch 2/10\n",
      "\u001b[1m4/4\u001b[0m \u001b[32m━━━━━━━━━━━━━━━━━━━━\u001b[0m\u001b[37m\u001b[0m \u001b[1m1s\u001b[0m 203ms/step - loss: 0.1444\n",
      "Epoch 3/10\n",
      "\u001b[1m4/4\u001b[0m \u001b[32m━━━━━━━━━━━━━━━━━━━━\u001b[0m\u001b[37m\u001b[0m \u001b[1m1s\u001b[0m 198ms/step - loss: 0.0921\n",
      "Epoch 4/10\n",
      "\u001b[1m4/4\u001b[0m \u001b[32m━━━━━━━━━━━━━━━━━━━━\u001b[0m\u001b[37m\u001b[0m \u001b[1m1s\u001b[0m 199ms/step - loss: 0.0969\n",
      "Epoch 5/10\n",
      "\u001b[1m4/4\u001b[0m \u001b[32m━━━━━━━━━━━━━━━━━━━━\u001b[0m\u001b[37m\u001b[0m \u001b[1m1s\u001b[0m 199ms/step - loss: 0.1008\n",
      "Epoch 6/10\n",
      "\u001b[1m4/4\u001b[0m \u001b[32m━━━━━━━━━━━━━━━━━━━━\u001b[0m\u001b[37m\u001b[0m \u001b[1m1s\u001b[0m 209ms/step - loss: 0.0986\n",
      "\u001b[1m4/4\u001b[0m \u001b[32m━━━━━━━━━━━━━━━━━━━━\u001b[0m\u001b[37m\u001b[0m \u001b[1m0s\u001b[0m 71ms/step\n",
      "Epoch 1/10\n",
      "\u001b[1m4/4\u001b[0m \u001b[32m━━━━━━━━━━━━━━━━━━━━\u001b[0m\u001b[37m\u001b[0m \u001b[1m5s\u001b[0m 1s/step - loss: 0.1606 \n",
      "Epoch 2/10\n"
     ]
    },
    {
     "name": "stdout",
     "output_type": "stream",
     "text": [
      "\u001b[1m4/4\u001b[0m \u001b[32m━━━━━━━━━━━━━━━━━━━━\u001b[0m\u001b[37m\u001b[0m \u001b[1m4s\u001b[0m 1s/step - loss: 0.0680\n",
      "Epoch 3/10\n",
      "\u001b[1m4/4\u001b[0m \u001b[32m━━━━━━━━━━━━━━━━━━━━\u001b[0m\u001b[37m\u001b[0m \u001b[1m4s\u001b[0m 930ms/step - loss: 0.0697\n",
      "Epoch 4/10\n",
      "\u001b[1m4/4\u001b[0m \u001b[32m━━━━━━━━━━━━━━━━━━━━\u001b[0m\u001b[37m\u001b[0m \u001b[1m6s\u001b[0m 1s/step - loss: 0.0425\n",
      "Epoch 5/10\n",
      "\u001b[1m4/4\u001b[0m \u001b[32m━━━━━━━━━━━━━━━━━━━━\u001b[0m\u001b[37m\u001b[0m \u001b[1m4s\u001b[0m 1s/step - loss: 0.0354   \n",
      "Epoch 6/10\n",
      "\u001b[1m4/4\u001b[0m \u001b[32m━━━━━━━━━━━━━━━━━━━━\u001b[0m\u001b[37m\u001b[0m \u001b[1m4s\u001b[0m 1s/step - loss: 0.0247\n",
      "Epoch 7/10\n",
      "\u001b[1m4/4\u001b[0m \u001b[32m━━━━━━━━━━━━━━━━━━━━\u001b[0m\u001b[37m\u001b[0m \u001b[1m4s\u001b[0m 1s/step - loss: 0.0206 \n",
      "Epoch 8/10\n",
      "\u001b[1m4/4\u001b[0m \u001b[32m━━━━━━━━━━━━━━━━━━━━\u001b[0m\u001b[37m\u001b[0m \u001b[1m7s\u001b[0m 2s/step - loss: 0.0194\n",
      "Epoch 9/10\n",
      "\u001b[1m4/4\u001b[0m \u001b[32m━━━━━━━━━━━━━━━━━━━━\u001b[0m\u001b[37m\u001b[0m \u001b[1m4s\u001b[0m 960ms/step - loss: 0.0136\n",
      "Epoch 10/10\n",
      "\u001b[1m4/4\u001b[0m \u001b[32m━━━━━━━━━━━━━━━━━━━━\u001b[0m\u001b[37m\u001b[0m \u001b[1m4s\u001b[0m 985ms/step - loss: 0.0094\n",
      "\u001b[1m4/4\u001b[0m \u001b[32m━━━━━━━━━━━━━━━━━━━━\u001b[0m\u001b[37m\u001b[0m \u001b[1m1s\u001b[0m 138ms/step\n",
      "Epoch 1/10\n",
      "\u001b[1m4/4\u001b[0m \u001b[32m━━━━━━━━━━━━━━━━━━━━\u001b[0m\u001b[37m\u001b[0m \u001b[1m5s\u001b[0m 539ms/step - loss: 0.1243\n",
      "Epoch 2/10\n",
      "\u001b[1m4/4\u001b[0m \u001b[32m━━━━━━━━━━━━━━━━━━━━\u001b[0m\u001b[37m\u001b[0m \u001b[1m2s\u001b[0m 495ms/step - loss: 0.0893\n",
      "Epoch 3/10\n",
      "\u001b[1m4/4\u001b[0m \u001b[32m━━━━━━━━━━━━━━━━━━━━\u001b[0m\u001b[37m\u001b[0m \u001b[1m2s\u001b[0m 493ms/step - loss: 0.0789\n",
      "Epoch 4/10\n",
      "\u001b[1m4/4\u001b[0m \u001b[32m━━━━━━━━━━━━━━━━━━━━\u001b[0m\u001b[37m\u001b[0m \u001b[1m2s\u001b[0m 497ms/step - loss: 0.0628\n",
      "Epoch 5/10\n",
      "\u001b[1m4/4\u001b[0m \u001b[32m━━━━━━━━━━━━━━━━━━━━\u001b[0m\u001b[37m\u001b[0m \u001b[1m2s\u001b[0m 517ms/step - loss: 0.0583\n",
      "Epoch 6/10\n",
      "\u001b[1m4/4\u001b[0m \u001b[32m━━━━━━━━━━━━━━━━━━━━\u001b[0m\u001b[37m\u001b[0m \u001b[1m2s\u001b[0m 557ms/step - loss: 0.0497\n",
      "Epoch 7/10\n",
      "\u001b[1m4/4\u001b[0m \u001b[32m━━━━━━━━━━━━━━━━━━━━\u001b[0m\u001b[37m\u001b[0m \u001b[1m2s\u001b[0m 501ms/step - loss: 0.0447\n",
      "Epoch 8/10\n",
      "\u001b[1m4/4\u001b[0m \u001b[32m━━━━━━━━━━━━━━━━━━━━\u001b[0m\u001b[37m\u001b[0m \u001b[1m2s\u001b[0m 583ms/step - loss: 0.0454\n",
      "Epoch 9/10\n",
      "\u001b[1m4/4\u001b[0m \u001b[32m━━━━━━━━━━━━━━━━━━━━\u001b[0m\u001b[37m\u001b[0m \u001b[1m3s\u001b[0m 742ms/step - loss: 0.0408\n",
      "Epoch 10/10\n",
      "\u001b[1m4/4\u001b[0m \u001b[32m━━━━━━━━━━━━━━━━━━━━\u001b[0m\u001b[37m\u001b[0m \u001b[1m2s\u001b[0m 522ms/step - loss: 0.0357\n",
      "\u001b[1m4/4\u001b[0m \u001b[32m━━━━━━━━━━━━━━━━━━━━\u001b[0m\u001b[37m\u001b[0m \u001b[1m0s\u001b[0m 87ms/step\n",
      "Epoch 1/10\n",
      "\u001b[1m4/4\u001b[0m \u001b[32m━━━━━━━━━━━━━━━━━━━━\u001b[0m\u001b[37m\u001b[0m \u001b[1m3s\u001b[0m 530ms/step - loss: 0.1587\n",
      "Epoch 2/10\n",
      "\u001b[1m4/4\u001b[0m \u001b[32m━━━━━━━━━━━━━━━━━━━━\u001b[0m\u001b[37m\u001b[0m \u001b[1m2s\u001b[0m 512ms/step - loss: 0.1375\n",
      "Epoch 3/10\n",
      "\u001b[1m4/4\u001b[0m \u001b[32m━━━━━━━━━━━━━━━━━━━━\u001b[0m\u001b[37m\u001b[0m \u001b[1m2s\u001b[0m 472ms/step - loss: 0.0794\n",
      "Epoch 4/10\n",
      "\u001b[1m4/4\u001b[0m \u001b[32m━━━━━━━━━━━━━━━━━━━━\u001b[0m\u001b[37m\u001b[0m \u001b[1m2s\u001b[0m 398ms/step - loss: 0.0627\n",
      "Epoch 5/10\n",
      "\u001b[1m4/4\u001b[0m \u001b[32m━━━━━━━━━━━━━━━━━━━━\u001b[0m\u001b[37m\u001b[0m \u001b[1m2s\u001b[0m 395ms/step - loss: 0.0488\n",
      "Epoch 6/10\n",
      "\u001b[1m4/4\u001b[0m \u001b[32m━━━━━━━━━━━━━━━━━━━━\u001b[0m\u001b[37m\u001b[0m \u001b[1m3s\u001b[0m 826ms/step - loss: 0.0476\n",
      "Epoch 7/10\n",
      "\u001b[1m4/4\u001b[0m \u001b[32m━━━━━━━━━━━━━━━━━━━━\u001b[0m\u001b[37m\u001b[0m \u001b[1m2s\u001b[0m 537ms/step - loss: 0.0255\n",
      "Epoch 8/10\n",
      "\u001b[1m4/4\u001b[0m \u001b[32m━━━━━━━━━━━━━━━━━━━━\u001b[0m\u001b[37m\u001b[0m \u001b[1m2s\u001b[0m 425ms/step - loss: 0.0253\n",
      "Epoch 9/10\n",
      "\u001b[1m4/4\u001b[0m \u001b[32m━━━━━━━━━━━━━━━━━━━━\u001b[0m\u001b[37m\u001b[0m \u001b[1m2s\u001b[0m 450ms/step - loss: 0.0259\n",
      "Epoch 10/10\n",
      "\u001b[1m4/4\u001b[0m \u001b[32m━━━━━━━━━━━━━━━━━━━━\u001b[0m\u001b[37m\u001b[0m \u001b[1m2s\u001b[0m 453ms/step - loss: 0.0183\n",
      "\u001b[1m4/4\u001b[0m \u001b[32m━━━━━━━━━━━━━━━━━━━━\u001b[0m\u001b[37m\u001b[0m \u001b[1m1s\u001b[0m 106ms/step\n",
      "Epoch 1/10\n",
      "\u001b[1m4/4\u001b[0m \u001b[32m━━━━━━━━━━━━━━━━━━━━\u001b[0m\u001b[37m\u001b[0m \u001b[1m4s\u001b[0m 548ms/step - loss: 0.1971\n",
      "Epoch 2/10\n",
      "\u001b[1m4/4\u001b[0m \u001b[32m━━━━━━━━━━━━━━━━━━━━\u001b[0m\u001b[37m\u001b[0m \u001b[1m2s\u001b[0m 519ms/step - loss: 0.0813\n",
      "Epoch 3/10\n",
      "\u001b[1m4/4\u001b[0m \u001b[32m━━━━━━━━━━━━━━━━━━━━\u001b[0m\u001b[37m\u001b[0m \u001b[1m2s\u001b[0m 504ms/step - loss: 0.0592\n",
      "Epoch 4/10\n",
      "\u001b[1m4/4\u001b[0m \u001b[32m━━━━━━━━━━━━━━━━━━━━\u001b[0m\u001b[37m\u001b[0m \u001b[1m5s\u001b[0m 1s/step - loss: 0.0528\n",
      "Epoch 5/10\n",
      "\u001b[1m4/4\u001b[0m \u001b[32m━━━━━━━━━━━━━━━━━━━━\u001b[0m\u001b[37m\u001b[0m \u001b[1m3s\u001b[0m 649ms/step - loss: 0.0523\n",
      "Epoch 6/10\n",
      "\u001b[1m4/4\u001b[0m \u001b[32m━━━━━━━━━━━━━━━━━━━━\u001b[0m\u001b[37m\u001b[0m \u001b[1m5s\u001b[0m 888ms/step - loss: 0.0312\n",
      "Epoch 7/10\n",
      "\u001b[1m4/4\u001b[0m \u001b[32m━━━━━━━━━━━━━━━━━━━━\u001b[0m\u001b[37m\u001b[0m \u001b[1m2s\u001b[0m 583ms/step - loss: 0.0355\n",
      "Epoch 8/10\n",
      "\u001b[1m4/4\u001b[0m \u001b[32m━━━━━━━━━━━━━━━━━━━━\u001b[0m\u001b[37m\u001b[0m \u001b[1m4s\u001b[0m 1s/step - loss: 0.0229 \n",
      "Epoch 9/10\n",
      "\u001b[1m4/4\u001b[0m \u001b[32m━━━━━━━━━━━━━━━━━━━━\u001b[0m\u001b[37m\u001b[0m \u001b[1m5s\u001b[0m 1s/step - loss: 0.0191\n",
      "Epoch 10/10\n",
      "\u001b[1m4/4\u001b[0m \u001b[32m━━━━━━━━━━━━━━━━━━━━\u001b[0m\u001b[37m\u001b[0m \u001b[1m4s\u001b[0m 1s/step - loss: 0.0188   \n",
      "\u001b[1m4/4\u001b[0m \u001b[32m━━━━━━━━━━━━━━━━━━━━\u001b[0m\u001b[37m\u001b[0m \u001b[1m1s\u001b[0m 97ms/step\n",
      "Epoch 1/10\n",
      "\u001b[1m4/4\u001b[0m \u001b[32m━━━━━━━━━━━━━━━━━━━━\u001b[0m\u001b[37m\u001b[0m \u001b[1m3s\u001b[0m 209ms/step - loss: 0.3277\n",
      "Epoch 2/10\n",
      "\u001b[1m4/4\u001b[0m \u001b[32m━━━━━━━━━━━━━━━━━━━━\u001b[0m\u001b[37m\u001b[0m \u001b[1m0s\u001b[0m 44ms/step - loss: 0.1787\n",
      "Epoch 3/10\n",
      "\u001b[1m4/4\u001b[0m \u001b[32m━━━━━━━━━━━━━━━━━━━━\u001b[0m\u001b[37m\u001b[0m \u001b[1m0s\u001b[0m 97ms/step - loss: 0.0955\n",
      "Epoch 4/10\n",
      "\u001b[1m4/4\u001b[0m \u001b[32m━━━━━━━━━━━━━━━━━━━━\u001b[0m\u001b[37m\u001b[0m \u001b[1m1s\u001b[0m 125ms/step - loss: 0.0604\n",
      "Epoch 5/10\n",
      "\u001b[1m4/4\u001b[0m \u001b[32m━━━━━━━━━━━━━━━━━━━━\u001b[0m\u001b[37m\u001b[0m \u001b[1m1s\u001b[0m 126ms/step - loss: 0.0537\n",
      "Epoch 6/10\n",
      "\u001b[1m4/4\u001b[0m \u001b[32m━━━━━━━━━━━━━━━━━━━━\u001b[0m\u001b[37m\u001b[0m \u001b[1m1s\u001b[0m 120ms/step - loss: 0.0336\n",
      "Epoch 7/10\n",
      "\u001b[1m4/4\u001b[0m \u001b[32m━━━━━━━━━━━━━━━━━━━━\u001b[0m\u001b[37m\u001b[0m \u001b[1m1s\u001b[0m 125ms/step - loss: 0.0235\n",
      "Epoch 8/10\n",
      "\u001b[1m4/4\u001b[0m \u001b[32m━━━━━━━━━━━━━━━━━━━━\u001b[0m\u001b[37m\u001b[0m \u001b[1m0s\u001b[0m 116ms/step - loss: 0.0209\n",
      "Epoch 9/10\n",
      "\u001b[1m4/4\u001b[0m \u001b[32m━━━━━━━━━━━━━━━━━━━━\u001b[0m\u001b[37m\u001b[0m \u001b[1m1s\u001b[0m 135ms/step - loss: 0.0116\n",
      "Epoch 10/10\n",
      "\u001b[1m4/4\u001b[0m \u001b[32m━━━━━━━━━━━━━━━━━━━━\u001b[0m\u001b[37m\u001b[0m \u001b[1m0s\u001b[0m 106ms/step - loss: 0.0110\n",
      "\u001b[1m4/4\u001b[0m \u001b[32m━━━━━━━━━━━━━━━━━━━━\u001b[0m\u001b[37m\u001b[0m \u001b[1m1s\u001b[0m 96ms/step\n",
      "Privatized data runtime: 412.10429310798645\n",
      "Nonprivatized data runtime: 182.90139412879944\n",
      "Utility columns runtime: 44.98762488365173\n"
     ]
    }
   ],
   "source": [
    "# Only let one of simple, LSTM, and GRU be equal to true.\n",
    "\n",
    "start_time = time.time()\n",
    "privatized_data_reduced = preprocessor.create_RNN_models(privatized_data, simple=True, LSTM=False, GRU=False)\n",
    "end_time = time.time()\n",
    "runtime_pd = end_time - start_time\n",
    "\n",
    "start_time = time.time()\n",
    "nonprivatized_data_reduced = preprocessor.create_RNN_models(preprocessed_data, simple=True, LSTM=False, GRU=False)\n",
    "end_time = time.time()\n",
    "runtime_npd = end_time - start_time\n",
    "\n",
    "start_time = time.time()\n",
    "utility_cols_reduced = preprocessor.create_RNN_models(preprocessed_data, utility=True, simple=True, LSTM=False, GRU=False)\n",
    "end_time = time.time()\n",
    "runtime_uc = end_time - start_time\n",
    "\n",
    "print(f'Privatized data runtime: {runtime_pd}')\n",
    "print(f'Nonprivatized data runtime: {runtime_npd}')\n",
    "print(f'Utility columns runtime: {runtime_uc}')"
   ]
  },
  {
   "cell_type": "markdown",
   "metadata": {},
   "source": [
    "Since this code can be run to produce many dataframes the output is a list. We only made one dataframe so let's just take the first element from the list."
   ]
  },
  {
   "cell_type": "code",
   "execution_count": 17,
   "metadata": {},
   "outputs": [],
   "source": [
    "privatized_data_reduced = privatized_data_reduced[0]\n",
    "\n",
    "nonprivatized_data_reduced = nonprivatized_data_reduced[0]\n",
    "\n",
    "utility_cols_reduced = utility_cols_reduced[0]"
   ]
  },
  {
   "cell_type": "markdown",
   "metadata": {},
   "source": [
    "'create_RNN_models' outputs a pandas dataframe. Lets look at the top 5 elements for each of the dataframes"
   ]
  },
  {
   "cell_type": "code",
   "execution_count": 18,
   "metadata": {},
   "outputs": [
    {
     "name": "stdout",
     "output_type": "stream",
     "text": [
      "  learning style   gpa  student semester         major previous courses  \\\n",
      "0   [0.31668237]  2.65                12  [0.41257358]     [0.75822955]   \n",
      "1   [0.32964167]  3.66                12  [0.09832996]     [0.37364194]   \n",
      "2   [0.35613245]  2.11                 7  [0.19619362]      [0.5005759]   \n",
      "3   [0.31668237]   NaN                13  [0.33596936]     [0.20239292]   \n",
      "4    [0.4208539]  2.85                 5  [0.11060862]      [0.6589454]   \n",
      "\n",
      "   course types course subjects subjects of interest  \\\n",
      "0  [0.30064917]    [0.71762806]           [1.030142]   \n",
      "1  [0.91137254]    [0.53308123]         [0.66828936]   \n",
      "2  [0.59589547]    [0.47996578]         [0.68414146]   \n",
      "3  [0.18267526]     [1.0309092]          [0.6718631]   \n",
      "4  [0.65713614]    [0.11640821]         [0.66446203]   \n",
      "\n",
      "  extracurricular activities  \n",
      "0             [-0.023807649]  \n",
      "1               [0.89253306]  \n",
      "2                [0.6744121]  \n",
      "3              [0.094070084]  \n",
      "4                [0.6178255]  \n",
      "  learning style   gpa  student semester         major previous courses  \\\n",
      "0   [0.29808983]  3.50                 3    [0.604262]     [0.20303135]   \n",
      "1   [0.27802804]  2.74                 7  [0.50415534]      [0.2551607]   \n",
      "2   [0.28648648]  2.04                12  [0.68443996]     [0.21346907]   \n",
      "3   [0.27802804]   NaN                 0    [0.604262]     [0.46083343]   \n",
      "4   [0.43902403]  3.51                10   [0.6285731]     [0.80554724]   \n",
      "\n",
      "   course types course subjects subjects of interest  \\\n",
      "0  [0.43918705]     [0.6313928]          [0.5049049]   \n",
      "1   [0.7362038]    [0.19093852]         [0.46381435]   \n",
      "2  [0.72914916]    [0.21798886]          [0.8022443]   \n",
      "3  [0.44891873]    [0.53318727]         [0.49875543]   \n",
      "4  [0.80852866]     [0.6046468]         [0.28967094]   \n",
      "\n",
      "  extracurricular activities  \\\n",
      "0                [0.3152772]   \n",
      "1               [0.19889146]   \n",
      "2                [0.6739941]   \n",
      "3               [0.40399086]   \n",
      "4               [0.41126746]   \n",
      "\n",
      "                                  career aspirations           future topics  \n",
      "0                                      [107, 43, 10]   [78, 39, 66, 14, 157]  \n",
      "1  [115, 117, 62, 48, 80, 82, 56, 129, 125, 16, 2...  [47, 26, 206, 107, 27]  \n",
      "2  [82, 45, 62, 64, 56, 55, 52, 125, 122, 20, 140...    [59, 75, 120, 46, 6]  \n",
      "3                                                 []  [134, 65, 60, 77, 145]  \n",
      "4  [62, 50, 112, 136, 26, 45, 53, 22, 40, 125, 11...  [49, 129, 65, 48, 180]  \n",
      "  learning style   gpa  student semester      major  \\\n",
      "0   [1, 0, 0, 0]  3.50                 3         []   \n",
      "1   [0, 0, 0, 1]  2.74                 7      [138]   \n",
      "2   [1, 1, 0, 0]  2.04                12  [61, 136]   \n",
      "3   [0, 0, 0, 1]   NaN                 0         []   \n",
      "4   [0, 0, 1, 0]  3.51                10  [143, 85]   \n",
      "\n",
      "                                    previous courses  \\\n",
      "0  [3338, 1230, 2277, 3339, 2615, 1811, 2122, 197...   \n",
      "1  [3338, 1067, 2220, 1075, 1312, 2527, 1774, 151...   \n",
      "2  [2615, 3461, 1312, 3411, 2517, 1742, 1346, 817...   \n",
      "3                                                 []   \n",
      "4  [1311, 1753, 3401, 991, 1311, 3187, 3386, 3352...   \n",
      "\n",
      "                                        course types  \\\n",
      "0                         [0, 4, 5, 1, 2, 3, 20, 14]   \n",
      "1               [9, 0, 4, 5, 10, 1, 2, 3, 11, 6, 20]   \n",
      "2  [9, 0, 4, 13, 5, 10, 1, 2, 3, 8, 20, 16, 14, 1...   \n",
      "3                                                 []   \n",
      "4  [9, 0, 4, 13, 5, 10, 1, 2, 3, 11, 6, 18, 20, 1...   \n",
      "\n",
      "                                     course subjects  \\\n",
      "0  [33, 98, 102, 138, 56, 70, 65, 137, 54, 5, 46,...   \n",
      "1  [9, 98, 56, 18, 44, 137, 206, 228, 65, 78, 147...   \n",
      "2  [9, 162, 79, 56, 18, 53, 137, 64, 230, 116, 20...   \n",
      "3                                                 []   \n",
      "4  [56, 79, 2, 105, 217, 137, 64, 116, 136, 102, ...   \n",
      "\n",
      "                        subjects of interest  \\\n",
      "0                                     [7, 8]   \n",
      "1                [2, 10, 55, 50, 12, 21, 91]   \n",
      "2            [5, 55, 60, 114, 18, 15, 29, 8]   \n",
      "3                                         []   \n",
      "4  [4, 14, 56, 92, 22, 67, 15, 77, 8, 72, 3]   \n",
      "\n",
      "                        extracurricular activities career aspirations  \\\n",
      "0                    [34, 179, 175, 174, 169, 173]       [0.57580656]   \n",
      "1                           [117, 67, 221, 60, 96]      [0.031475205]   \n",
      "2          [69, 60, 96, 90, 62, 212, 67, 217, 168]       [0.30519384]   \n",
      "3                                               []       [0.47748098]   \n",
      "4  [9, 120, 71, 212, 113, 87, 90, 62, 23, 84, 260]       [0.45041227]   \n",
      "\n",
      "  future topics  \n",
      "0  [0.48930895]  \n",
      "1  [0.79627025]  \n",
      "2  [0.44466668]  \n",
      "3   [0.5928637]  \n",
      "4  [0.46085507]  \n"
     ]
    }
   ],
   "source": [
    "print(privatized_data_reduced.head(n=5))\n",
    "print(nonprivatized_data_reduced.head(n=5))\n",
    "print(utility_cols_reduced.head(n=5))\n",
    "# Change n to larger numbers to see more rows of the dataframe"
   ]
  },
  {
   "cell_type": "markdown",
   "metadata": {},
   "source": [
    "Now we have to preprocess the private columns so that machine learning models can train on them. To do this we import the PrivateColumns from the 'preprocessing_private_columns' file."
   ]
  },
  {
   "cell_type": "code",
   "execution_count": 19,
   "metadata": {},
   "outputs": [],
   "source": [
    "from data_preprocessing.processing_private_columns import PrivateColumns"
   ]
  },
  {
   "cell_type": "markdown",
   "metadata": {},
   "source": [
    "Now we can instantiate the class."
   ]
  },
  {
   "cell_type": "code",
   "execution_count": 20,
   "metadata": {},
   "outputs": [],
   "source": [
    "private_columns_data = PrivateColumns(data)"
   ]
  },
  {
   "cell_type": "markdown",
   "metadata": {},
   "source": [
    "Get the privacy columns from the nonprivatized dataset as we only need them once."
   ]
  },
  {
   "cell_type": "code",
   "execution_count": 21,
   "metadata": {},
   "outputs": [],
   "source": [
    "privacy_columns = private_columns_data.get_private_cols(synthetic_data)"
   ]
  },
  {
   "cell_type": "markdown",
   "metadata": {},
   "source": [
    "Now we use pandas to combine back together the feature columns, the private columns, and the utility columns. We do this for both the privatized and nonprivatized dataset"
   ]
  },
  {
   "cell_type": "code",
   "execution_count": 22,
   "metadata": {},
   "outputs": [],
   "source": [
    "privatized_combined = pd.concat([privatized_data_reduced, utility_cols_reduced, privacy_columns])\n",
    "nonprivatized_combined = pd.concat([nonprivatized_data_reduced, utility_cols_reduced, privacy_columns])"
   ]
  },
  {
   "cell_type": "markdown",
   "metadata": {},
   "source": [
    "Let's look at the top five elements of both the combined dataframes."
   ]
  },
  {
   "cell_type": "code",
   "execution_count": 23,
   "metadata": {},
   "outputs": [
    {
     "name": "stdout",
     "output_type": "stream",
     "text": [
      "  learning style   gpa  student semester         major previous courses  \\\n",
      "0   [0.31668237]  2.65              12.0  [0.41257358]     [0.75822955]   \n",
      "1   [0.32964167]  3.66              12.0  [0.09832996]     [0.37364194]   \n",
      "2   [0.35613245]  2.11               7.0  [0.19619362]      [0.5005759]   \n",
      "3   [0.31668237]   NaN              13.0  [0.33596936]     [0.20239292]   \n",
      "4    [0.4208539]  2.85               5.0  [0.11060862]      [0.6589454]   \n",
      "\n",
      "   course types course subjects subjects of interest  \\\n",
      "0  [0.30064917]    [0.71762806]           [1.030142]   \n",
      "1  [0.91137254]    [0.53308123]         [0.66828936]   \n",
      "2  [0.59589547]    [0.47996578]         [0.68414146]   \n",
      "3  [0.18267526]     [1.0309092]          [0.6718631]   \n",
      "4  [0.65713614]    [0.11640821]         [0.66446203]   \n",
      "\n",
      "  extracurricular activities career aspirations future topics  \\\n",
      "0             [-0.023807649]                NaN           NaN   \n",
      "1               [0.89253306]                NaN           NaN   \n",
      "2                [0.6744121]                NaN           NaN   \n",
      "3              [0.094070084]                NaN           NaN   \n",
      "4                [0.6178255]                NaN           NaN   \n",
      "\n",
      "  ethnoracial group gender international status socioeconomic status  \n",
      "0               NaN    NaN                  NaN                  NaN  \n",
      "1               NaN    NaN                  NaN                  NaN  \n",
      "2               NaN    NaN                  NaN                  NaN  \n",
      "3               NaN    NaN                  NaN                  NaN  \n",
      "4               NaN    NaN                  NaN                  NaN  \n",
      "  learning style   gpa  student semester         major previous courses  \\\n",
      "0   [0.29808983]  3.50               3.0    [0.604262]     [0.20303135]   \n",
      "1   [0.27802804]  2.74               7.0  [0.50415534]      [0.2551607]   \n",
      "2   [0.28648648]  2.04              12.0  [0.68443996]     [0.21346907]   \n",
      "3   [0.27802804]   NaN               0.0    [0.604262]     [0.46083343]   \n",
      "4   [0.43902403]  3.51              10.0   [0.6285731]     [0.80554724]   \n",
      "\n",
      "   course types course subjects subjects of interest  \\\n",
      "0  [0.43918705]     [0.6313928]          [0.5049049]   \n",
      "1   [0.7362038]    [0.19093852]         [0.46381435]   \n",
      "2  [0.72914916]    [0.21798886]          [0.8022443]   \n",
      "3  [0.44891873]    [0.53318727]         [0.49875543]   \n",
      "4  [0.80852866]     [0.6046468]         [0.28967094]   \n",
      "\n",
      "  extracurricular activities  \\\n",
      "0                [0.3152772]   \n",
      "1               [0.19889146]   \n",
      "2                [0.6739941]   \n",
      "3               [0.40399086]   \n",
      "4               [0.41126746]   \n",
      "\n",
      "                                  career aspirations           future topics  \\\n",
      "0                                      [107, 43, 10]   [78, 39, 66, 14, 157]   \n",
      "1  [115, 117, 62, 48, 80, 82, 56, 129, 125, 16, 2...  [47, 26, 206, 107, 27]   \n",
      "2  [82, 45, 62, 64, 56, 55, 52, 125, 122, 20, 140...    [59, 75, 120, 46, 6]   \n",
      "3                                                 []  [134, 65, 60, 77, 145]   \n",
      "4  [62, 50, 112, 136, 26, 45, 53, 22, 40, 125, 11...  [49, 129, 65, 48, 180]   \n",
      "\n",
      "  ethnoracial group gender international status socioeconomic status  \n",
      "0               NaN    NaN                  NaN                  NaN  \n",
      "1               NaN    NaN                  NaN                  NaN  \n",
      "2               NaN    NaN                  NaN                  NaN  \n",
      "3               NaN    NaN                  NaN                  NaN  \n",
      "4               NaN    NaN                  NaN                  NaN  \n"
     ]
    }
   ],
   "source": [
    "print(privatized_combined.head(n=5))\n",
    "print(nonprivatized_combined.head(n=5))\n",
    "# Change n to larger numbers to see more rows of the dataframe"
   ]
  },
  {
   "cell_type": "markdown",
   "metadata": {},
   "source": [
    "Now that we have our combined datasets we are ready to begin testing!\n",
    "\n",
    "***\n",
    "\n",
    "The reason for balancing the data privatization is to maximize the utility of the dataset while minimizing the privacy loss of the dataset. Perfectly private data would have no utility and vice versa.\n",
    "\n",
    "Since our private columns are distinct classes, the privacy loss will be measured with accuracy where we want a low accuracy to keep the data safe. Meanwhile, after the RNNs our utility columns are essentially continuous. Thus utility gain will be measured with error where we want a low error to keep the data useful.\n",
    "\n",
    "***\n",
    "\n",
    "Our first test for this is the classifier decision tree. Since it is a classifier we will be using it to test privacy loss for the private columns. Import the DTClassifier class from 'decision_tree_classifier'."
   ]
  },
  {
   "cell_type": "code",
   "execution_count": 24,
   "metadata": {},
   "outputs": [],
   "source": [
    "from calculating_tradeoffs.decision_tree_classifier.decision_tree_classifier import DTClassifier"
   ]
  },
  {
   "cell_type": "markdown",
   "metadata": {},
   "source": [
    "First we instantiate 2 classes. One for the privatized data and one for the non privatized data. We will only run them for the 'Simple1' RNN model to keep things simple. Ba Dum Tss! Similarly we will only look at the 'ethnoracial group' target."
   ]
  },
  {
   "cell_type": "code",
   "execution_count": 25,
   "metadata": {},
   "outputs": [],
   "source": [
    "RNN_model = 'Simple1' # You can change it to 'GRU1' or 'LSTM1' if you used a different RNN model\n",
    "target = 'ethnoracial group' # You can change it to 'gender', 'international status', or 'socioeconomic status' if you like\n",
    "privatization_type = 'Basic_DP' # You can change it to 'Basic_DP_LLC', 'Uniform', 'Uniform_LLC', 'Shuffling', or 'Complete_Shuffling' if you used a different privatization model\n",
    "\n",
    "private_classifier = DTClassifier(privatization_type, RNN_model, target, privatized_combined)"
   ]
  },
  {
   "cell_type": "markdown",
   "metadata": {},
   "source": [
    "Now that we have instantiated the class we need to find the best model. We will use a metric called cost complexity pruning to decide how to prune our tree to prevent overfitting."
   ]
  },
  {
   "cell_type": "code",
   "execution_count": 26,
   "metadata": {},
   "outputs": [
    {
     "name": "stdout",
     "output_type": "stream",
     "text": [
      "DecisionTreeClassifier(random_state=0)\n"
     ]
    }
   ],
   "source": [
    "best_model, ccp_alpha = private_classifier.get_best_model(make_graphs=False, save_model=False) # Leave this input to prevent the graphs from being produced\n",
    "print(best_model)"
   ]
  },
  {
   "cell_type": "markdown",
   "metadata": {},
   "source": [
    "What does this best model look like? Let's print out the decision tree to see for ourselves."
   ]
  },
  {
   "cell_type": "code",
   "execution_count": 27,
   "metadata": {},
   "outputs": [
    {
     "data": {
      "image/png": "[encoded data removed]",
      "text/plain": [
       "<Figure size 2000x1000 with 1 Axes>"
      ]
     },
     "metadata": {},
     "output_type": "display_data"
    }
   ],
   "source": [
    "private_classifier.plotter(model=best_model, show_fig=True)"
   ]
  },
  {
   "cell_type": "markdown",
   "metadata": {},
   "source": [
    "Now that we have the best ccp alpha let us run that model and get the classification report."
   ]
  },
  {
   "cell_type": "code",
   "execution_count": 28,
   "metadata": {},
   "outputs": [
    {
     "name": "stdout",
     "output_type": "stream",
     "text": [
      "{'0': {'precision': 0.0, 'recall': 0.0, 'f1-score': 0.0, 'support': 1.0}, '1': {'precision': 0.0, 'recall': 0.0, 'f1-score': 0.0, 'support': 0.0}, '3': {'precision': 0.0, 'recall': 0.0, 'f1-score': 0.0, 'support': 1.0}, '4': {'precision': 0.0, 'recall': 0.0, 'f1-score': 0.0, 'support': 1.0}, 'accuracy': 0.0, 'macro avg': {'precision': 0.0, 'recall': 0.0, 'f1-score': 0.0, 'support': 3.0}, 'weighted avg': {'precision': 0.0, 'recall': 0.0, 'f1-score': 0.0, 'support': 3.0}, 'time': 0.0018529891967773438}\n"
     ]
    }
   ],
   "source": [
    "private_classifier.run_model(ccp_alpha=ccp_alpha, print_report=True, save_files=False, plot_files=False, get_shap=False) # Leave as is to prevent the graphs from being produced"
   ]
  },
  {
   "cell_type": "markdown",
   "metadata": {},
   "source": [
    "Now let's repeat all of this for the nonprivatized dataset."
   ]
  },
  {
   "cell_type": "code",
   "execution_count": 29,
   "metadata": {},
   "outputs": [
    {
     "name": "stdout",
     "output_type": "stream",
     "text": [
      "DecisionTreeClassifier(random_state=0)\n"
     ]
    },
    {
     "data": {
      "image/png": "[encoded data removed]",
      "text/plain": [
       "<Figure size 2000x1000 with 1 Axes>"
      ]
     },
     "metadata": {},
     "output_type": "display_data"
    }
   ],
   "source": [
    "privatization_type = 'NoPrivatization'\n",
    "\n",
    "nonprivate_classifier = DTClassifier(privatization_type, RNN_model, target, privatized_combined)\n",
    "\n",
    "# Get the best ccp alpha based on X test accuracy\n",
    "best_model, ccp_alpha = nonprivate_classifier.get_best_model(make_graphs=False, save_model=False) # Leave this input to prevent the graphs from being produced\n",
    "print(best_model)\n",
    "\n",
    "# Plot the best model\n",
    "nonprivate_classifier.plotter(model=best_model, show_fig=True)"
   ]
  },
  {
   "cell_type": "markdown",
   "metadata": {},
   "source": [
    "Now that we have the best model for the nonprivatized data, lets get the classification report for the model"
   ]
  },
  {
   "cell_type": "code",
   "execution_count": 30,
   "metadata": {},
   "outputs": [
    {
     "name": "stdout",
     "output_type": "stream",
     "text": [
      "{'0': {'precision': 0.0, 'recall': 0.0, 'f1-score': 0.0, 'support': 1.0}, '1': {'precision': 0.0, 'recall': 0.0, 'f1-score': 0.0, 'support': 0.0}, '3': {'precision': 0.0, 'recall': 0.0, 'f1-score': 0.0, 'support': 1.0}, '4': {'precision': 0.0, 'recall': 0.0, 'f1-score': 0.0, 'support': 1.0}, 'accuracy': 0.0, 'macro avg': {'precision': 0.0, 'recall': 0.0, 'f1-score': 0.0, 'support': 3.0}, 'weighted avg': {'precision': 0.0, 'recall': 0.0, 'f1-score': 0.0, 'support': 3.0}, 'time': 0.003621816635131836}\n"
     ]
    }
   ],
   "source": [
    "nonprivate_classifier.run_model(ccp_alpha=ccp_alpha, print_report=True, save_files=False, plot_files=False, get_shap=False) # Leave as is to prevent the graphs from being produced"
   ]
  }
 ],
 "metadata": {
  "kernelspec": {
   "display_name": "Python (SummerREU2024)",
   "language": "python",
   "name": "myenv"
  },
  "language_info": {
   "codemirror_mode": {
    "name": "ipython",
    "version": 3
   },
   "file_extension": ".py",
   "mimetype": "text/x-python",
   "name": "python",
   "nbconvert_exporter": "python",
   "pygments_lexer": "ipython3",
   "version": "3.11.9"
  }
 },
 "nbformat": 4,
 "nbformat_minor": 2
}
