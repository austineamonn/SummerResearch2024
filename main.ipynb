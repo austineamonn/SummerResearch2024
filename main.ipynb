{
 "cells": [
  {
   "cell_type": "markdown",
   "metadata": {},
   "source": [
    "Make sure you are running this in a virtual environment! Otherwise you may cause problems to your main device. \n",
    "\n",
    "Look up how to create a virtual environment if you don't know how. Otherwise you can just run this in google colab. \n",
    "\n",
    "Then in your virtual environment run the following lines:\n",
    "\n",
    "***\n",
    "\n",
    "pip install jupyter\n",
    "\n",
    "pip install ipykernel\n",
    "\n",
    "python -m ipykernel install --user --name=myenv --display-name \"Python (myenv)\"\n",
    "\n",
    "pip install tensorflow\n",
    "\n",
    "pip install shap\n",
    "\n",
    "***\n",
    "\n",
    "The lines will install different packages and libraries that you need for this notebook. I may have forgotten some in which case you can likely just pip install \"name of package\" in the same format as above.\n",
    "\n",
    "Also, make sure to download all the files called here and every file in the 'data_files_for_data_construction' folder. Ideally you just download the whole github, but some of the CSV files are rather large.\n",
    "\n",
    "***\n",
    "\n",
    "Before we begin we have some standard python libraries to import that we will use throughout this notebook."
   ]
  },
  {
   "cell_type": "code",
   "execution_count": 1,
   "metadata": {},
   "outputs": [],
   "source": [
    "import pandas as pd\n",
    "import time"
   ]
  },
  {
   "cell_type": "markdown",
   "metadata": {},
   "source": [
    "There was no existing dataset that contained the data needed for this project. Thus first we must generate a synthetic dataset. The dataset will be generated based on a variety of real data, mappings between datasets, and artificially generated lists. \n",
    "\n",
    "First we import the Data class which contains all the data needed to generate the synthetic dataset.\n",
    "\n",
    "Next we import the DataGenerator class for the CPU. Note that a version does exist that runs on the GPU."
   ]
  },
  {
   "cell_type": "code",
   "execution_count": 2,
   "metadata": {},
   "outputs": [],
   "source": [
    "from datafiles_for_data_construction.data import Data\n",
    "from data_generation.data_generation_CPU import DataGenerator"
   ]
  },
  {
   "cell_type": "markdown",
   "metadata": {},
   "source": [
    "Next, we instantiate the Data and DataGenerator classes. The Data class allows us to access all the data needed to generate the synthetic dataset and the DataGenerator class allows us to use the functions needed to generate the synthetic dataset."
   ]
  },
  {
   "cell_type": "code",
   "execution_count": 3,
   "metadata": {},
   "outputs": [],
   "source": [
    "data = Data()\n",
    "data_generator = DataGenerator(data)"
   ]
  },
  {
   "cell_type": "markdown",
   "metadata": {},
   "source": [
    "What does the data look like? Some of the data is a list of values. Some lists were generated synthetically, others were pulled from various sources. More information can be found in the README file. Here is a list of learning styles:"
   ]
  },
  {
   "cell_type": "code",
   "execution_count": 4,
   "metadata": {},
   "outputs": [
    {
     "data": {
      "text/plain": [
       "['Visual', 'Auditory', 'Read/Write', 'Kinesthetic']"
      ]
     },
     "execution_count": 4,
     "metadata": {},
     "output_type": "execute_result"
    }
   ],
   "source": [
    "data.learning_style()[\"learning_style_list\"]"
   ]
  },
  {
   "cell_type": "markdown",
   "metadata": {},
   "source": [
    "Some of the data is a dictionary. Some dictionaries map different lists together while others map lists to demographic statistics on how common each item is. This dictionary maps the learning styles to the percentage of people that have said style."
   ]
  },
  {
   "cell_type": "code",
   "execution_count": 5,
   "metadata": {},
   "outputs": [
    {
     "data": {
      "text/plain": [
       "{'Visual': 27.27, 'Auditory': 23.56, 'Read/Write': 21.16, 'Kinesthetic': 28.01}"
      ]
     },
     "execution_count": 5,
     "metadata": {},
     "output_type": "execute_result"
    }
   ],
   "source": [
    "data.learning_style()[\"learning_style\"]"
   ]
  },
  {
   "cell_type": "markdown",
   "metadata": {},
   "source": [
    "Now we use the generate_synthetic_dataset function to create a dataset from all the data. This function has two inputs:\n",
    "- number of samples (an integer) which tell the function how many 'students' we want in our dataset\n",
    "- batch size (an integer) which tells the function how to split up the work to prevent overloading the computer.\n",
    "You can change the values if you want to generate more or less data. Be careful as higher values for number of samples will lead to a longer runtime."
   ]
  },
  {
   "cell_type": "code",
   "execution_count": 6,
   "metadata": {},
   "outputs": [],
   "source": [
    "num_samples = 100 # You can change these values if you want\n",
    "batch_size = 10 # Batch size should be about 1/10 of the number of samples"
   ]
  },
  {
   "cell_type": "markdown",
   "metadata": {},
   "source": [
    "Now we call the function. Use the time library to see how long the generator takes."
   ]
  },
  {
   "cell_type": "code",
   "execution_count": 7,
   "metadata": {},
   "outputs": [
    {
     "name": "stdout",
     "output_type": "stream",
     "text": [
      "20.10244607925415\n"
     ]
    }
   ],
   "source": [
    "start_time = time.time()\n",
    "synthetic_data = data_generator.generate_synthetic_dataset(num_samples, batch_size)\n",
    "end_time = time.time()\n",
    "runtime = end_time - start_time\n",
    "print(runtime)"
   ]
  },
  {
   "cell_type": "markdown",
   "metadata": {},
   "source": [
    "'generate_synthetic_dataset' outputs a pandas dataframe. Lets look at the top 5 elements of the dataframe. You can look back at the README file to get a better sense of what each column contains and how it was generated."
   ]
  },
  {
   "cell_type": "code",
   "execution_count": 8,
   "metadata": {},
   "outputs": [
    {
     "data": {
      "text/html": [
       "<div>\n",
       "<style scoped>\n",
       "    .dataframe tbody tr th:only-of-type {\n",
       "        vertical-align: middle;\n",
       "    }\n",
       "\n",
       "    .dataframe tbody tr th {\n",
       "        vertical-align: top;\n",
       "    }\n",
       "\n",
       "    .dataframe thead th {\n",
       "        text-align: right;\n",
       "    }\n",
       "</style>\n",
       "<table border=\"1\" class=\"dataframe\">\n",
       "  <thead>\n",
       "    <tr style=\"text-align: right;\">\n",
       "      <th></th>\n",
       "      <th>first name</th>\n",
       "      <th>last name</th>\n",
       "      <th>ethnoracial group</th>\n",
       "      <th>gender</th>\n",
       "      <th>international status</th>\n",
       "      <th>socioeconomic status</th>\n",
       "      <th>learning style</th>\n",
       "      <th>gpa</th>\n",
       "      <th>student semester</th>\n",
       "      <th>major</th>\n",
       "      <th>previous courses</th>\n",
       "      <th>course types</th>\n",
       "      <th>course subjects</th>\n",
       "      <th>subjects of interest</th>\n",
       "      <th>extracurricular activities</th>\n",
       "      <th>career aspirations</th>\n",
       "      <th>future topics</th>\n",
       "    </tr>\n",
       "  </thead>\n",
       "  <tbody>\n",
       "    <tr>\n",
       "      <th>0</th>\n",
       "      <td>Nima</td>\n",
       "      <td>Millon</td>\n",
       "      <td>Latino/a/x American</td>\n",
       "      <td>Female</td>\n",
       "      <td>Domestic</td>\n",
       "      <td>Higher income</td>\n",
       "      <td>[Kinesthetic]</td>\n",
       "      <td>3.90</td>\n",
       "      <td>12</td>\n",
       "      <td>[Biomedical Engineering]</td>\n",
       "      <td>[Leadership Laboratory, Climate and Global Cha...</td>\n",
       "      <td>[[Laboratory, Lecture], [Lecture-Discussion, P...</td>\n",
       "      <td>[CMN, EALC, BADM, MATH, ACCY, LLS, PHYS, TAM, ...</td>\n",
       "      <td>[Environmental Science, Psychology, Biomedical...</td>\n",
       "      <td>[Sorority Council, Computer Science Club, Engi...</td>\n",
       "      <td>[Software Developer, Application and System So...</td>\n",
       "      <td>[Biology, Biomedical Engineering, Engineering,...</td>\n",
       "    </tr>\n",
       "    <tr>\n",
       "      <th>1</th>\n",
       "      <td>Tywone</td>\n",
       "      <td>Liebner</td>\n",
       "      <td>European American or white</td>\n",
       "      <td>Male</td>\n",
       "      <td>Domestic</td>\n",
       "      <td>Middle income</td>\n",
       "      <td>[Read/Write]</td>\n",
       "      <td>2.20</td>\n",
       "      <td>12</td>\n",
       "      <td>[Cosmetology Services And Culinary Arts]</td>\n",
       "      <td>[Professional Applications, Vocabulary Buildin...</td>\n",
       "      <td>[[Laboratory, Lecture], [Lecture, Practice], [...</td>\n",
       "      <td>[CMN, ATMS, VCM, PHYS, IE, EPSY, GGIS, IB, CHL...</td>\n",
       "      <td>[Political Science, Agricultural Sciences, Che...</td>\n",
       "      <td>[Environmental Science Club, Hospitality Manag...</td>\n",
       "      <td>[Farmer, Rancher, and Other Agricultural Manag...</td>\n",
       "      <td>[Finance, Marketing, Culinary Arts, Health and...</td>\n",
       "    </tr>\n",
       "    <tr>\n",
       "      <th>2</th>\n",
       "      <td>Hollis</td>\n",
       "      <td>Lacoe</td>\n",
       "      <td>European American or white</td>\n",
       "      <td>Female</td>\n",
       "      <td>Domestic</td>\n",
       "      <td>Middle income</td>\n",
       "      <td>[Kinesthetic]</td>\n",
       "      <td>2.27</td>\n",
       "      <td>5</td>\n",
       "      <td>[Interdisciplinary Social Sciences, Neuroscience]</td>\n",
       "      <td>[Undergraduate Open Seminar, Data Science Disc...</td>\n",
       "      <td>[[Laboratory-Discussion, Lecture, Online], [La...</td>\n",
       "      <td>[SE, STAT, ENGL, ANSC, ACCY, PHIL, IS, ECE, TE...</td>\n",
       "      <td>[Biochemistry, Gender and Women's Studies, Neu...</td>\n",
       "      <td>[European Student Association, Social Sciences...</td>\n",
       "      <td>[Manager, Postsecondary Teacher, Social Worker...</td>\n",
       "      <td>[Psychology, Biology, Interdisciplinary Studie...</td>\n",
       "    </tr>\n",
       "    <tr>\n",
       "      <th>3</th>\n",
       "      <td>Riyan</td>\n",
       "      <td>Gallea</td>\n",
       "      <td>European American or white</td>\n",
       "      <td>Female</td>\n",
       "      <td>Domestic</td>\n",
       "      <td>Middle income</td>\n",
       "      <td>[Visual]</td>\n",
       "      <td>3.70</td>\n",
       "      <td>12</td>\n",
       "      <td>[General Social Sciences]</td>\n",
       "      <td>[Principles of Research, Oboe, Introduction to...</td>\n",
       "      <td>[[Laboratory, Lecture], [Laboratory, Lecture-D...</td>\n",
       "      <td>[MATH, ABE, ECON, ACCY, ECE, CW, ESL, VCM, DAN...</td>\n",
       "      <td>[Education, Sociology, Latina/Latino Studies, ...</td>\n",
       "      <td>[Social Work Club, Education Society, Latino S...</td>\n",
       "      <td>[Residential Advisor, Secondary School Teacher...</td>\n",
       "      <td>[Family Studies, Sociology, Social Sciences, E...</td>\n",
       "    </tr>\n",
       "    <tr>\n",
       "      <th>4</th>\n",
       "      <td>Ulrich</td>\n",
       "      <td>Borths</td>\n",
       "      <td>European American or white</td>\n",
       "      <td>Nonbinary</td>\n",
       "      <td>Domestic</td>\n",
       "      <td>Lower-middle income</td>\n",
       "      <td>[Auditory]</td>\n",
       "      <td>3.93</td>\n",
       "      <td>7</td>\n",
       "      <td>[Actuarial Science]</td>\n",
       "      <td>[General Chemistry Lab II, Modern Europe and t...</td>\n",
       "      <td>[[Laboratory-Discussion], [Lecture, Laboratory...</td>\n",
       "      <td>[STAT, CMN, BADM, ACCY, PHYS, BIOE, THEA, AE, ...</td>\n",
       "      <td>[Statistics, Theatre]</td>\n",
       "      <td>[Business Club, Mathematics Club, Agricultural...</td>\n",
       "      <td>[Mathematical Science Occupation, Management A...</td>\n",
       "      <td>[Statistics, Management, Calculus, Biostatisti...</td>\n",
       "    </tr>\n",
       "  </tbody>\n",
       "</table>\n",
       "</div>"
      ],
      "text/plain": [
       "  first name last name           ethnoracial group     gender  \\\n",
       "0       Nima    Millon         Latino/a/x American     Female   \n",
       "1     Tywone   Liebner  European American or white       Male   \n",
       "2     Hollis     Lacoe  European American or white     Female   \n",
       "3      Riyan    Gallea  European American or white     Female   \n",
       "4     Ulrich    Borths  European American or white  Nonbinary   \n",
       "\n",
       "  international status socioeconomic status learning style   gpa  \\\n",
       "0             Domestic        Higher income  [Kinesthetic]  3.90   \n",
       "1             Domestic        Middle income   [Read/Write]  2.20   \n",
       "2             Domestic        Middle income  [Kinesthetic]  2.27   \n",
       "3             Domestic        Middle income       [Visual]  3.70   \n",
       "4             Domestic  Lower-middle income     [Auditory]  3.93   \n",
       "\n",
       "   student semester                                              major  \\\n",
       "0                12                           [Biomedical Engineering]   \n",
       "1                12           [Cosmetology Services And Culinary Arts]   \n",
       "2                 5  [Interdisciplinary Social Sciences, Neuroscience]   \n",
       "3                12                          [General Social Sciences]   \n",
       "4                 7                                [Actuarial Science]   \n",
       "\n",
       "                                    previous courses  \\\n",
       "0  [Leadership Laboratory, Climate and Global Cha...   \n",
       "1  [Professional Applications, Vocabulary Buildin...   \n",
       "2  [Undergraduate Open Seminar, Data Science Disc...   \n",
       "3  [Principles of Research, Oboe, Introduction to...   \n",
       "4  [General Chemistry Lab II, Modern Europe and t...   \n",
       "\n",
       "                                        course types  \\\n",
       "0  [[Laboratory, Lecture], [Lecture-Discussion, P...   \n",
       "1  [[Laboratory, Lecture], [Lecture, Practice], [...   \n",
       "2  [[Laboratory-Discussion, Lecture, Online], [La...   \n",
       "3  [[Laboratory, Lecture], [Laboratory, Lecture-D...   \n",
       "4  [[Laboratory-Discussion], [Lecture, Laboratory...   \n",
       "\n",
       "                                     course subjects  \\\n",
       "0  [CMN, EALC, BADM, MATH, ACCY, LLS, PHYS, TAM, ...   \n",
       "1  [CMN, ATMS, VCM, PHYS, IE, EPSY, GGIS, IB, CHL...   \n",
       "2  [SE, STAT, ENGL, ANSC, ACCY, PHIL, IS, ECE, TE...   \n",
       "3  [MATH, ABE, ECON, ACCY, ECE, CW, ESL, VCM, DAN...   \n",
       "4  [STAT, CMN, BADM, ACCY, PHYS, BIOE, THEA, AE, ...   \n",
       "\n",
       "                                subjects of interest  \\\n",
       "0  [Environmental Science, Psychology, Biomedical...   \n",
       "1  [Political Science, Agricultural Sciences, Che...   \n",
       "2  [Biochemistry, Gender and Women's Studies, Neu...   \n",
       "3  [Education, Sociology, Latina/Latino Studies, ...   \n",
       "4                              [Statistics, Theatre]   \n",
       "\n",
       "                          extracurricular activities  \\\n",
       "0  [Sorority Council, Computer Science Club, Engi...   \n",
       "1  [Environmental Science Club, Hospitality Manag...   \n",
       "2  [European Student Association, Social Sciences...   \n",
       "3  [Social Work Club, Education Society, Latino S...   \n",
       "4  [Business Club, Mathematics Club, Agricultural...   \n",
       "\n",
       "                                  career aspirations  \\\n",
       "0  [Software Developer, Application and System So...   \n",
       "1  [Farmer, Rancher, and Other Agricultural Manag...   \n",
       "2  [Manager, Postsecondary Teacher, Social Worker...   \n",
       "3  [Residential Advisor, Secondary School Teacher...   \n",
       "4  [Mathematical Science Occupation, Management A...   \n",
       "\n",
       "                                       future topics  \n",
       "0  [Biology, Biomedical Engineering, Engineering,...  \n",
       "1  [Finance, Marketing, Culinary Arts, Health and...  \n",
       "2  [Psychology, Biology, Interdisciplinary Studie...  \n",
       "3  [Family Studies, Sociology, Social Sciences, E...  \n",
       "4  [Statistics, Management, Calculus, Biostatisti...  "
      ]
     },
     "execution_count": 8,
     "metadata": {},
     "output_type": "execute_result"
    }
   ],
   "source": [
    "synthetic_data.head(n=5) # Change n to larger numbers to see more rows of the dataframe"
   ]
  },
  {
   "cell_type": "markdown",
   "metadata": {},
   "source": [
    "Notice that we have columns that are lists and columns that are strings. Machine learning models need the input data to be numerical. Thus some data preprocessing is required.\n",
    "\n",
    "We import the Preprocessing class to do the preprocessing work."
   ]
  },
  {
   "cell_type": "code",
   "execution_count": 9,
   "metadata": {},
   "outputs": [],
   "source": [
    "from data_preprocessing.preprocessing import PreProcessing"
   ]
  },
  {
   "cell_type": "markdown",
   "metadata": {},
   "source": [
    "Inside the Preprocessing class there are two functions that do the main preprocessing work:\n",
    "- 'stringlist_to_binarylist': converts lists of strings into a binary list\n",
    "- 'string_list_to_numberedlist': converts lits of strings into a numbered list.\n",
    "\n",
    "Imagine the full options available are ['alice', 'bob', 'charlie']\n",
    "Thus for the entry ['alice', 'charlie'] we get:\n",
    "[1,0,1] for 'stringlist_to_binarylist'\n",
    "[0,2] for 'string_list_to_numberedlist'\n",
    "\n",
    "When we instantiate the class and call the 'preprocess_dataset' function both of the above functions will be called on certain columns. 'stringlist_to_binarylist' is called on 'learning styles' and 'string_list_to_numberedlist' is called on all the other lists."
   ]
  },
  {
   "cell_type": "code",
   "execution_count": 10,
   "metadata": {},
   "outputs": [
    {
     "name": "stdout",
     "output_type": "stream",
     "text": [
      "0.14040303230285645\n"
     ]
    }
   ],
   "source": [
    "preprocessor = PreProcessing(data)\n",
    "start_time = time.time()\n",
    "preprocessed_data = preprocessor.preprocess_dataset(synthetic_data)\n",
    "end_time = time.time()\n",
    "runtime = end_time - start_time\n",
    "print(runtime)"
   ]
  },
  {
   "cell_type": "markdown",
   "metadata": {},
   "source": [
    "'preprocess_dataset' outputs a pandas dataframe. Lets look at the top 5 elements of the dataframe."
   ]
  },
  {
   "cell_type": "code",
   "execution_count": 11,
   "metadata": {
    "scrolled": true
   },
   "outputs": [
    {
     "data": {
      "text/html": [
       "<div>\n",
       "<style scoped>\n",
       "    .dataframe tbody tr th:only-of-type {\n",
       "        vertical-align: middle;\n",
       "    }\n",
       "\n",
       "    .dataframe tbody tr th {\n",
       "        vertical-align: top;\n",
       "    }\n",
       "\n",
       "    .dataframe thead th {\n",
       "        text-align: right;\n",
       "    }\n",
       "</style>\n",
       "<table border=\"1\" class=\"dataframe\">\n",
       "  <thead>\n",
       "    <tr style=\"text-align: right;\">\n",
       "      <th></th>\n",
       "      <th>learning style</th>\n",
       "      <th>gpa</th>\n",
       "      <th>student semester</th>\n",
       "      <th>major</th>\n",
       "      <th>previous courses</th>\n",
       "      <th>course types</th>\n",
       "      <th>course subjects</th>\n",
       "      <th>subjects of interest</th>\n",
       "      <th>extracurricular activities</th>\n",
       "      <th>career aspirations</th>\n",
       "      <th>future topics</th>\n",
       "    </tr>\n",
       "  </thead>\n",
       "  <tbody>\n",
       "    <tr>\n",
       "      <th>0</th>\n",
       "      <td>[0, 0, 0, 1]</td>\n",
       "      <td>3.90</td>\n",
       "      <td>12</td>\n",
       "      <td>[19]</td>\n",
       "      <td>[2041, 572, 1829, 1594, 3461, 2280, 3109, 3338...</td>\n",
       "      <td>[0, 4, 13, 5, 10, 1, 2, 3, 20, 19, 14, 17, 12]</td>\n",
       "      <td>[54, 63, 30, 127, 2, 125, 147, 207, 159, 15, 4...</td>\n",
       "      <td>[15, 10, 53, 18, 6]</td>\n",
       "      <td>[9, 70, 62, 102, 63, 116, 48, 185, 80]</td>\n",
       "      <td>[137, 70, 32, 27, 33, 85, 146, 51, 3, 82, 87, ...</td>\n",
       "      <td>[25, 24, 52, 122, 22]</td>\n",
       "    </tr>\n",
       "    <tr>\n",
       "      <th>1</th>\n",
       "      <td>[0, 0, 1, 0]</td>\n",
       "      <td>2.20</td>\n",
       "      <td>12</td>\n",
       "      <td>[41]</td>\n",
       "      <td>[2551, 3406, 2917, 2615, 1281, 1313, 3338, 346...</td>\n",
       "      <td>[9, 0, 4, 5, 10, 1, 2, 3, 7, 6, 20, 16, 17]</td>\n",
       "      <td>[54, 29, 163, 147, 106, 76, 90, 105, 48, 116, ...</td>\n",
       "      <td>[13, 27, 3]</td>\n",
       "      <td>[79, 75, 81, 178, 60, 112, 117]</td>\n",
       "      <td>[54, 4, 21, 60, 20, 14, 64, 82, 5, 53, 145, 40...</td>\n",
       "      <td>[68, 107, 170, 81, 26]</td>\n",
       "    </tr>\n",
       "    <tr>\n",
       "      <th>2</th>\n",
       "      <td>[0, 0, 0, 1]</td>\n",
       "      <td>2.27</td>\n",
       "      <td>5</td>\n",
       "      <td>[92, 132]</td>\n",
       "      <td>[3338, 816, 1767, 1871, 1831, 1312, 253, 3205,...</td>\n",
       "      <td>[0, 5, 10, 1, 2, 3, 6]</td>\n",
       "      <td>[232, 160, 71, 15, 2, 146, 109, 64, 208, 56, 6...</td>\n",
       "      <td>[50, 72, 95, 6, 65, 4, 11, 18]</td>\n",
       "      <td>[22, 107, 99, 84, 71, 60, 86, 82]</td>\n",
       "      <td>[82, 112, 136, 16, 77, 130]</td>\n",
       "      <td>[169, 25, 213, 33, 114]</td>\n",
       "    </tr>\n",
       "    <tr>\n",
       "      <th>3</th>\n",
       "      <td>[1, 0, 0, 0]</td>\n",
       "      <td>3.70</td>\n",
       "      <td>12</td>\n",
       "      <td>[74]</td>\n",
       "      <td>[2527, 2340, 1832, 1067, 3453, 906, 983, 2494,...</td>\n",
       "      <td>[9, 0, 4, 5, 10, 1, 2, 3, 7, 11, 6, 18, 20, 16]</td>\n",
       "      <td>[127, 1, 65, 2, 64, 58, 79, 163, 61, 147, 106,...</td>\n",
       "      <td>[22, 11, 87, 37, 72, 0]</td>\n",
       "      <td>[120, 71, 44, 37, 107, 105, 121, 239, 80, 55]</td>\n",
       "      <td>[123, 130, 136, 114, 138, 26, 108, 50, 112, 14...</td>\n",
       "      <td>[65, 148, 191, 49, 147]</td>\n",
       "    </tr>\n",
       "    <tr>\n",
       "      <th>4</th>\n",
       "      <td>[0, 1, 0, 0]</td>\n",
       "      <td>3.93</td>\n",
       "      <td>7</td>\n",
       "      <td>[1]</td>\n",
       "      <td>[1313, 2236, 1916, 1690, 3461, 607, 816, 906, ...</td>\n",
       "      <td>[9, 0, 4, 13, 5, 10, 1, 2, 3, 7, 6, 8]</td>\n",
       "      <td>[160, 54, 30, 2, 147, 36, 162, 6, 48, 220, 56,...</td>\n",
       "      <td>[108, 124]</td>\n",
       "      <td>[60, 85, 81]</td>\n",
       "      <td>[86, 81, 2, 28, 37, 98, 0, 61, 25, 15, 140, 73...</td>\n",
       "      <td>[155, 106, 28, 23, 109]</td>\n",
       "    </tr>\n",
       "  </tbody>\n",
       "</table>\n",
       "</div>"
      ],
      "text/plain": [
       "  learning style   gpa  student semester      major  \\\n",
       "0   [0, 0, 0, 1]  3.90                12       [19]   \n",
       "1   [0, 0, 1, 0]  2.20                12       [41]   \n",
       "2   [0, 0, 0, 1]  2.27                 5  [92, 132]   \n",
       "3   [1, 0, 0, 0]  3.70                12       [74]   \n",
       "4   [0, 1, 0, 0]  3.93                 7        [1]   \n",
       "\n",
       "                                    previous courses  \\\n",
       "0  [2041, 572, 1829, 1594, 3461, 2280, 3109, 3338...   \n",
       "1  [2551, 3406, 2917, 2615, 1281, 1313, 3338, 346...   \n",
       "2  [3338, 816, 1767, 1871, 1831, 1312, 253, 3205,...   \n",
       "3  [2527, 2340, 1832, 1067, 3453, 906, 983, 2494,...   \n",
       "4  [1313, 2236, 1916, 1690, 3461, 607, 816, 906, ...   \n",
       "\n",
       "                                      course types  \\\n",
       "0   [0, 4, 13, 5, 10, 1, 2, 3, 20, 19, 14, 17, 12]   \n",
       "1      [9, 0, 4, 5, 10, 1, 2, 3, 7, 6, 20, 16, 17]   \n",
       "2                           [0, 5, 10, 1, 2, 3, 6]   \n",
       "3  [9, 0, 4, 5, 10, 1, 2, 3, 7, 11, 6, 18, 20, 16]   \n",
       "4           [9, 0, 4, 13, 5, 10, 1, 2, 3, 7, 6, 8]   \n",
       "\n",
       "                                     course subjects  \\\n",
       "0  [54, 63, 30, 127, 2, 125, 147, 207, 159, 15, 4...   \n",
       "1  [54, 29, 163, 147, 106, 76, 90, 105, 48, 116, ...   \n",
       "2  [232, 160, 71, 15, 2, 146, 109, 64, 208, 56, 6...   \n",
       "3  [127, 1, 65, 2, 64, 58, 79, 163, 61, 147, 106,...   \n",
       "4  [160, 54, 30, 2, 147, 36, 162, 6, 48, 220, 56,...   \n",
       "\n",
       "             subjects of interest  \\\n",
       "0             [15, 10, 53, 18, 6]   \n",
       "1                     [13, 27, 3]   \n",
       "2  [50, 72, 95, 6, 65, 4, 11, 18]   \n",
       "3         [22, 11, 87, 37, 72, 0]   \n",
       "4                      [108, 124]   \n",
       "\n",
       "                      extracurricular activities  \\\n",
       "0         [9, 70, 62, 102, 63, 116, 48, 185, 80]   \n",
       "1                [79, 75, 81, 178, 60, 112, 117]   \n",
       "2              [22, 107, 99, 84, 71, 60, 86, 82]   \n",
       "3  [120, 71, 44, 37, 107, 105, 121, 239, 80, 55]   \n",
       "4                                   [60, 85, 81]   \n",
       "\n",
       "                                  career aspirations            future topics  \n",
       "0  [137, 70, 32, 27, 33, 85, 146, 51, 3, 82, 87, ...    [25, 24, 52, 122, 22]  \n",
       "1  [54, 4, 21, 60, 20, 14, 64, 82, 5, 53, 145, 40...   [68, 107, 170, 81, 26]  \n",
       "2                        [82, 112, 136, 16, 77, 130]  [169, 25, 213, 33, 114]  \n",
       "3  [123, 130, 136, 114, 138, 26, 108, 50, 112, 14...  [65, 148, 191, 49, 147]  \n",
       "4  [86, 81, 2, 28, 37, 98, 0, 61, 25, 15, 140, 73...  [155, 106, 28, 23, 109]  "
      ]
     },
     "execution_count": 11,
     "metadata": {},
     "output_type": "execute_result"
    }
   ],
   "source": [
    "preprocessed_data.head(n=5) # Change n to larger numbers to see more rows of the dataframe"
   ]
  },
  {
   "cell_type": "markdown",
   "metadata": {},
   "source": [
    "Now that the data has been preprocessed we must privatize the data to keep it safe.\n",
    "\n",
    "We import the Privatizer class to do this."
   ]
  },
  {
   "cell_type": "code",
   "execution_count": 12,
   "metadata": {},
   "outputs": [],
   "source": [
    "from data_privatization.privatization import Privatizer"
   ]
  },
  {
   "cell_type": "markdown",
   "metadata": {},
   "source": [
    "There are a variety of privatization methods you can try:\n",
    "- Basic Differential Privacy (laplace noise addition)\n",
    "- Uniform Noise Differential Privacy (uniform noise addition)\n",
    "- Shuffling\n",
    "Both Differential Privacy types can be done with or without list lengthening. This means the list columns like 'previous courses' could be lengthened according to the noise addition function. More details can be found in the README file. Let's try basic differential privacy with list lengthening."
   ]
  },
  {
   "cell_type": "code",
   "execution_count": 13,
   "metadata": {},
   "outputs": [],
   "source": [
    "privatization_type = 'basic differential privacy'\n",
    "# Other 'privatization_type' options: 'uniform', 'shuffle', 'full shuffle' (full shuffle shuffles all of the rows)\n",
    "privatizer = Privatizer(data, style=privatization_type, list_length=True)\n",
    "# Can set 'list_length' to false if you don't want to allow the list sizes to change"
   ]
  },
  {
   "cell_type": "markdown",
   "metadata": {},
   "source": [
    "Now we call 'privatize_dataset'. Use the time library to see how long the privatizer takes."
   ]
  },
  {
   "cell_type": "code",
   "execution_count": 14,
   "metadata": {},
   "outputs": [
    {
     "name": "stdout",
     "output_type": "stream",
     "text": [
      "0.026831865310668945\n"
     ]
    }
   ],
   "source": [
    "start_time = time.time()\n",
    "privatized_data = privatizer.privatize_dataset(preprocessed_data)\n",
    "end_time = time.time()\n",
    "runtime = end_time - start_time\n",
    "print(runtime)"
   ]
  },
  {
   "cell_type": "markdown",
   "metadata": {},
   "source": [
    "'preprocess_dataset' outputs a pandas dataframe. Lets look at the top 5 elements of the dataframe."
   ]
  },
  {
   "cell_type": "code",
   "execution_count": 15,
   "metadata": {},
   "outputs": [
    {
     "data": {
      "text/html": [
       "<div>\n",
       "<style scoped>\n",
       "    .dataframe tbody tr th:only-of-type {\n",
       "        vertical-align: middle;\n",
       "    }\n",
       "\n",
       "    .dataframe tbody tr th {\n",
       "        vertical-align: top;\n",
       "    }\n",
       "\n",
       "    .dataframe thead th {\n",
       "        text-align: right;\n",
       "    }\n",
       "</style>\n",
       "<table border=\"1\" class=\"dataframe\">\n",
       "  <thead>\n",
       "    <tr style=\"text-align: right;\">\n",
       "      <th></th>\n",
       "      <th>learning style</th>\n",
       "      <th>gpa</th>\n",
       "      <th>student semester</th>\n",
       "      <th>major</th>\n",
       "      <th>previous courses</th>\n",
       "      <th>course types</th>\n",
       "      <th>course subjects</th>\n",
       "      <th>subjects of interest</th>\n",
       "      <th>extracurricular activities</th>\n",
       "    </tr>\n",
       "  </thead>\n",
       "  <tbody>\n",
       "    <tr>\n",
       "      <th>0</th>\n",
       "      <td>[0, 0, 0, 1]</td>\n",
       "      <td>3.13</td>\n",
       "      <td>6</td>\n",
       "      <td>[17]</td>\n",
       "      <td>[3474]</td>\n",
       "      <td>[4, 19, 1]</td>\n",
       "      <td>[108, 96, 177, 219, 5, 193, 169, 147, 165, 189]</td>\n",
       "      <td>[3, 89, 48, 80, 0, 2, 52, 135, 137, 101, 73, 1...</td>\n",
       "      <td>[92, 4, 91, 9, 75, 114, 128, 281, 55, 136, 229...</td>\n",
       "    </tr>\n",
       "    <tr>\n",
       "      <th>1</th>\n",
       "      <td>[1, 0, 1, 0]</td>\n",
       "      <td>3.76</td>\n",
       "      <td>3</td>\n",
       "      <td>[]</td>\n",
       "      <td>[726, 2880, 3409, 1834, 1648, 367, 773, 551, 9...</td>\n",
       "      <td>[2, 21, 11, 6, 14, 6, 8, 0]</td>\n",
       "      <td>[201, 72, 90, 117, 53, 122, 19, 8, 227, 188, 9...</td>\n",
       "      <td>[100, 60, 126, 61, 10, 137, 50, 56, 13, 49, 13...</td>\n",
       "      <td>[67, 111]</td>\n",
       "    </tr>\n",
       "    <tr>\n",
       "      <th>2</th>\n",
       "      <td>[0, 0, 1, 0]</td>\n",
       "      <td>2.59</td>\n",
       "      <td>9</td>\n",
       "      <td>[]</td>\n",
       "      <td>[2440, 1987, 233, 1044, 1184, 695, 1936, 1502,...</td>\n",
       "      <td>[3, 8, 4, 10, 20, 19, 1, 17, 20, 5, 8, 19, 16]</td>\n",
       "      <td>[58, 216, 208, 148, 148, 179, 75]</td>\n",
       "      <td>[18, 112, 25, 106, 94, 6, 109, 9, 104, 1, 133,...</td>\n",
       "      <td>[230, 128, 11, 160, 169, 268, 203, 205, 52, 71...</td>\n",
       "    </tr>\n",
       "    <tr>\n",
       "      <th>3</th>\n",
       "      <td>[1, 0, 1, 0]</td>\n",
       "      <td>2.96</td>\n",
       "      <td>11</td>\n",
       "      <td>[35, 125]</td>\n",
       "      <td>[2320, 2742, 731, 2154, 2317, 2897, 3057, 759,...</td>\n",
       "      <td>[17, 16, 20, 20, 2, 19, 0, 4]</td>\n",
       "      <td>[76, 81, 194, 191, 171, 41, 164, 181, 174, 77,...</td>\n",
       "      <td>[35, 66, 102, 89, 124, 139, 116, 28, 104, 82, ...</td>\n",
       "      <td>[]</td>\n",
       "    </tr>\n",
       "    <tr>\n",
       "      <th>4</th>\n",
       "      <td>[1, 1, 0, 0]</td>\n",
       "      <td>2.92</td>\n",
       "      <td>4</td>\n",
       "      <td>[24, 111]</td>\n",
       "      <td>[321, 2647, 1424, 2062, 993, 967, 293, 2080, 8...</td>\n",
       "      <td>[14, 6, 2, 4, 7, 5, 20, 9, 12, 20]</td>\n",
       "      <td>[142, 226, 217, 172, 209, 133, 88, 156, 169, 1...</td>\n",
       "      <td>[71, 30, 134, 114, 95, 85, 41, 127, 62, 54, 96...</td>\n",
       "      <td>[165, 100]</td>\n",
       "    </tr>\n",
       "  </tbody>\n",
       "</table>\n",
       "</div>"
      ],
      "text/plain": [
       "  learning style   gpa  student semester      major  \\\n",
       "0   [0, 0, 0, 1]  3.13                 6       [17]   \n",
       "1   [1, 0, 1, 0]  3.76                 3         []   \n",
       "2   [0, 0, 1, 0]  2.59                 9         []   \n",
       "3   [1, 0, 1, 0]  2.96                11  [35, 125]   \n",
       "4   [1, 1, 0, 0]  2.92                 4  [24, 111]   \n",
       "\n",
       "                                    previous courses  \\\n",
       "0                                             [3474]   \n",
       "1  [726, 2880, 3409, 1834, 1648, 367, 773, 551, 9...   \n",
       "2  [2440, 1987, 233, 1044, 1184, 695, 1936, 1502,...   \n",
       "3  [2320, 2742, 731, 2154, 2317, 2897, 3057, 759,...   \n",
       "4  [321, 2647, 1424, 2062, 993, 967, 293, 2080, 8...   \n",
       "\n",
       "                                     course types  \\\n",
       "0                                      [4, 19, 1]   \n",
       "1                     [2, 21, 11, 6, 14, 6, 8, 0]   \n",
       "2  [3, 8, 4, 10, 20, 19, 1, 17, 20, 5, 8, 19, 16]   \n",
       "3                   [17, 16, 20, 20, 2, 19, 0, 4]   \n",
       "4              [14, 6, 2, 4, 7, 5, 20, 9, 12, 20]   \n",
       "\n",
       "                                     course subjects  \\\n",
       "0    [108, 96, 177, 219, 5, 193, 169, 147, 165, 189]   \n",
       "1  [201, 72, 90, 117, 53, 122, 19, 8, 227, 188, 9...   \n",
       "2                  [58, 216, 208, 148, 148, 179, 75]   \n",
       "3  [76, 81, 194, 191, 171, 41, 164, 181, 174, 77,...   \n",
       "4  [142, 226, 217, 172, 209, 133, 88, 156, 169, 1...   \n",
       "\n",
       "                                subjects of interest  \\\n",
       "0  [3, 89, 48, 80, 0, 2, 52, 135, 137, 101, 73, 1...   \n",
       "1  [100, 60, 126, 61, 10, 137, 50, 56, 13, 49, 13...   \n",
       "2  [18, 112, 25, 106, 94, 6, 109, 9, 104, 1, 133,...   \n",
       "3  [35, 66, 102, 89, 124, 139, 116, 28, 104, 82, ...   \n",
       "4  [71, 30, 134, 114, 95, 85, 41, 127, 62, 54, 96...   \n",
       "\n",
       "                          extracurricular activities  \n",
       "0  [92, 4, 91, 9, 75, 114, 128, 281, 55, 136, 229...  \n",
       "1                                          [67, 111]  \n",
       "2  [230, 128, 11, 160, 169, 268, 203, 205, 52, 71...  \n",
       "3                                                 []  \n",
       "4                                         [165, 100]  "
      ]
     },
     "execution_count": 15,
     "metadata": {},
     "output_type": "execute_result"
    }
   ],
   "source": [
    "privatized_data.head(n=5) # Change n to larger numbers to see more rows of the dataframe"
   ]
  },
  {
   "cell_type": "markdown",
   "metadata": {},
   "source": [
    "We still have the problem of long lists. The 'previous courses list' can be over 30 elements long! Thus we call a new function from the Preprocessor class, 'create_RNN_models'. Three different recurrent neural network models are used to reduce the dimension of each list to 1 element. The three networks are: Simple, GRU (Gated Recurrent Units), and LSTM (Long Term Short Memory).\n",
    "\n",
    "Since 'create_RNN_models' takes in a dataframe, there is no need to create a new instance of the Preprocessor class. Thus we should call:\n",
    "- 'privatized_data': reduce dimensionality\n",
    "- 'preprocessed_data': give a null for comparison at the end\n",
    "- 'preprocessed_data' with 'utility=True': reduce dimensionality of the utility columns\n",
    "\n",
    "Let's also calculate and compare the runtimes.\n",
    "\n",
    "Let us just use the simple RNN dimensionality reduction. Though this can be switch by changing 'simple' to False and a different method to True."
   ]
  },
  {
   "cell_type": "code",
   "execution_count": 19,
   "metadata": {},
   "outputs": [
    {
     "ename": "TypeError",
     "evalue": "PreProcessing.create_RNN_models() got an unexpected keyword argument 'simple'",
     "output_type": "error",
     "traceback": [
      "\u001b[0;31m---------------------------------------------------------------------------\u001b[0m",
      "\u001b[0;31mTypeError\u001b[0m                                 Traceback (most recent call last)",
      "Cell \u001b[0;32mIn[19], line 4\u001b[0m\n\u001b[1;32m      1\u001b[0m \u001b[38;5;66;03m# Only let one of simple, LSTM, and GRU be equal to true.\u001b[39;00m\n\u001b[1;32m      3\u001b[0m start_time \u001b[38;5;241m=\u001b[39m time\u001b[38;5;241m.\u001b[39mtime()\n\u001b[0;32m----> 4\u001b[0m privatized_data_reduced \u001b[38;5;241m=\u001b[39m \u001b[43mpreprocessor\u001b[49m\u001b[38;5;241;43m.\u001b[39;49m\u001b[43mcreate_RNN_models\u001b[49m\u001b[43m(\u001b[49m\u001b[43mprivatized_data\u001b[49m\u001b[43m,\u001b[49m\u001b[43m \u001b[49m\u001b[43msimple\u001b[49m\u001b[38;5;241;43m=\u001b[39;49m\u001b[38;5;28;43;01mTrue\u001b[39;49;00m\u001b[43m,\u001b[49m\u001b[43m \u001b[49m\u001b[43mLSTM\u001b[49m\u001b[38;5;241;43m=\u001b[39;49m\u001b[38;5;28;43;01mFalse\u001b[39;49;00m\u001b[43m,\u001b[49m\u001b[43m \u001b[49m\u001b[43mGRU\u001b[49m\u001b[38;5;241;43m=\u001b[39;49m\u001b[38;5;28;43;01mFalse\u001b[39;49;00m\u001b[43m)\u001b[49m\n\u001b[1;32m      5\u001b[0m end_time \u001b[38;5;241m=\u001b[39m time\u001b[38;5;241m.\u001b[39mtime()\n\u001b[1;32m      6\u001b[0m runtime_pd \u001b[38;5;241m=\u001b[39m end_time \u001b[38;5;241m-\u001b[39m start_time\n",
      "\u001b[0;31mTypeError\u001b[0m: PreProcessing.create_RNN_models() got an unexpected keyword argument 'simple'"
     ]
    }
   ],
   "source": [
    "# Only let one of simple, LSTM, and GRU be equal to true.\n",
    "\n",
    "start_time = time.time()\n",
    "privatized_data_reduced = preprocessor.create_RNN_models(privatized_data, simple=True, LSTM=False, GRU=False)\n",
    "end_time = time.time()\n",
    "runtime_pd = end_time - start_time\n",
    "\n",
    "start_time = time.time()\n",
    "nonprivatized_data_reduced = preprocessor.create_RNN_models(preprocessed_data, simple=True, LSTM=False, GRU=False)\n",
    "end_time = time.time()\n",
    "runtime_npd = end_time - start_time\n",
    "\n",
    "start_time = time.time()\n",
    "utility_cols_reduced = preprocessor.create_RNN_models(preprocessed_data, utility=True, simple=True, LSTM=False, GRU=False)\n",
    "end_time = time.time()\n",
    "runtime_uc = end_time - start_time\n",
    "\n",
    "print(f'Privatized data runtime: {runtime_pd}')\n",
    "print(f'Nonprivatized data runtime: {runtime_npd}')\n",
    "print(f'Utility columns runtime: {runtime_uc}')"
   ]
  },
  {
   "cell_type": "markdown",
   "metadata": {},
   "source": [
    "'create_RNN_models' outputs a pandas dataframe. Lets look at the top 5 elements for each of the dataframes"
   ]
  },
  {
   "cell_type": "code",
   "execution_count": 17,
   "metadata": {},
   "outputs": [
    {
     "ename": "AttributeError",
     "evalue": "'list' object has no attribute 'head'",
     "output_type": "error",
     "traceback": [
      "\u001b[0;31m---------------------------------------------------------------------------\u001b[0m",
      "\u001b[0;31mAttributeError\u001b[0m                            Traceback (most recent call last)",
      "Cell \u001b[0;32mIn[17], line 1\u001b[0m\n\u001b[0;32m----> 1\u001b[0m \u001b[38;5;28mprint\u001b[39m(\u001b[43mprivatized_data_reduced\u001b[49m\u001b[38;5;241;43m.\u001b[39;49m\u001b[43mhead\u001b[49m(n\u001b[38;5;241m=\u001b[39m\u001b[38;5;241m5\u001b[39m))\n\u001b[1;32m      2\u001b[0m \u001b[38;5;28mprint\u001b[39m(nonprivatized_data_reduced\u001b[38;5;241m.\u001b[39mhead(n\u001b[38;5;241m=\u001b[39m\u001b[38;5;241m5\u001b[39m))\n\u001b[1;32m      3\u001b[0m \u001b[38;5;28mprint\u001b[39m(utility_cols_reduced\u001b[38;5;241m.\u001b[39mhead(n\u001b[38;5;241m=\u001b[39m\u001b[38;5;241m5\u001b[39m))\n",
      "\u001b[0;31mAttributeError\u001b[0m: 'list' object has no attribute 'head'"
     ]
    }
   ],
   "source": [
    "print(privatized_data_reduced.head(n=5))\n",
    "print(nonprivatized_data_reduced.head(n=5))\n",
    "print(utility_cols_reduced.head(n=5))\n",
    "# Change n to larger numbers to see more rows of the dataframe"
   ]
  },
  {
   "cell_type": "markdown",
   "metadata": {},
   "source": [
    "Now we have to preprocess the private columns so that machine learning models can train on them. To do this we import the PrivateColumns from the 'preprocessing_private_columns' file."
   ]
  },
  {
   "cell_type": "code",
   "execution_count": null,
   "metadata": {},
   "outputs": [],
   "source": [
    "from data_preprocessing.preprocessing_private_columns import PrivateColumns"
   ]
  },
  {
   "cell_type": "markdown",
   "metadata": {},
   "source": [
    "Now we can instantiate the class."
   ]
  },
  {
   "cell_type": "code",
   "execution_count": null,
   "metadata": {},
   "outputs": [],
   "source": [
    "private_columns_data = PrivateColumns(synthetic_data)"
   ]
  },
  {
   "cell_type": "markdown",
   "metadata": {},
   "source": [
    "Get the privacy columns from"
   ]
  },
  {
   "cell_type": "code",
   "execution_count": null,
   "metadata": {},
   "outputs": [],
   "source": [
    "privacy_columns = private_cols.get_private_cols(df)"
   ]
  },
  {
   "cell_type": "markdown",
   "metadata": {},
   "source": [
    "The reason for balancing the data privatization is to maximize the utility of the dataset while minimizing the privacy loss of the dataset. Perfectly private data would have no utility and vice versa.\n",
    "\n",
    "Since our private columns are distinct classes, the privacy loss will be measured with accuracy where we want a low accuracy to keep the data safe. Meanwhile, after the RNNs our utility columns are essentially continuous. Thus utility gain will be measured with error where we want a low error to keep the data useful.\n",
    "\n",
    "Our first test for this is the classifier decision tree. Since it is a classifier we will be using it to test privacy loss for the private columns. Import the DTClassifier class from 'decision_tree_classifier'."
   ]
  },
  {
   "cell_type": "code",
   "execution_count": 12,
   "metadata": {},
   "outputs": [
    {
     "ename": "ModuleNotFoundError",
     "evalue": "No module named 'shap'",
     "output_type": "error",
     "traceback": [
      "\u001b[0;31m---------------------------------------------------------------------------\u001b[0m",
      "\u001b[0;31mModuleNotFoundError\u001b[0m                       Traceback (most recent call last)",
      "Cell \u001b[0;32mIn[12], line 1\u001b[0m\n\u001b[0;32m----> 1\u001b[0m \u001b[38;5;28;01mfrom\u001b[39;00m \u001b[38;5;21;01mcalculating_tradeoffs\u001b[39;00m\u001b[38;5;21;01m.\u001b[39;00m\u001b[38;5;21;01mdecision_tree_classifier\u001b[39;00m\u001b[38;5;21;01m.\u001b[39;00m\u001b[38;5;21;01mdecision_tree_classifier\u001b[39;00m \u001b[38;5;28;01mimport\u001b[39;00m DTClassifier\n",
      "File \u001b[0;32m~/Documents/SummerREU2024/SummerResearch2024/calculating_tradeoffs/decision_tree_classifier/decision_tree_classifier.py:14\u001b[0m\n\u001b[1;32m     12\u001b[0m \u001b[38;5;28;01mimport\u001b[39;00m \u001b[38;5;21;01mnumpy\u001b[39;00m \u001b[38;5;28;01mas\u001b[39;00m \u001b[38;5;21;01mnp\u001b[39;00m\n\u001b[1;32m     13\u001b[0m \u001b[38;5;28;01mimport\u001b[39;00m \u001b[38;5;21;01mjson\u001b[39;00m\n\u001b[0;32m---> 14\u001b[0m \u001b[38;5;28;01mimport\u001b[39;00m \u001b[38;5;21;01mtime\u001b[39;00m\n\u001b[1;32m     16\u001b[0m \u001b[38;5;66;03m# Add the SummerResearch2024 directory to sys.path\u001b[39;00m\n\u001b[1;32m     17\u001b[0m sys\u001b[38;5;241m.\u001b[39mpath\u001b[38;5;241m.\u001b[39mappend(os\u001b[38;5;241m.\u001b[39mpath\u001b[38;5;241m.\u001b[39mabspath(os\u001b[38;5;241m.\u001b[39mpath\u001b[38;5;241m.\u001b[39mjoin(os\u001b[38;5;241m.\u001b[39mpath\u001b[38;5;241m.\u001b[39mdirname(\u001b[38;5;18m__file__\u001b[39m), \u001b[38;5;124m'\u001b[39m\u001b[38;5;124m..\u001b[39m\u001b[38;5;124m'\u001b[39m)))\n",
      "\u001b[0;31mModuleNotFoundError\u001b[0m: No module named 'shap'"
     ]
    }
   ],
   "source": [
    "from calculating_tradeoffs.decision_tree_classifier.decision_tree_classifier import DTClassifier"
   ]
  },
  {
   "cell_type": "markdown",
   "metadata": {},
   "source": [
    "First we instantiate 2 classes. One for the privatized data and one for the non privatized data. We will only run them for the 'Simple1' RNN model to keep things simple. Ba Dum Tss! Similarly we will only look at the 'ethnoracial group' target."
   ]
  },
  {
   "cell_type": "code",
   "execution_count": null,
   "metadata": {},
   "outputs": [],
   "source": [
    "RNN_model = 'Simple1' # You can change it to 'GRU1' or 'LSTM1' if you like\n",
    "target = 'ethnoracial group' # You can change it to 'gender', 'international status', or 'socioeconomic status' if you like\n",
    "\n",
    "private_classifier = DTClassifier(privatization_type, RNN_model, target)\n",
    "private_classifier.read_data(100)\n",
    "private_classifier.split_data()"
   ]
  },
  {
   "cell_type": "markdown",
   "metadata": {},
   "source": [
    "Now that we have instantiated the class we need to find the best model. We will use a metric called cost complexity pruning to decide how to prune our tree to prevent overfitting."
   ]
  },
  {
   "cell_type": "code",
   "execution_count": null,
   "metadata": {},
   "outputs": [],
   "source": [
    "best_model, ccp_alpha = private_classifier.get_best_model(make_graphs=False) # Leave this input to prevent the graphs from being produced\n",
    "print(best_model)"
   ]
  },
  {
   "cell_type": "markdown",
   "metadata": {},
   "source": [
    "What does this best model look like? Let's print out the decision tree to see for ourselves."
   ]
  },
  {
   "cell_type": "code",
   "execution_count": null,
   "metadata": {},
   "outputs": [],
   "source": [
    "private_classifier.plotter(model=best_model, show_fig=True)"
   ]
  },
  {
   "cell_type": "markdown",
   "metadata": {},
   "source": [
    "Now that we have the best ccp alpha let us run that model and get the classification report."
   ]
  },
  {
   "cell_type": "code",
   "execution_count": null,
   "metadata": {},
   "outputs": [],
   "source": [
    "private_classifier.run_model(ccp_alpha=ccp_alpha, print_report=True, save_files=False, plot_files=False, get_shap=False) # Leave as is to prevent the graphs from being produced"
   ]
  }
 ],
 "metadata": {
  "kernelspec": {
   "display_name": "Python (SummerREU2024)",
   "language": "python",
   "name": "myenv"
  },
  "language_info": {
   "codemirror_mode": {
    "name": "ipython",
    "version": 3
   },
   "file_extension": ".py",
   "mimetype": "text/x-python",
   "name": "python",
   "nbconvert_exporter": "python",
   "pygments_lexer": "ipython3",
   "version": "3.11.9"
  }
 },
 "nbformat": 4,
 "nbformat_minor": 2
}
