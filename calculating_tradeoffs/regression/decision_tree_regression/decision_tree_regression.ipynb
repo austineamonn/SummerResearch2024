{
 "cells": [
  {
   "cell_type": "markdown",
   "metadata": {},
   "source": [
    "Make a decision tree for regression to calculate the utility columns"
   ]
  }
 ],
 "metadata": {
  "language_info": {
   "name": "python"
  }
 },
 "nbformat": 4,
 "nbformat_minor": 2
}
